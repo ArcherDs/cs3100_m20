{
 "cells": [
  {
   "cell_type": "markdown",
   "metadata": {
    "slideshow": {
     "slide_type": "slide"
    }
   },
   "source": [
    "<center>\n",
    "\n",
    "<h1> Programming with Lists </h1>\n",
    "<h2> CS3100 Fall 2019 </h2>\n",
    "</center>"
   ]
  },
  {
   "cell_type": "markdown",
   "metadata": {
    "slideshow": {
     "slide_type": "slide"
    }
   },
   "source": [
    "## Review\n",
    "\n",
    "### Previously\n",
    "\n",
    "* Solving a logic puzzle\n",
    "\n",
    "### This lecture\n",
    "\n",
    "* Programming with Lists\n",
    "* And many concepts in the process\n",
    "  + Arithmetic\n",
    "  + Last call optimisation\n",
    "  + Backtracking & Choice points."
   ]
  },
  {
   "cell_type": "markdown",
   "metadata": {
    "slideshow": {
     "slide_type": "slide"
    }
   },
   "source": [
    "## Trouble with Zebras\n",
    "\n",
    "* Our zebra puzzle only works with 5 houses.\n",
    "  + Problem is the 5-tuple `(H1,H2,H3,H4,H5)`.\n",
    "* Need to rewrite the entire program if more houses were added.\n",
    "* What we really need is lists..."
   ]
  },
  {
   "cell_type": "markdown",
   "metadata": {
    "slideshow": {
     "slide_type": "slide"
    }
   },
   "source": [
    "## Support for lists in Prolog\n",
    "\n",
    "* Notated with square brackets `[1,2,3,4]`.\n",
    "* The empty list is `[]`.\n",
    "* List pattern matching is `[H | T]`, where `H` is a list element and `T` is a list.\n",
    "  + Can also match `[1,2,3 | T]`.\n"
   ]
  },
  {
   "cell_type": "markdown",
   "metadata": {
    "slideshow": {
     "slide_type": "slide"
    }
   },
   "source": [
    "## Finding the last element of the list"
   ]
  },
  {
   "cell_type": "code",
   "execution_count": 2,
   "metadata": {},
   "outputs": [
    {
     "name": "stdout",
     "output_type": "stream",
     "text": [
      "Added 2 rule(s)."
     ]
    }
   ],
   "source": [
    "last([H],H).\n",
    "last([_ | T], V) :- last(T, V)."
   ]
  },
  {
   "cell_type": "code",
   "execution_count": 3,
   "metadata": {
    "scrolled": true
   },
   "outputs": [
    {
     "name": "stdout",
     "output_type": "stream",
     "text": [
      "X = 2 ."
     ]
    }
   ],
   "source": [
    "?- last([1,2],X)."
   ]
  },
  {
   "cell_type": "markdown",
   "metadata": {
    "slideshow": {
     "slide_type": "slide"
    }
   },
   "source": [
    "## Tracing the example by hand\n",
    "\n",
    "    last([1,2],X)."
   ]
  },
  {
   "cell_type": "markdown",
   "metadata": {
    "slideshow": {
     "slide_type": "slide"
    }
   },
   "source": [
    "## Tracing the example in SWI-Prolog\n",
    "\n",
    "    last ([1,2],X)"
   ]
  },
  {
   "cell_type": "markdown",
   "metadata": {
    "slideshow": {
     "slide_type": "slide"
    }
   },
   "source": [
    "## Quiz\n",
    "\n",
    "What happens if I ask for `last([],X)`?\n",
    "\n",
    "1. pattern match exception\n",
    "2. Prolog says false.\n",
    "3. Prolog says true, X = [].\n",
    "4. Prolog says true, X = ???."
   ]
  },
  {
   "cell_type": "markdown",
   "metadata": {
    "slideshow": {
     "slide_type": "slide"
    }
   },
   "source": [
    "## Quiz\n",
    "\n",
    "What happens if I ask for `last([],X)`?\n",
    "\n",
    "1. pattern match exception\n",
    "2. Prolog says false. **✓**\n",
    "3. Prolog says true, X = [].\n",
    "4. Prolog says true, X = ???."
   ]
  },
  {
   "cell_type": "markdown",
   "metadata": {
    "slideshow": {
     "slide_type": "slide"
    }
   },
   "source": [
    "## Arithmetic\n",
    "\n",
    "* How do we compute the length of the list?\n",
    "  + We need support for arithmetic. \n",
    "* Arithmetic is quite natural in imperative and functional paradigms.\n",
    "  + Since computation is deduction in logic programming, arithmetic is quite special."
   ]
  },
  {
   "cell_type": "markdown",
   "metadata": {
    "slideshow": {
     "slide_type": "slide"
    }
   },
   "source": [
    "## Arithmetic equality != Unification\n",
    "\n",
    "`=` operator is used up by unification."
   ]
  },
  {
   "cell_type": "code",
   "execution_count": 4,
   "metadata": {},
   "outputs": [
    {
     "name": "stdout",
     "output_type": "stream",
     "text": [
      "A = +(1, 2) ."
     ]
    }
   ],
   "source": [
    "?- A = 1+2."
   ]
  },
  {
   "cell_type": "code",
   "execution_count": 5,
   "metadata": {},
   "outputs": [
    {
     "name": "stdout",
     "output_type": "stream",
     "text": [
      "false."
     ]
    }
   ],
   "source": [
    "?- 1+2 = 3."
   ]
  },
  {
   "cell_type": "code",
   "execution_count": 6,
   "metadata": {},
   "outputs": [
    {
     "name": "stdout",
     "output_type": "stream",
     "text": [
      "A = +(money, power) ."
     ]
    }
   ],
   "source": [
    "?- A = money+power."
   ]
  },
  {
   "cell_type": "markdown",
   "metadata": {
    "slideshow": {
     "slide_type": "slide"
    }
   },
   "source": [
    "## Use the `is` operator\n",
    "\n",
    "The “is” operator tells prolog to evaluate the righthand expression numerically and unify with the left."
   ]
  },
  {
   "cell_type": "code",
   "execution_count": 7,
   "metadata": {},
   "outputs": [
    {
     "name": "stdout",
     "output_type": "stream",
     "text": [
      "A = 3 ."
     ]
    }
   ],
   "source": [
    "?- A is 1+2."
   ]
  },
  {
   "cell_type": "code",
   "execution_count": 8,
   "metadata": {},
   "outputs": [
    {
     "name": "stdout",
     "output_type": "stream",
     "text": [
      "ERROR: Caused by: '  A is money+power'. Returned: 'error(type_error(evaluable, /(power, 0)), context(:(system, /(is, 2)), _G977))'."
     ]
    }
   ],
   "source": [
    "?- A is money+power."
   ]
  },
  {
   "cell_type": "markdown",
   "metadata": {
    "slideshow": {
     "slide_type": "slide"
    }
   },
   "source": [
    "## Restriction on `is` operator\n",
    "\n",
    "The RHS must be a ground term (no variables)."
   ]
  },
  {
   "cell_type": "code",
   "execution_count": 9,
   "metadata": {},
   "outputs": [
    {
     "name": "stdout",
     "output_type": "stream",
     "text": [
      "ERROR: Caused by: '  A is B+2'. Returned: 'error(instantiation_error, context(:(system, /(is, 2)), _G1050))'."
     ]
    }
   ],
   "source": [
    "?- A is B+2."
   ]
  },
  {
   "cell_type": "code",
   "execution_count": 10,
   "metadata": {},
   "outputs": [
    {
     "name": "stdout",
     "output_type": "stream",
     "text": [
      "ERROR: Caused by: '  3 is B+2'. Returned: 'error(instantiation_error, context(:(system, /(is, 2)), _G1117))'."
     ]
    }
   ],
   "source": [
    "?- 3 is B+2."
   ]
  },
  {
   "cell_type": "markdown",
   "metadata": {
    "slideshow": {
     "slide_type": "slide"
    }
   },
   "source": [
    "## Quiz\n",
    "\n",
    "What is the result of `A is *(3,+(1,2))?`\n",
    "\n",
    "1. Error\n",
    "2. 9\n",
    "3. 8\n",
    "4. 6"
   ]
  },
  {
   "cell_type": "markdown",
   "metadata": {
    "slideshow": {
     "slide_type": "slide"
    }
   },
   "source": [
    "## Length of list"
   ]
  },
  {
   "cell_type": "code",
   "execution_count": 11,
   "metadata": {},
   "outputs": [
    {
     "name": "stdout",
     "output_type": "stream",
     "text": [
      "Added 2 rule(s)."
     ]
    }
   ],
   "source": [
    "len([],0).\n",
    "len([_ | T], N) :- len(T,M), N is M+1."
   ]
  },
  {
   "cell_type": "code",
   "execution_count": 12,
   "metadata": {},
   "outputs": [
    {
     "name": "stdout",
     "output_type": "stream",
     "text": [
      "X = 3 ."
     ]
    }
   ],
   "source": [
    "?- len([1,2,3],X)."
   ]
  },
  {
   "cell_type": "markdown",
   "metadata": {
    "slideshow": {
     "slide_type": "slide"
    }
   },
   "source": [
    "## Last call optimisation\n",
    "\n",
    "* `len` uses O(N) stack space."
   ]
  },
  {
   "cell_type": "markdown",
   "metadata": {
    "slideshow": {
     "slide_type": "slide"
    }
   },
   "source": [
    "## Trace `len` by hand\n",
    "    \n",
    "    ?- len([1,2],X)"
   ]
  },
  {
   "cell_type": "markdown",
   "metadata": {
    "slideshow": {
     "slide_type": "slide"
    }
   },
   "source": [
    "## Tail recursive length"
   ]
  },
  {
   "cell_type": "code",
   "execution_count": 12,
   "metadata": {},
   "outputs": [
    {
     "name": "stdout",
     "output_type": "stream",
     "text": [
      "Added 2 rule(s)."
     ]
    }
   ],
   "source": [
    "len2([],Acc,Acc).\n",
    "len2([H|T],Acc,N) :- M is Acc+1, len2(T,M,N)."
   ]
  },
  {
   "cell_type": "code",
   "execution_count": 13,
   "metadata": {
    "scrolled": true
   },
   "outputs": [
    {
     "name": "stdout",
     "output_type": "stream",
     "text": [
      "X = 2 ."
     ]
    }
   ],
   "source": [
    "?- len2([1,2],0,X)."
   ]
  },
  {
   "cell_type": "markdown",
   "metadata": {
    "slideshow": {
     "slide_type": "slide"
    }
   },
   "source": [
    "## Trace `len2` by hand.\n",
    "\n",
    "    ?- len2([1,2],0,X)."
   ]
  },
  {
   "cell_type": "markdown",
   "metadata": {
    "slideshow": {
     "slide_type": "slide"
    }
   },
   "source": [
    "## Predicate Overloading"
   ]
  },
  {
   "cell_type": "code",
   "execution_count": 14,
   "metadata": {},
   "outputs": [
    {
     "name": "stdout",
     "output_type": "stream",
     "text": [
      "Added 1 rule(s)."
     ]
    }
   ],
   "source": [
    "len2(L,X) :- len2(L,0,X)."
   ]
  },
  {
   "cell_type": "code",
   "execution_count": 15,
   "metadata": {
    "scrolled": true
   },
   "outputs": [
    {
     "name": "stdout",
     "output_type": "stream",
     "text": [
      "X = 3 ."
     ]
    }
   ],
   "source": [
    "?- len2([1,2,3],X)."
   ]
  },
  {
   "cell_type": "markdown",
   "metadata": {
    "slideshow": {
     "slide_type": "slide"
    }
   },
   "source": [
    "## Last Call Optimisation\n",
    "\n",
    "* This technique is applied by the prolog interpreter\n",
    "* The last clause of the rule is executed as a branch and not a call\n",
    "* We can only do this if the rule is **determinate** up to that point\n",
    "  + No further choices for the rule\n",
    "  + Relates to **backtracking** (to be seen)."
   ]
  },
  {
   "cell_type": "markdown",
   "metadata": {
    "slideshow": {
     "slide_type": "slide"
    }
   },
   "source": [
    "## List append"
   ]
  },
  {
   "cell_type": "code",
   "execution_count": 16,
   "metadata": {},
   "outputs": [
    {
     "name": "stdout",
     "output_type": "stream",
     "text": [
      "Added 2 rule(s)."
     ]
    }
   ],
   "source": [
    "append([],L2,L2).\n",
    "append([H | T1], L2, [H | L]) :- append(T1, L2, L)."
   ]
  },
  {
   "cell_type": "code",
   "execution_count": 22,
   "metadata": {},
   "outputs": [
    {
     "name": "stdout",
     "output_type": "stream",
     "text": [
      "Y = [ 3, 4 ] ."
     ]
    }
   ],
   "source": [
    "?- append([1,2],Y,[1,2,3,4])."
   ]
  },
  {
   "cell_type": "markdown",
   "metadata": {
    "slideshow": {
     "slide_type": "slide"
    }
   },
   "source": [
    "## Prefix and Suffix\n",
    "\n",
    "Prefix and Suffix of list can be defined using append."
   ]
  },
  {
   "cell_type": "code",
   "execution_count": 18,
   "metadata": {},
   "outputs": [
    {
     "name": "stdout",
     "output_type": "stream",
     "text": [
      "Added 2 rule(s)."
     ]
    }
   ],
   "source": [
    "prefix(X,Z) :- append(X,Y,Z).\n",
    "suffix(Y,Z) :- append(X,Y,Z)."
   ]
  },
  {
   "cell_type": "markdown",
   "metadata": {
    "slideshow": {
     "slide_type": "slide"
    }
   },
   "source": [
    "## Prefix and Suffix"
   ]
  },
  {
   "cell_type": "code",
   "execution_count": 19,
   "metadata": {},
   "outputs": [
    {
     "name": "stdout",
     "output_type": "stream",
     "text": [
      "X = [  ] ;\n",
      "X = [ 1 ] ;\n",
      "X = [ 1, 2 ] ;\n",
      "X = [ 1, 2, 3 ] ."
     ]
    }
   ],
   "source": [
    "?- prefix(X,[1,2,3])."
   ]
  },
  {
   "cell_type": "code",
   "execution_count": 20,
   "metadata": {},
   "outputs": [
    {
     "name": "stdout",
     "output_type": "stream",
     "text": [
      "X = [ 1, 2, 3 ] ;\n",
      "X = [ 2, 3 ] ;\n",
      "X = [ 3 ] ;\n",
      "X = [  ] ."
     ]
    }
   ],
   "source": [
    "?- suffix(X,[1,2,3])."
   ]
  },
  {
   "cell_type": "markdown",
   "metadata": {
    "slideshow": {
     "slide_type": "slide"
    }
   },
   "source": [
    "## Backtracking\n",
    "\n",
    "The way prolog fetches multiple results for the given query is through Backtracking. "
   ]
  },
  {
   "cell_type": "markdown",
   "metadata": {
    "slideshow": {
     "slide_type": "slide"
    }
   },
   "source": [
    "## Trace `prefix` by hand\n",
    "\n",
    "    ?- prefix([1,2],X)."
   ]
  },
  {
   "cell_type": "markdown",
   "metadata": {
    "slideshow": {
     "slide_type": "slide"
    }
   },
   "source": [
    "## Choice Points\n",
    "\n",
    "* Prolog backtracks by recording choice points.\n",
    "* Choice points are locations in the search where we could take another option.\n",
    "* If there are no choice points left then don't offer the user any more answers"
   ]
  },
  {
   "cell_type": "markdown",
   "metadata": {
    "slideshow": {
     "slide_type": "slide"
    }
   },
   "source": [
    "## Quiz\n",
    "\n",
    "What is the first result of query `len(A,2)`?\n",
    "\n",
    "1. Error due uninstantiated arithmetic expression.\n",
    "2. A = [\\_,\\_]\n",
    "3. Query runs forever\n",
    "4. Error due to invalid arguments"
   ]
  },
  {
   "cell_type": "markdown",
   "metadata": {
    "slideshow": {
     "slide_type": "slide"
    }
   },
   "source": [
    "## Quiz\n",
    "\n",
    "What is the first result of query `len(A,2)`?\n",
    "\n",
    "1. Error due uninstantiated arithmetic expression.\n",
    "2. A = [\\_,\\_] **✓**\n",
    "3. Query runs forever\n",
    "4. Error due to invalid arguments"
   ]
  },
  {
   "cell_type": "markdown",
   "metadata": {
    "slideshow": {
     "slide_type": "slide"
    }
   },
   "source": [
    "## Trace `len` by hand\n",
    "\n",
    "    ?- len(A,2)"
   ]
  },
  {
   "cell_type": "markdown",
   "metadata": {
    "slideshow": {
     "slide_type": "slide"
    }
   },
   "source": [
    "## Quiz\n",
    "\n",
    "What is the second result of query `len(A,2)`?\n",
    "\n",
    "1. Error due uninstantiated arithmetic expression.\n",
    "2. A = [\\_,\\_] \n",
    "3. Query runs forever\n",
    "4. Error due to invalid arguments"
   ]
  },
  {
   "cell_type": "markdown",
   "metadata": {
    "slideshow": {
     "slide_type": "slide"
    }
   },
   "source": [
    "## Quiz\n",
    "\n",
    "What is the second result of query `len(A,2)`?\n",
    "\n",
    "1. Error due uninstantiated arithmetic expression.\n",
    "2. A = [\\_,\\_] \n",
    "3. Query runs forever **✓**\n",
    "4. Error due to invalid arguments"
   ]
  },
  {
   "cell_type": "markdown",
   "metadata": {
    "slideshow": {
     "slide_type": "slide"
    }
   },
   "source": [
    "## Trace `len` by hand\n",
    "\n",
    "    ?- len(A,2)"
   ]
  },
  {
   "cell_type": "markdown",
   "metadata": {
    "slideshow": {
     "slide_type": "slide"
    }
   },
   "source": [
    "## Limiting the number of results"
   ]
  },
  {
   "cell_type": "code",
   "execution_count": 21,
   "metadata": {
    "scrolled": true
   },
   "outputs": [
    {
     "name": "stdout",
     "output_type": "stream",
     "text": [
      "A = [ _G1097, _G1100 ] ."
     ]
    }
   ],
   "source": [
    "?- len(A,2) {1}."
   ]
  },
  {
   "cell_type": "markdown",
   "metadata": {
    "slideshow": {
     "slide_type": "slide"
    }
   },
   "source": [
    "<center>\n",
    "\n",
    "<h1> Fin. </h1>\n",
    "</center>"
   ]
  }
 ],
 "metadata": {
  "celltoolbar": "Slideshow",
  "kernelspec": {
   "display_name": "SWI-Prolog",
   "language": "",
   "name": "jswipl"
  },
  "language_info": {
   "mimetype": "text/plain",
   "name": "swipl"
  }
 },
 "nbformat": 4,
 "nbformat_minor": 2
}
