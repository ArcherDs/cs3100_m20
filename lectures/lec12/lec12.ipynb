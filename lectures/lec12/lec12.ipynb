{
 "cells": [
  {
   "cell_type": "markdown",
   "metadata": {
    "slideshow": {
     "slide_type": "slide"
    }
   },
   "source": [
    "<center>\n",
    "\n",
    "<h1 style=\"text-align:center\"> Polymorphic Lambda Calculus: System F </h1>\n",
    "<h2 style=\"text-align:center\"> CS3100 Fall 2019 </h2>\n",
    "</center>"
   ]
  },
  {
   "cell_type": "markdown",
   "metadata": {
    "slideshow": {
     "slide_type": "slide"
    }
   },
   "source": [
    "## Review\n",
    "\n",
    "### Previously\n",
    "\n",
    "* Simply Typed Lambda Calulus.\n",
    "  + Products, Sums, Type Soundness\n",
    "  + Curry Howard Correspondence\n",
    "  + Type Erasure\n",
    "\n",
    "### Today\n",
    "\n",
    "* System F: Polymorphic Lambda Calculus\n",
    "\n",
    "$\n",
    "\\newcommand{\\stlc}{\\lambda^{\\rightarrow}}\n",
    "\\require{color}\n",
    "\\newcommand{\\c}[2]{{\\color{#1}{\\text{#2}}}}\n",
    "$"
   ]
  },
  {
   "cell_type": "markdown",
   "metadata": {
    "slideshow": {
     "slide_type": "slide"
    }
   },
   "source": [
    "## Doubling functions\n",
    "\n",
    "In simply typed lambda calculus, the `twice f x = f (f x)` function must be specified at every type:\n",
    "\n",
    "$\n",
    "twice\\_unit = \\lambda f:1 \\rightarrow 1.\\lambda x:1. f~(f ~x) \\\\\n",
    "twice\\_sum = \\lambda f: A+B \\rightarrow A+B.\\lambda x:A+B. f~(f ~x) \\\\\n",
    "twice\\_a2a = \\lambda f: (A \\rightarrow A) \\rightarrow (A \\rightarrow A). \\lambda x:A \\rightarrow A. f ~(f ~x)\n",
    "$\n",
    "\n",
    "Clearly this copy-pasting of code and changing the type violates the basic dictum of software engineering:\n",
    "\n",
    "**Abstraction Principle:** Each significant piece of functionality in a program should be implemented in just one place in the source code."
   ]
  },
  {
   "cell_type": "markdown",
   "metadata": {
    "slideshow": {
     "slide_type": "slide"
    }
   },
   "source": [
    "## Universal Type\n",
    "\n",
    "* System F (polymorphic lambda calculus) is obtained by extending Curry Howard isomorphism to $\\forall$.\n",
    "* System F has dedicated syntax for type and term families such as `twice`:\n",
    "  + The System F term $\\Lambda \\alpha.\\lambda f: \\alpha \\rightarrow \\alpha.\\lambda x:\\alpha.f ~(f ~x))$ has type $\\forall \\alpha.(\\alpha \\rightarrow \\alpha) \\rightarrow \\alpha \\rightarrow \\alpha$.\n",
    "* $\\Lambda \\alpha.M$ is called a **type abstraction**.\n",
    "  + Correspondingly, we also have a **type application** of the form $M A$, where $M$ is a term and $A$ is a type.\n",
    "* System F offers polymorphism\n",
    "  + $\\c{red}{But which kind?}$"
   ]
  },
  {
   "cell_type": "markdown",
   "metadata": {
    "slideshow": {
     "slide_type": "slide"
    }
   },
   "source": [
    "## Polymorphism\n",
    "\n",
    "Polymorphism comes in various kinds\n",
    "\n",
    "1. Ad-hoc polymorphism: \n",
    "   * function overloading (C++,Java)\n",
    "   * operator overloading (C++,Java,Standard ML, C)\n",
    "   * typeclasses (Haskell)\n",
    "2. Subtyping:\n",
    "   * subclasses (C++, Java, OCaml)\n",
    "   * Row polymorphism (OCaml)\n",
    "3. Parametric Polymorphism:\n",
    "   * polymorphic data and functions in OCaml, Haskell, Standard ML.\n",
    "   * Generics in Java, C#"
   ]
  },
  {
   "cell_type": "markdown",
   "metadata": {
    "slideshow": {
     "slide_type": "slide"
    }
   },
   "source": [
    "## Polymorphism\n",
    "\n",
    "* Unqualified term \"polymorphism\" means different things depending on who you talk to\n",
    "  + OO person: subtype polymorphism; parametric polymorphism is generics\n",
    "  + FP person: parametric polymorphism."
   ]
  },
  {
   "cell_type": "markdown",
   "metadata": {
    "slideshow": {
     "slide_type": "slide"
    }
   },
   "source": [
    "## Types\n",
    "\n",
    "Types in System F are as follows:\n",
    "\n",
    "\\\\[\n",
    "\\begin{array}{rcll}\n",
    "\\text{Types: } A,B & ::=  & \\alpha & \\text{(type variable)} \\\\\n",
    "                   & \\mid & A \\rightarrow B & \\text{(function type)} \\\\\n",
    "                   & \\mid & \\forall \\alpha.A & \\text{(universal type)}\n",
    "\\end{array}\n",
    "\\\\]\n",
    "\n",
    "* We have dropped pairs, sums, 1 (unit), 0 types from $\\lambda^{\\rightarrow}$\n",
    "  + Can be encoded!\n",
    "* Notice the symmetry to untyped lambda calculus terms."
   ]
  },
  {
   "cell_type": "markdown",
   "metadata": {
    "slideshow": {
     "slide_type": "slide"
    }
   },
   "source": [
    "## Free Type Variables\n",
    "\n",
    "We define free type variables on System F types similar to free variables on lambda terms.\n",
    "\n",
    "\\\\[\n",
    "\\begin{array}{rcl}\n",
    "FTV(\\alpha) & = & \\alpha \\\\\n",
    "FTV(A \\rightarrow B) & = & FTV(A) \\cup FTV(B) \\\\\n",
    "FTV(\\forall \\alpha.A) & = & FTV(A) \\setminus \\{\\alpha\\}\n",
    "\\end{array}\n",
    "\\\\]"
   ]
  },
  {
   "cell_type": "markdown",
   "metadata": {
    "slideshow": {
     "slide_type": "slide"
    }
   },
   "source": [
    "## Terms\n",
    "\n",
    "\\\\[\n",
    "\\begin{array}{rcll}\n",
    "\\text{Terms: } M,N & ::=  & x & \\text{(variable)} \\\\\n",
    "                   & \\mid & M~N & \\text{(application)} \\\\\n",
    "                   & \\mid & M~[A] & \\text{(type application)} \\\\\n",
    "                   & \\mid & \\lambda x:A.M & \\text{(abstraction)} \\\\\n",
    "                   & \\mid & \\Lambda \\alpha.M & \\text{(type abstraction)}\n",
    "\\end{array}\n",
    "\\\\]\n",
    "\n",
    "$\\newcommand{\\inferrule}[2]{\\displaystyle{\\frac{#1}{#2}}}$"
   ]
  },
  {
   "cell_type": "markdown",
   "metadata": {
    "slideshow": {
     "slide_type": "slide"
    }
   },
   "source": [
    "## Substitution\n",
    "\n",
    "### For terms\n",
    "\n",
    "If $M$ is a term, $N$ a term, and $x$ a variable, we write $M[N/x]$ for capture-free substitution of $N$ for $x$ in $M$.\n",
    "\n",
    "### For types\n",
    "\n",
    "If $M$ is a term, $B$ a type, and $\\alpha$ a type variable, we write $M[B/\\alpha]$ for capture-free substitution of $B$ for $\\alpha$ in $M$.\n"
   ]
  },
  {
   "cell_type": "markdown",
   "metadata": {
    "slideshow": {
     "slide_type": "slide"
    }
   },
   "source": [
    "## Reduction: Boring Rules\n",
    "\n",
    "\\\\[\n",
    "\\begin{array}{ccc}\n",
    "\\inferrule{M \\rightarrow M'}{M~N \\rightarrow M'~N} & \n",
    "\\inferrule{N \\rightarrow N'}{M~N \\rightarrow M~N'} &\n",
    "\\inferrule{M \\rightarrow M'}{\\lambda x.M \\rightarrow \\lambda x.M'}\n",
    "\\end{array}\n",
    "\\\\]\n",
    "\n",
    "\\\\[\n",
    "\\begin{array}{cc}\n",
    "\\inferrule{M \\rightarrow M'}{M~A \\rightarrow M'~A} &\n",
    "\\inferrule{M \\rightarrow M'}{\\Lambda \\alpha.M \\rightarrow \\Lambda \\alpha.M'}\n",
    "\\end{array}\n",
    "\\\\]"
   ]
  },
  {
   "cell_type": "markdown",
   "metadata": {
    "slideshow": {
     "slide_type": "slide"
    }
   },
   "source": [
    "## Reductions: Interesting Rules\n",
    "\n",
    "\\\\[\n",
    "\\begin{array}{rcl}\n",
    "(\\lambda x:A.M) ~N       & \\rightarrow & M[N/x] \\\\\n",
    "(\\Lambda \\alpha.M) ~A    & \\rightarrow & M[A/\\alpha] \\\\\n",
    "\\lambda x:A.M ~x         & \\rightarrow & \\lambda M \\quad \\text{, if } x \\notin FV(M) \\\\\n",
    "\\lambda \\alpha.M ~\\alpha & \\rightarrow & \\lambda M \\quad \\text{, if } \\alpha \\notin FTV(M)\n",
    "\\end{array}\n",
    "\\\\]"
   ]
  },
  {
   "cell_type": "markdown",
   "metadata": {
    "slideshow": {
     "slide_type": "slide"
    }
   },
   "source": [
    "## Encodings : Booleans\n",
    "\n",
    "In untyped lambda calculus, `tru` and `fls` values were:\n",
    "\n",
    "```ocaml\n",
    "tru = 𝜆t.𝜆f.t\n",
    "fls = 𝜆t.𝜆f.f\n",
    "```\n",
    "\n",
    "In simply typed lambda calculus, there was a `tru` and `fls` for each type:\n",
    "\n",
    "```ocaml\n",
    "tru_int = 𝜆t:int.𝜆f:int.t\n",
    "tru_bool = 𝜆t:float.𝜆f:float.t\n",
    "```"
   ]
  },
  {
   "cell_type": "markdown",
   "metadata": {
    "slideshow": {
     "slide_type": "slide"
    }
   },
   "source": [
    "## Encoding Booleans\n",
    "\n",
    "In System F, there is a single polymorphic `tru` and `fls` values of type `bool`. We define the type `bool` and the booleans as\n",
    "\n",
    "\\\\[\n",
    "\\begin{array}{rcl}\n",
    "bool & = & \\forall \\alpha. \\alpha \\rightarrow \\alpha \\rightarrow \\alpha \\\\\n",
    "tru  & = & \\Lambda \\alpha. \\lambda t:\\alpha. \\lambda f:\\alpha. t \\\\\n",
    "fls  & = & \\Lambda \\alpha. \\lambda t:\\alpha. \\lambda f:\\alpha. f \\\\\n",
    "\\end{array}\n",
    "\\\\]\n",
    "\n",
    "Easy to see that the judgements $\\vdash tru : bool$ and $\\vdash fls : bool$ hold."
   ]
  },
  {
   "cell_type": "markdown",
   "metadata": {},
   "source": [
    "## Encoding boolean operations\n",
    "\n",
    "`test` function is defined as:\n",
    "\n",
    "\\\\[\n",
    "\\begin{array}{rcl}\n",
    "test : \\forall \\alpha. bool \\rightarrow \\alpha \\rightarrow \\alpha \\rightarrow \\alpha \\\\\n",
    "test = \\Lambda \\alpha. \\lambda b : bool. b~\\alpha\n",
    "\\end{array}\n",
    "\\\\]\n",
    "\n",
    "Notice the application of $b$ to $\\alpha$ above. \n",
    "\n",
    "We can define logical operators as follows:\n",
    "\n",
    "\\\\[\n",
    "\\begin{array}{rcl}\n",
    "and & = & \\lambda x:bool.\\lambda y:bool.x ~bool ~y ~fls \\\\\n",
    "or  & = & \\lambda x:bool.\\lambda y:bool.x ~bool ~tru ~y \\\\\n",
    "not & = & \\lambda x:bool.x ~bool ~fls ~tru \n",
    "\\end{array}\n",
    "\\\\]"
   ]
  },
  {
   "cell_type": "markdown",
   "metadata": {
    "slideshow": {
     "slide_type": "slide"
    }
   },
   "source": [
    "## Encoding natural numbers"
   ]
  }
 ],
 "metadata": {
  "celltoolbar": "Slideshow",
  "kernelspec": {
   "display_name": "OCaml 4.07.1",
   "language": "OCaml",
   "name": "ocaml-jupyter"
  },
  "language_info": {
   "codemirror_mode": "text/x-ocaml",
   "file_extension": ".ml",
   "mimetype": "text/x-ocaml",
   "name": "OCaml",
   "nbconverter_exporter": null,
   "pygments_lexer": "OCaml",
   "version": "4.07.1"
  }
 },
 "nbformat": 4,
 "nbformat_minor": 2
}
