{
 "cells": [
  {
   "cell_type": "markdown",
   "metadata": {
    "slideshow": {
     "slide_type": "slide"
    }
   },
   "source": [
    "<center>\n",
    "\n",
    "<h1 style=\"text-align:center\"> Polymorphic Lambda Calculus: System F </h1>\n",
    "<h2 style=\"text-align:center\"> CS3100 Fall 2019 </h2>\n",
    "</center>"
   ]
  },
  {
   "cell_type": "markdown",
   "metadata": {
    "slideshow": {
     "slide_type": "slide"
    }
   },
   "source": [
    "## Review\n",
    "\n",
    "### Previously\n",
    "\n",
    "* Simply Typed Lambda Calulus.\n",
    "  + Products, Sums, Type Soundness\n",
    "  + Curry Howard Correspondence\n",
    "  + Type Erasure\n",
    "\n",
    "### Today\n",
    "\n",
    "* System F: Polymorphic Lambda Calculus\n",
    "\n",
    "$\n",
    "\\newcommand{\\stlc}{\\lambda^{\\rightarrow}}\n",
    "\\require{color}\n",
    "\\newcommand{\\c}[2]{{\\color{#1}{\\text{#2}}}}\n",
    "$"
   ]
  },
  {
   "cell_type": "markdown",
   "metadata": {
    "slideshow": {
     "slide_type": "slide"
    }
   },
   "source": [
    "## Doubling functions\n",
    "\n",
    "In simply typed lambda calculus, the `twice f x = f (f x)` function must be specified at every type:\n",
    "\n",
    "$\n",
    "twice\\_unit = \\lambda f:1 \\rightarrow 1.\\lambda x:1. f~(f ~x) \\\\\n",
    "twice\\_sum = \\lambda f: A+B \\rightarrow A+B.\\lambda x:A+B. f~(f ~x) \\\\\n",
    "twice\\_a2a = \\lambda f: (A \\rightarrow A) \\rightarrow (A \\rightarrow A). \\lambda x:A \\rightarrow A. f ~(f ~x)\n",
    "$\n",
    "\n",
    "Clearly this copy-pasting of code and changing the type violates the basic dictum of software engineering:\n",
    "\n",
    "**Abstraction Principle:** Each significant piece of functionality in a program should be implemented in just one place in the source code."
   ]
  },
  {
   "cell_type": "markdown",
   "metadata": {
    "slideshow": {
     "slide_type": "slide"
    }
   },
   "source": [
    "## Universal Type\n",
    "\n",
    "* System F (polymorphic lambda calculus) is obtained by extending Curry Howard isomorphism to $\\forall$.\n",
    "* System F has dedicated syntax for type and term families such as `twice`:\n",
    "  + The System F term $\\Lambda \\alpha.\\lambda f: \\alpha \\rightarrow \\alpha.\\lambda x:\\alpha.f ~(f ~x))$ has type $\\forall \\alpha.(\\alpha \\rightarrow \\alpha) \\rightarrow \\alpha \\rightarrow \\alpha$.\n",
    "* $\\Lambda \\alpha.M$ is called a **type abstraction**.\n",
    "  + Correspondingly, we also have a **type application** of the form $M A$, where $M$ is a term and $A$ is a type.\n",
    "* System F offers polymorphism\n",
    "  + $\\c{red}{But which kind?}$"
   ]
  },
  {
   "cell_type": "markdown",
   "metadata": {
    "slideshow": {
     "slide_type": "slide"
    }
   },
   "source": [
    "## Polymorphism\n",
    "\n",
    "Polymorphism comes in various kinds\n",
    "\n",
    "1. Ad-hoc polymorphism: \n",
    "   * function overloading (C++,Java)\n",
    "   * operator overloading (C++,Java,Standard ML, C)\n",
    "   * typeclasses (Haskell)\n",
    "2. Subtyping:\n",
    "   * subclasses (C++, Java, OCaml)\n",
    "   * Row polymorphism (OCaml)\n",
    "3. Parametric Polymorphism:\n",
    "   * polymorphic data and functions in OCaml, Haskell, Standard ML.\n",
    "   * Generics in Java, C#"
   ]
  },
  {
   "cell_type": "markdown",
   "metadata": {
    "slideshow": {
     "slide_type": "slide"
    }
   },
   "source": [
    "## Polymorphism\n",
    "\n",
    "* Unqualified term \"polymorphism\" means different things depending on who you talk to\n",
    "  + OO person: subtype polymorphism; parametric polymorphism is generics\n",
    "  + FP person: parametric polymorphism."
   ]
  },
  {
   "cell_type": "markdown",
   "metadata": {
    "slideshow": {
     "slide_type": "slide"
    }
   },
   "source": [
    "## Types\n",
    "\n",
    "Types in System F are as follows:\n",
    "\n",
    "\\\\[\n",
    "\\begin{array}{rcll}\n",
    "\\text{Types: } A,B & ::=  & \\alpha & \\text{(type variable)} \\\\\n",
    "                   & \\mid & A \\rightarrow B & \\text{(function type)} \\\\\n",
    "                   & \\mid & \\forall \\alpha.A & \\text{(universal type)}\n",
    "\\end{array}\n",
    "\\\\]\n",
    "\n",
    "* We have dropped pairs, sums, 1 (unit), 0 types.\n",
    "  + Can be encoded!\n",
    "* Notice the symmetry to untyped lambda calculus terms."
   ]
  },
  {
   "cell_type": "markdown",
   "metadata": {
    "slideshow": {
     "slide_type": "slide"
    }
   },
   "source": [
    "## Free Type Variables\n",
    "\n",
    "We define free type variables on System F types similar to free variables on lambda terms.\n",
    "\n",
    "\\\\[\n",
    "\\begin{array}{rcl}\n",
    "FTV(\\alpha) & = & \\alpha \\\\\n",
    "FTV(A \\rightarrow B) & = & FTV(A) \\cup FTV(B) \\\\\n",
    "FTV(\\forall \\alpha.A) & = & FTV(A) \\setminus \\{\\alpha\\}\n",
    "\\end{array}\n",
    "\\\\]"
   ]
  },
  {
   "cell_type": "markdown",
   "metadata": {
    "slideshow": {
     "slide_type": "slide"
    }
   },
   "source": [
    "## Terms\n",
    "\n",
    "\\\\[\n",
    "\\begin{array}{rcll}\n",
    "\\text{Terms: } M,N & ::=  & x & \\text{(variable)} \\\\\n",
    "                   & \\mid & M~N & \\text{(application)} \\\\\n",
    "                   & \\mid & M~[A] & \\text{(type application)} \\\\\n",
    "                   & \\mid & \\lambda x:A.M & \\text{(abstraction)} \\\\\n",
    "                   & \\mid & \\Lambda \\alpha.M & \\text{(type abstraction)}\n",
    "\\end{array}\n",
    "\\\\]\n",
    "\n",
    "### Substitution\n",
    "\n",
    "If $M$ is a term, $B$ a type, and $\\alpha$ a type variable, we write $M[B/\\alpha]$ for capture-free substitution of $B$ for $\\alpha$ in $M$."
   ]
  }
 ],
 "metadata": {
  "celltoolbar": "Slideshow",
  "kernelspec": {
   "display_name": "OCaml 4.07.1",
   "language": "OCaml",
   "name": "ocaml-jupyter"
  },
  "language_info": {
   "codemirror_mode": "text/x-ocaml",
   "file_extension": ".ml",
   "mimetype": "text/x-ocaml",
   "name": "OCaml",
   "nbconverter_exporter": null,
   "pygments_lexer": "OCaml",
   "version": "4.07.1"
  }
 },
 "nbformat": 4,
 "nbformat_minor": 2
}
