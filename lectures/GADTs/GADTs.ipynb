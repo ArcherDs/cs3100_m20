{
 "cells": [
  {
   "cell_type": "markdown",
   "metadata": {
    "slideshow": {
     "slide_type": "slide"
    }
   },
   "source": [
    "<center>\n",
    "\n",
    "<h1 style=\"text-align:center\"> Generalized Algebraic Data Types </h1>\n",
    "<h2 style=\"text-align:center\"> CS3100 Fall 2019 </h2>\n",
    "</center>"
   ]
  },
  {
   "cell_type": "markdown",
   "metadata": {
    "slideshow": {
     "slide_type": "slide"
    }
   },
   "source": [
    "## Simple language\n",
    "\n",
    "Consider this simple language of integers and booleans"
   ]
  },
  {
   "cell_type": "code",
   "execution_count": 77,
   "metadata": {},
   "outputs": [
    {
     "data": {
      "text/plain": [
       "type value = Int of int | Bool of bool\n"
      ]
     },
     "execution_count": 77,
     "metadata": {},
     "output_type": "execute_result"
    },
    {
     "data": {
      "text/plain": [
       "type expr =\n",
       "    Val of value\n",
       "  | Plus of expr * expr\n",
       "  | Mult of expr * expr\n",
       "  | Ite of expr * expr * expr\n"
      ]
     },
     "execution_count": 77,
     "metadata": {},
     "output_type": "execute_result"
    }
   ],
   "source": [
    "type value =\n",
    "  | Int of int\n",
    "  | Bool of bool\n",
    "\n",
    "type expr =\n",
    "  | Val of value\n",
    "  | Plus of expr * expr\n",
    "  | Mult of expr * expr\n",
    "  | Ite of expr * expr * expr"
   ]
  },
  {
   "cell_type": "markdown",
   "metadata": {
    "slideshow": {
     "slide_type": "slide"
    }
   },
   "source": [
    "## Evaluator for the simple language\n",
    "\n",
    "We can write a simple evaluator for this language"
   ]
  },
  {
   "cell_type": "code",
   "execution_count": 78,
   "metadata": {},
   "outputs": [
    {
     "name": "stderr",
     "output_type": "stream",
     "text": [
      "File \"[78]\", line 6, characters 4-62:\n",
      "Warning 8: this pattern-matching is not exhaustive.\n",
      "Here is an example of a case that is not matched:\n",
      "((Int _, Bool _)|(Bool _, _))\n",
      "File \"[78]\", line 9, characters 4-62:\n",
      "Warning 8: this pattern-matching is not exhaustive.\n",
      "Here is an example of a case that is not matched:\n",
      "((Int _, Bool _)|(Bool _, _))\n",
      "File \"[78]\", line 12, characters 4-61:\n",
      "Warning 8: this pattern-matching is not exhaustive.\n",
      "Here is an example of a case that is not matched:\n",
      "Int _\n"
     ]
    },
    {
     "data": {
      "text/plain": [
       "val eval : expr -> value = <fun>\n"
      ]
     },
     "execution_count": 78,
     "metadata": {},
     "output_type": "execute_result"
    }
   ],
   "source": [
    "let rec eval : expr -> value =\n",
    "  fun e -> match e with\n",
    "  | Val (Int i) -> Int i\n",
    "  | Val (Bool i) -> Bool i\n",
    "  | Plus (e1, e2) ->\n",
    "    let Int i1, Int i2 = eval e1, eval e2 in\n",
    "    Int (i1 + i2)\n",
    "  | Mult (e1, e2) ->\n",
    "    let Int i1, Int i2 = eval e1, eval e2 in\n",
    "    Int (i1 * i2)\n",
    "  | Ite (p,e1,e2) ->\n",
    "    let Bool b = eval p in\n",
    "    if b then eval e1 else eval e2  "
   ]
  },
  {
   "cell_type": "markdown",
   "metadata": {
    "slideshow": {
     "slide_type": "slide"
    }
   },
   "source": [
    "## Evaluator for the simple language\n",
    "\n",
    "* The compiler complains that programs such as `true + 10` is not handled.\n",
    "  + Our evaluator gets **stuck** when it encouters such an expression."
   ]
  },
  {
   "cell_type": "code",
   "execution_count": 63,
   "metadata": {},
   "outputs": [
    {
     "ename": "error",
     "evalue": "compile_error",
     "output_type": "error",
     "traceback": [
      "\u001b[32mFile \"[63]\", line 1, characters 18-29:\n\u001b[31mError: This expression has type bool val_\n       but an expression was expected of type int val_\n       Type bool is not compatible with type int \n\u001b[36m   1: \u001b[30meval @@ Plus (Val \u001b[4m(Bool true)\u001b[0m\u001b[30m, Val (Int 10))\u001b[0m\n"
     ]
    }
   ],
   "source": [
    "eval @@ Plus (Val (Bool true), Val (Int 10))"
   ]
  },
  {
   "cell_type": "markdown",
   "metadata": {
    "slideshow": {
     "slide_type": "-"
    }
   },
   "source": [
    "* We need **Types**\n",
    "  + Well-typed programs do not get stuck!"
   ]
  },
  {
   "cell_type": "markdown",
   "metadata": {
    "slideshow": {
     "slide_type": "slide"
    }
   },
   "source": [
    "## Phantom types\n",
    "\n",
    "* We can add types to our values using a technique called **phantom types**"
   ]
  },
  {
   "cell_type": "code",
   "execution_count": 79,
   "metadata": {},
   "outputs": [
    {
     "data": {
      "text/plain": [
       "type 'a value = Int of int | Bool of bool\n"
      ]
     },
     "execution_count": 79,
     "metadata": {},
     "output_type": "execute_result"
    }
   ],
   "source": [
    "type 'a value =\n",
    "  | Int of int\n",
    "  | Bool of bool"
   ]
  },
  {
   "cell_type": "markdown",
   "metadata": {},
   "source": [
    "* Observe that `'a` only appears on the LHS.\n",
    "  + This `'a` is called a phantom type variable.\n",
    "* What is this useful for?"
   ]
  },
  {
   "cell_type": "markdown",
   "metadata": {
    "slideshow": {
     "slide_type": "slide"
    }
   },
   "source": [
    "## Typed expression language\n",
    "\n",
    "We can add types to our expression language now using phantom type"
   ]
  },
  {
   "cell_type": "code",
   "execution_count": 80,
   "metadata": {},
   "outputs": [
    {
     "data": {
      "text/plain": [
       "type 'a expr =\n",
       "    Val of 'a value\n",
       "  | Plus of int expr * int expr\n",
       "  | Mult of int expr * int expr\n",
       "  | Ite of bool expr * 'a expr * 'a expr\n"
      ]
     },
     "execution_count": 80,
     "metadata": {},
     "output_type": "execute_result"
    },
    {
     "data": {
      "text/plain": [
       "val mk_int : int -> int expr = <fun>\n"
      ]
     },
     "execution_count": 80,
     "metadata": {},
     "output_type": "execute_result"
    },
    {
     "data": {
      "text/plain": [
       "val mk_bool : bool -> bool expr = <fun>\n"
      ]
     },
     "execution_count": 80,
     "metadata": {},
     "output_type": "execute_result"
    },
    {
     "data": {
      "text/plain": [
       "val plus : int expr -> int expr -> int expr = <fun>\n"
      ]
     },
     "execution_count": 80,
     "metadata": {},
     "output_type": "execute_result"
    },
    {
     "data": {
      "text/plain": [
       "val mult : int expr -> int expr -> int expr = <fun>\n"
      ]
     },
     "execution_count": 80,
     "metadata": {},
     "output_type": "execute_result"
    }
   ],
   "source": [
    "type 'a expr =\n",
    "  | Val of 'a value\n",
    "  | Plus of int expr * int expr\n",
    "  | Mult of int expr * int expr\n",
    "  | Ite of bool expr * 'a expr * 'a expr\n",
    "\n",
    "(* Assign concerte type to the phantom type variable 'a*)\n",
    "let mk_int i : int expr = Val (Int i)\n",
    "let mk_bool b : bool expr = Val (Bool b)\n",
    "let plus e1 e2 : int expr = Plus (e1, e2)\n",
    "let mult e1 e2 : int expr = Mult (e1, e2)"
   ]
  },
  {
   "cell_type": "markdown",
   "metadata": {
    "slideshow": {
     "slide_type": "slide"
    }
   },
   "source": [
    "## Benefit of phantom types"
   ]
  },
  {
   "cell_type": "code",
   "execution_count": 81,
   "metadata": {},
   "outputs": [
    {
     "data": {
      "text/plain": [
       "val i : 'a expr = Val (Int 0)\n"
      ]
     },
     "execution_count": 81,
     "metadata": {},
     "output_type": "execute_result"
    },
    {
     "data": {
      "text/plain": [
       "val i' : int expr = Val (Int 0)\n"
      ]
     },
     "execution_count": 81,
     "metadata": {},
     "output_type": "execute_result"
    },
    {
     "data": {
      "text/plain": [
       "val b : 'a expr = Val (Bool true)\n"
      ]
     },
     "execution_count": 81,
     "metadata": {},
     "output_type": "execute_result"
    },
    {
     "data": {
      "text/plain": [
       "val b' : bool expr = Val (Bool true)\n"
      ]
     },
     "execution_count": 81,
     "metadata": {},
     "output_type": "execute_result"
    },
    {
     "data": {
      "text/plain": [
       "val p : 'a expr = Plus (Val (Int 0), Val (Int 0))\n"
      ]
     },
     "execution_count": 81,
     "metadata": {},
     "output_type": "execute_result"
    },
    {
     "data": {
      "text/plain": [
       "val p' : int expr = Plus (Val (Int 0), Val (Int 0))\n"
      ]
     },
     "execution_count": 81,
     "metadata": {},
     "output_type": "execute_result"
    }
   ],
   "source": [
    "let i = Val (Int 0);;\n",
    "let i' = mk_int 0;;\n",
    "\n",
    "let b = Val (Bool true);;\n",
    "let b' = mk_bool true;;\n",
    "\n",
    "let p = Plus (i,i);;\n",
    "let p' = plus i i;;"
   ]
  },
  {
   "cell_type": "markdown",
   "metadata": {
    "slideshow": {
     "slide_type": "slide"
    }
   },
   "source": [
    "## Benefit of phantom types\n",
    "\n",
    "We no longer allow ill-typed expression if we use the helper functions."
   ]
  },
  {
   "cell_type": "code",
   "execution_count": 70,
   "metadata": {},
   "outputs": [
    {
     "ename": "error",
     "evalue": "compile_error",
     "output_type": "error",
     "traceback": [
      "\u001b[32mFile \"[70]\", line 1, characters 5-19:\n\u001b[31mError: This expression has type bool expr\n       but an expression was expected of type int expr\n       Type bool is not compatible with type int \n\u001b[36m   1: \u001b[30mplus \u001b[4m(mk_bool true)\u001b[0m\u001b[30m (mk_int 10)\u001b[0m\n"
     ]
    }
   ],
   "source": [
    "plus (mk_bool true) (mk_int 10) "
   ]
  },
  {
   "cell_type": "markdown",
   "metadata": {
    "slideshow": {
     "slide_type": "slide"
    }
   },
   "source": [
    "## Typed evaluator\n",
    "\n",
    "We can write an evaluator for this language now.\n",
    "\n",
    "Let's use the same evaluator as the earlier one."
   ]
  },
  {
   "cell_type": "code",
   "execution_count": 83,
   "metadata": {
    "scrolled": true
   },
   "outputs": [
    {
     "name": "stderr",
     "output_type": "stream",
     "text": [
      "File \"[83]\", line 6, characters 4-62:\n",
      "Warning 8: this pattern-matching is not exhaustive.\n",
      "Here is an example of a case that is not matched:\n",
      "((Int _, Bool _)|(Bool _, _))\n"
     ]
    },
    {
     "ename": "error",
     "evalue": "compile_error",
     "output_type": "error",
     "traceback": [
      "\u001b[32mFile \"[83]\", line 12, characters 22-23:\n\u001b[31mError: This expression has type bool expr\n       but an expression was expected of type int expr\n       Type bool is not compatible with type int \n\u001b[36m  11: \u001b[30m  | Ite (p,e1,e2) ->\n\u001b[36m  12: \u001b[30m    let Bool b = eval \u001b[4mp\u001b[0m\u001b[30m in\n\u001b[36m  13: \u001b[30m    if b then eval e1 else eval e2\u001b[0m\n"
     ]
    },
    {
     "name": "stderr",
     "output_type": "stream",
     "text": [
      "File \"[83]\", line 9, characters 4-62:\n",
      "Warning 8: this pattern-matching is not exhaustive.\n",
      "Here is an example of a case that is not matched:\n",
      "((Int _, Bool _)|(Bool _, _))\n"
     ]
    }
   ],
   "source": [
    "let rec eval : 'a expr -> 'a value = \n",
    "  fun e -> match e with\n",
    "  | Val (Int i) -> Int i\n",
    "  | Val (Bool i) -> Bool i\n",
    "  | Plus (e1, e2) ->\n",
    "    let Int i1, Int i2 = eval e1, eval e2 in\n",
    "    Int (i1 + i2)\n",
    "  | Mult (e1, e2) ->\n",
    "    let Int i1, Int i2 = eval e1, eval e2 in\n",
    "    Int (i1 * i2)\n",
    "  | Ite (p,e1,e2) ->\n",
    "    let Bool b = eval p in\n",
    "    if b then eval e1 else eval e2"
   ]
  },
  {
   "cell_type": "markdown",
   "metadata": {
    "slideshow": {
     "slide_type": "slide"
    }
   },
   "source": [
    "## Typed evaluator\n",
    "\n",
    "* OCaml by default expects the function expression at the recursive call position to have the same type as the outer function.\n",
    "* This need not be the case if the function is polymorphic\n",
    "  + `eval (p : int expr)` and `eval (p : bool expr)`.\n",
    "* In order to allow this, OCaml supports polymorphic recursion (aka Milner-Mycroft typeability)\n",
    "  + Robin Milner co-invented type infererence + polymorphism that we using in OCaml.\n",
    "  + Alan Mycroft was my mentor at Cambridge :-) "
   ]
  },
  {
   "cell_type": "markdown",
   "metadata": {
    "slideshow": {
     "slide_type": "slide"
    }
   },
   "source": [
    "## Fixing the interpreter with polymorphic recursion"
   ]
  },
  {
   "cell_type": "code",
   "execution_count": 87,
   "metadata": {},
   "outputs": [
    {
     "name": "stderr",
     "output_type": "stream",
     "text": [
      "File \"[87]\", line 6, characters 4-62:\n",
      "Warning 8: this pattern-matching is not exhaustive.\n",
      "Here is an example of a case that is not matched:\n",
      "((Int _, Bool _)|(Bool _, _))\n",
      "File \"[87]\", line 9, characters 4-62:\n",
      "Warning 8: this pattern-matching is not exhaustive.\n",
      "Here is an example of a case that is not matched:\n",
      "((Int _, Bool _)|(Bool _, _))\n",
      "File \"[87]\", line 12, characters 4-61:\n",
      "Warning 8: this pattern-matching is not exhaustive.\n",
      "Here is an example of a case that is not matched:\n",
      "Int _\n"
     ]
    },
    {
     "data": {
      "text/plain": [
       "val eval : 'a expr -> 'a value = <fun>\n"
      ]
     },
     "execution_count": 87,
     "metadata": {},
     "output_type": "execute_result"
    }
   ],
   "source": [
    "let rec eval : type a. a expr -> a value = \n",
    "  fun e -> match e with\n",
    "  | Val (Int i) -> Int i\n",
    "  | Val (Bool i) -> Bool i\n",
    "  | Plus (e1, e2) ->\n",
    "    let Int i1, Int i2 = eval e1, eval e2 in\n",
    "    Int (i1 + i2)\n",
    "  | Mult (e1, e2) ->\n",
    "    let Int i1, Int i2 = eval e1, eval e2 in\n",
    "    Int (i1 * i2)\n",
    "  | Ite (p,e1,e2) ->\n",
    "    let Bool b = eval p in\n",
    "    if b then eval e1 else eval e2"
   ]
  },
  {
   "cell_type": "markdown",
   "metadata": {
    "slideshow": {
     "slide_type": "slide"
    }
   },
   "source": [
    "## Errors gone, but warning remains\n",
    "\n",
    "* Compiler still warns us that there are unhandled cases in pattern matches\n",
    "* But haven't we added types to the expression language?\n",
    "* Observe that `mk_int i = Val (Int i)` is just convention.\n",
    "  + You can still write ill-typed expression by directly using the constructors."
   ]
  },
  {
   "cell_type": "code",
   "execution_count": 89,
   "metadata": {
    "slideshow": {
     "slide_type": "-"
    }
   },
   "outputs": [
    {
     "ename": "error",
     "evalue": "runtime_error",
     "output_type": "error",
     "traceback": [
      "\u001b[31mException: Match_failure (\"[87]\", 6, 4).\nCalled from file \"toplevel/toploop.ml\", line 180, characters 17-56\n\u001b[0m"
     ]
    }
   ],
   "source": [
    "eval @@ Plus (Val (Bool true), Val (Int 10))"
   ]
  },
  {
   "cell_type": "markdown",
   "metadata": {},
   "source": [
    "* Here, `Val (Bool true)` is inferred to have the type `int expr`.\n",
    "  + Need a way to inform the compiler that `Bool true` has type `bool value`."
   ]
  },
  {
   "cell_type": "markdown",
   "metadata": {
    "slideshow": {
     "slide_type": "slide"
    }
   },
   "source": [
    "## Generalized Algebraic Data Types\n",
    "\n",
    "GADTs allow us to **refine** the return type of the data constructor. "
   ]
  },
  {
   "cell_type": "code",
   "execution_count": 93,
   "metadata": {},
   "outputs": [
    {
     "data": {
      "text/plain": [
       "type 'a value = Int : int -> int value | Bool : bool -> bool value\n"
      ]
     },
     "execution_count": 93,
     "metadata": {},
     "output_type": "execute_result"
    },
    {
     "data": {
      "text/plain": [
       "type 'a expr =\n",
       "    Val : 'a value -> 'a expr\n",
       "  | Plus : int expr * int expr -> int expr\n",
       "  | Mult : int expr * int expr -> int expr\n",
       "  | Ite : bool expr * 'a expr * 'a expr -> 'a expr\n"
      ]
     },
     "execution_count": 93,
     "metadata": {},
     "output_type": "execute_result"
    }
   ],
   "source": [
    "type 'a value =\n",
    "  | Int : int -> int value\n",
    "  | Bool : bool -> bool value\n",
    "  \n",
    "type 'a expr =\n",
    "  | Val : 'a value -> 'a expr\n",
    "  | Plus : int expr * int expr -> int expr\n",
    "  | Mult : int expr * int expr -> int expr\n",
    "  | Ite : bool expr * 'a expr * 'a expr -> 'a expr"
   ]
  },
  {
   "cell_type": "markdown",
   "metadata": {
    "slideshow": {
     "slide_type": "slide"
    }
   },
   "source": [
    "## Evaluator remains the same"
   ]
  },
  {
   "cell_type": "code",
   "execution_count": 95,
   "metadata": {},
   "outputs": [
    {
     "data": {
      "text/plain": [
       "val eval : 'a expr -> 'a val_ = <fun>\n"
      ]
     },
     "execution_count": 95,
     "metadata": {},
     "output_type": "execute_result"
    }
   ],
   "source": [
    "let rec eval : type a. a expr -> a val_ = \n",
    "  fun e -> match e with\n",
    "  | Val (Int i) -> Int i\n",
    "  | Val (Bool i) -> Bool i\n",
    "  | Plus (e1, e2) ->\n",
    "    let Int i1, Int i2 = eval e1, eval e2 in\n",
    "    Int (i1 + i2)\n",
    "  | Mult (e1, e2) ->\n",
    "    let Int i1, Int i2 = eval e1, eval e2 in\n",
    "    Int (i1 * i2)\n",
    "  | Ite (p,e1,e2) ->\n",
    "    let Bool b = eval p in\n",
    "    if b then eval e1 else eval e2"
   ]
  },
  {
   "cell_type": "code",
   "execution_count": 97,
   "metadata": {
    "scrolled": true,
    "slideshow": {
     "slide_type": "fragment"
    }
   },
   "outputs": [
    {
     "ename": "error",
     "evalue": "compile_error",
     "output_type": "error",
     "traceback": [
      "\u001b[32mFile \"[97]\", line 1, characters 18-29:\n\u001b[31mError: This expression has type bool value\n       but an expression was expected of type int value\n       Type bool is not compatible with type int \n\u001b[36m   1: \u001b[30meval @@ Plus (Val \u001b[4m(Bool true)\u001b[0m\u001b[30m, Val (Int 10))\u001b[0m\n"
     ]
    }
   ],
   "source": [
    "eval @@ Plus (Val (Bool true), Val (Int 10))"
   ]
  },
  {
   "cell_type": "markdown",
   "metadata": {
    "slideshow": {
     "slide_type": "slide"
    }
   },
   "source": [
    "## GADTs are very powerful!\n",
    "\n",
    "* Features\n",
    "  + Refine return types.\n",
    "  + Introduce existential types.\n",
    "\n",
    "* Some uses\n",
    "  + Length indexed vectors.\n",
    "  + Encoding Red-Black property, 2-3 property.\n",
    "  + Encode type safety in lambda calculus."
   ]
  },
  {
   "cell_type": "markdown",
   "metadata": {
    "slideshow": {
     "slide_type": "slide"
    }
   },
   "source": [
    "## Church Numerals\n",
    "\n",
    "* Many of the shape properties of data structure involve some integers. \n",
    "* Let's encode natural numbers using GADTs.\n",
    "  + This is the familiar Church encoding."
   ]
  },
  {
   "cell_type": "code",
   "execution_count": 98,
   "metadata": {},
   "outputs": [
    {
     "data": {
      "text/plain": [
       "type z = Z\n"
      ]
     },
     "execution_count": 98,
     "metadata": {},
     "output_type": "execute_result"
    },
    {
     "data": {
      "text/plain": [
       "type 'n s = S : 'n -> 'n s\n"
      ]
     },
     "execution_count": 98,
     "metadata": {},
     "output_type": "execute_result"
    }
   ],
   "source": [
    "type z = Z\n",
    "type 'n s = S : 'n -> 'n s"
   ]
  },
  {
   "cell_type": "code",
   "execution_count": 100,
   "metadata": {},
   "outputs": [
    {
     "data": {
      "text/plain": [
       "- : z s s s = S (S (S Z))\n"
      ]
     },
     "execution_count": 100,
     "metadata": {},
     "output_type": "execute_result"
    }
   ],
   "source": [
    "S (S (S Z))"
   ]
  },
  {
   "cell_type": "code",
   "execution_count": null,
   "metadata": {},
   "outputs": [],
   "source": [
    "## Length-indexed "
   ]
  },
  {
   "cell_type": "markdown",
   "metadata": {
    "slideshow": {
     "slide_type": "slide"
    }
   },
   "source": [
    "Consider the untyped lambda calulus AST."
   ]
  },
  {
   "cell_type": "code",
   "execution_count": 2,
   "metadata": {},
   "outputs": [
    {
     "data": {
      "text/plain": [
       "type expr = Var of string | Lam of string * expr | App of expr * expr\n"
      ]
     },
     "execution_count": 2,
     "metadata": {},
     "output_type": "execute_result"
    }
   ],
   "source": [
    "type expr =\n",
    "  | Var of string\n",
    "  | Lam of string * expr\n",
    "  | App of expr * expr"
   ]
  },
  {
   "cell_type": "markdown",
   "metadata": {},
   "source": [
    "For good measure, let us also enrich the calulus with integers, booleans and pairs and operations on those data types. "
   ]
  },
  {
   "cell_type": "code",
   "execution_count": 3,
   "metadata": {},
   "outputs": [
    {
     "data": {
      "text/plain": [
       "type expr =\n",
       "    Var of string\n",
       "  | Lam of string * expr\n",
       "  | App of expr * expr\n",
       "  | Int of int\n",
       "  | Plus of expr * expr\n",
       "  | Mult of expr * expr\n",
       "  | Bool of bool\n",
       "  | Ite of expr * expr * expr\n",
       "  | Pair of expr * expr\n",
       "  | Fst of expr\n",
       "  | Snd of expr\n"
      ]
     },
     "execution_count": 3,
     "metadata": {},
     "output_type": "execute_result"
    }
   ],
   "source": [
    "type expr =\n",
    "  | Var of string\n",
    "  | Lam of string * expr\n",
    "  | App of expr * expr\n",
    "  (* Integers *)\n",
    "  | Int of int\n",
    "  | Plus of expr * expr\n",
    "  | Mult of expr * expr\n",
    "  (* Booleans *)\n",
    "  | Bool of bool\n",
    "  | Ite of expr * expr * expr\n",
    "  (* Pairs *)\n",
    "  | Pair of expr * expr\n",
    "  | Fst of expr\n",
    "  | Snd of expr"
   ]
  },
  {
   "cell_type": "markdown",
   "metadata": {},
   "source": [
    "At this point, you could easily imagine extending your assignment 2 to interpret the additional terms. However, this interpreter will have to handle lots of non sensical expressions such as:"
   ]
  },
  {
   "cell_type": "code",
   "execution_count": 4,
   "metadata": {},
   "outputs": [
    {
     "data": {
      "text/plain": [
       "val e1 : expr = Plus (Bool true, Int 10)\n"
      ]
     },
     "execution_count": 4,
     "metadata": {},
     "output_type": "execute_result"
    }
   ],
   "source": [
    "let e1 = Plus (Bool true, Int 10)"
   ]
  },
  {
   "cell_type": "markdown",
   "metadata": {},
   "source": [
    "where the interpreter will have to raise an error. In $\\lambda^{\\rightarrow}$, we studied how to tag such expressions **ill-typed**.\n",
    "\n",
    "OCaml language has support for more advanced algebraic data type (ADTs) definition called the **Generalised Algebraic Data Types** or **GADTs**. Similar to ADTs, GADTs allow you to define new sum types $'a ~t$. But unlike ADTs, the GADTs can specify a differnt $'a$ for each constructor. This idea is very powerful. \n",
    "\n",
    "We can encode the typing rules for well-typed expressions in the AST for our extended lambda calculus."
   ]
  },
  {
   "cell_type": "code",
   "execution_count": 8,
   "metadata": {},
   "outputs": [
    {
     "data": {
      "text/plain": [
       "type (_, _) equal = Refl : ('a, 'a) equal\n"
      ]
     },
     "execution_count": 8,
     "metadata": {},
     "output_type": "execute_result"
    }
   ],
   "source": [
    "type (_,_) equal = Refl : ('a,'a) equal"
   ]
  },
  {
   "cell_type": "code",
   "execution_count": null,
   "metadata": {},
   "outputs": [],
   "source": []
  }
 ],
 "metadata": {
  "celltoolbar": "Slideshow",
  "kernelspec": {
   "display_name": "OCaml 4.07.1",
   "language": "OCaml",
   "name": "ocaml-jupyter"
  },
  "language_info": {
   "codemirror_mode": "text/x-ocaml",
   "file_extension": ".ml",
   "mimetype": "text/x-ocaml",
   "name": "OCaml",
   "nbconverter_exporter": null,
   "pygments_lexer": "OCaml",
   "version": "4.07.1"
  }
 },
 "nbformat": 4,
 "nbformat_minor": 2
}
