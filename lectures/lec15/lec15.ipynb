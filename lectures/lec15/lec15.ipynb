{
 "cells": [
  {
   "cell_type": "markdown",
   "metadata": {
    "slideshow": {
     "slide_type": "slide"
    }
   },
   "source": [
    "<center>\n",
    "\n",
    "<h1 style=\"text-align:center\"> Monads </h1>\n",
    "<h2 style=\"text-align:center\"> CS3100 Fall 2019 </h2>\n",
    "</center>"
   ]
  },
  {
   "cell_type": "markdown",
   "metadata": {
    "slideshow": {
     "slide_type": "slide"
    }
   },
   "source": [
    "## Review\n",
    "\n",
    "### Previously\n",
    "\n",
    "* Streams, laziness and memoization\n",
    "\n",
    "### This lecture\n",
    "\n",
    "* Monads\n",
    "  + Dealing with **effects** in a **pure** setting"
   ]
  },
  {
   "cell_type": "markdown",
   "metadata": {
    "slideshow": {
     "slide_type": "slide"
    }
   },
   "source": [
    "## Whence Monads\n",
    "\n",
    "* The term \"monad\" come from **Category Theory**\n",
    "  + Category theory is the study of mathematical abstractions\n",
    "  + Out of scope for this course\n",
    "  + We will focus on **programming with monads**.\n",
    "* Monads were popularized by the Haskell programming language\n",
    "  + Haskell is **purely functional** programming languages\n",
    "  + Unlike OCaml, Haskell separates pure code from side-effecting code through the use of monads. "
   ]
  },
  {
   "cell_type": "markdown",
   "metadata": {
    "slideshow": {
     "slide_type": "slide"
    }
   },
   "source": [
    "## What is a Monad?\n",
    "\n",
    "A monad is any implementation that satisfies the following signature:"
   ]
  },
  {
   "cell_type": "code",
   "execution_count": 1,
   "metadata": {},
   "outputs": [
    {
     "data": {
      "text/plain": [
       "module type Monad =\n",
       "  sig\n",
       "    type 'a t\n",
       "    val return : 'a -> 'a t\n",
       "    val bind : 'a t -> ('a -> 'b t) -> 'b t\n",
       "  end\n"
      ]
     },
     "execution_count": 1,
     "metadata": {},
     "output_type": "execute_result"
    }
   ],
   "source": [
    "module type Monad = sig\n",
    "  type 'a t\n",
    "  val return : 'a -> 'a t\n",
    "  val bind   : 'a t -> ('a -> 'b t) -> 'b t\n",
    "end"
   ]
  },
  {
   "cell_type": "markdown",
   "metadata": {},
   "source": [
    "and the **monad laws**."
   ]
  },
  {
   "cell_type": "markdown",
   "metadata": {
    "slideshow": {
     "slide_type": "slide"
    }
   },
   "source": [
    "## Example: Interpreter\n",
    "\n",
    "* All of this seems very abstract (as many FP concepts are).\n",
    "  + Monad is a design pattern rather than a language feature.\n",
    "* An example will help us see the pattern.\n",
    "  + Overtime, you'll spot monads everywhere.\n",
    "* Let's write an interpreter for artihmetic expressions"
   ]
  },
  {
   "cell_type": "markdown",
   "metadata": {},
   "source": [
    "## Interpreting artihmetic expressions"
   ]
  },
  {
   "cell_type": "code",
   "execution_count": 2,
   "metadata": {
    "slideshow": {
     "slide_type": "fragment"
    }
   },
   "outputs": [
    {
     "data": {
      "text/plain": [
       "type expr = Val of int | Plus of expr * expr | Div of expr * expr\n"
      ]
     },
     "execution_count": 2,
     "metadata": {},
     "output_type": "execute_result"
    }
   ],
   "source": [
    "type expr = Val of int | Plus of expr * expr | Div of expr * expr"
   ]
  },
  {
   "cell_type": "markdown",
   "metadata": {},
   "source": [
    "* Our goal is to make the interpreter a **total function**.\n",
    "  + Produces a **value** for every arithmetic expression."
   ]
  },
  {
   "cell_type": "code",
   "execution_count": 3,
   "metadata": {},
   "outputs": [
    {
     "data": {
      "text/plain": [
       "val eval : expr -> int = <fun>\n"
      ]
     },
     "execution_count": 3,
     "metadata": {},
     "output_type": "execute_result"
    }
   ],
   "source": [
    "let rec eval e = match e with\n",
    "  | Val v -> v\n",
    "  | Plus (v1,v2) -> eval v1 + eval v2\n",
    "  | Div (v1,v2) -> eval v1 / eval v2"
   ]
  },
  {
   "cell_type": "markdown",
   "metadata": {
    "slideshow": {
     "slide_type": "slide"
    }
   },
   "source": [
    "## Division by zero"
   ]
  },
  {
   "cell_type": "markdown",
   "metadata": {},
   "source": [
    "This looks fine. But what happens if the denominator in the division is a 0."
   ]
  },
  {
   "cell_type": "code",
   "execution_count": 4,
   "metadata": {
    "slideshow": {
     "slide_type": "fragment"
    }
   },
   "outputs": [
    {
     "ename": "error",
     "evalue": "runtime_error",
     "output_type": "error",
     "traceback": [
      "\u001b[31mException: Division_by_zero.\nRaised by primitive operation at unknown location\nCalled from file \"toplevel/toploop.ml\", line 180, characters 17-56\n\u001b[0m"
     ]
    }
   ],
   "source": [
    "eval (Div (Val 1, Val 0))"
   ]
  },
  {
   "cell_type": "markdown",
   "metadata": {},
   "source": [
    "How can we avoid this?"
   ]
  },
  {
   "cell_type": "markdown",
   "metadata": {
    "slideshow": {
     "slide_type": "slide"
    }
   },
   "source": [
    "## Interpreting Arithmetic Expressions: Take 2\n",
    "\n",
    "* Rewrite `eval` function to have the type `expr -> int option`\n",
    "  + Return `None` for division by zero."
   ]
  },
  {
   "cell_type": "code",
   "execution_count": 5,
   "metadata": {},
   "outputs": [
    {
     "data": {
      "text/plain": [
       "val eval : expr -> int option = <fun>\n"
      ]
     },
     "execution_count": 5,
     "metadata": {},
     "output_type": "execute_result"
    }
   ],
   "source": [
    "let rec eval e = match e with\n",
    "  | Val v -> Some v\n",
    "  | Plus (e1,e2) ->\n",
    "      begin match eval e1 with \n",
    "      | None -> None\n",
    "      | Some v1 -> \n",
    "          match eval e2 with\n",
    "          | None -> None \n",
    "          | Some v2 -> Some (v1 + v2)\n",
    "      end\n",
    "  | Div (e1,e2) ->\n",
    "      match eval e1 with \n",
    "      | None -> None\n",
    "      | Some v1 -> \n",
    "          match eval e2 with\n",
    "          | None -> None \n",
    "          | Some v2 -> if v2 = 0 then None else Some (v1 / v2)"
   ]
  },
  {
   "cell_type": "code",
   "execution_count": 6,
   "metadata": {},
   "outputs": [
    {
     "data": {
      "text/plain": [
       "- : int option = None\n"
      ]
     },
     "execution_count": 6,
     "metadata": {},
     "output_type": "execute_result"
    }
   ],
   "source": [
    "eval (Div (Val 1, Val 0))"
   ]
  },
  {
   "cell_type": "markdown",
   "metadata": {
    "slideshow": {
     "slide_type": "slide"
    }
   },
   "source": [
    "## Abstraction\n",
    "\n",
    "* There is a lot of repeated code in the interpreter above.\n",
    "  + Factor out common code."
   ]
  },
  {
   "cell_type": "code",
   "execution_count": 7,
   "metadata": {},
   "outputs": [
    {
     "data": {
      "text/plain": [
       "val return : 'a -> 'a option = <fun>\n"
      ]
     },
     "execution_count": 7,
     "metadata": {},
     "output_type": "execute_result"
    }
   ],
   "source": [
    "let return v = Some v"
   ]
  },
  {
   "cell_type": "code",
   "execution_count": 8,
   "metadata": {},
   "outputs": [
    {
     "data": {
      "text/plain": [
       "val bind : 'a option -> ('a -> 'b option) -> 'b option = <fun>\n"
      ]
     },
     "execution_count": 8,
     "metadata": {},
     "output_type": "execute_result"
    }
   ],
   "source": [
    "let bind m f = match m with\n",
    "  | None -> None \n",
    "  | Some v -> f v"
   ]
  },
  {
   "cell_type": "markdown",
   "metadata": {
    "slideshow": {
     "slide_type": "slide"
    }
   },
   "source": [
    "## Abstraction \n",
    "\n",
    "Let's rewrite the interpreter using these functions."
   ]
  },
  {
   "cell_type": "code",
   "execution_count": 9,
   "metadata": {},
   "outputs": [
    {
     "data": {
      "text/plain": [
       "val eval : expr -> int option = <fun>\n"
      ]
     },
     "execution_count": 9,
     "metadata": {},
     "output_type": "execute_result"
    }
   ],
   "source": [
    "let rec eval e = match e with\n",
    "  | Val v -> return v\n",
    "  | Plus (e1,e2) ->\n",
    "      bind (eval e1) (fun v1 -> \n",
    "      bind (eval e2) (fun v2 ->\n",
    "      return (v1+v2)))\n",
    "  | Div (e1,e2) ->\n",
    "      bind (eval e1) (fun v1 -> \n",
    "      bind (eval e2) (fun v2 ->\n",
    "      if v2 = 0 then None else return (v1 / v2)))"
   ]
  },
  {
   "cell_type": "markdown",
   "metadata": {
    "slideshow": {
     "slide_type": "slide"
    }
   },
   "source": [
    "## Infix bind operation\n",
    "\n",
    "Usually `bind` is defined as an infix function `>>=`."
   ]
  },
  {
   "cell_type": "code",
   "execution_count": 10,
   "metadata": {},
   "outputs": [
    {
     "data": {
      "text/plain": [
       "val ( >>= ) : 'a option -> ('a -> 'b option) -> 'b option = <fun>\n"
      ]
     },
     "execution_count": 10,
     "metadata": {},
     "output_type": "execute_result"
    }
   ],
   "source": [
    "let (>>=) = bind"
   ]
  },
  {
   "cell_type": "code",
   "execution_count": 11,
   "metadata": {},
   "outputs": [
    {
     "data": {
      "text/plain": [
       "val eval : expr -> int option = <fun>\n"
      ]
     },
     "execution_count": 11,
     "metadata": {},
     "output_type": "execute_result"
    }
   ],
   "source": [
    "let rec eval e = match e with\n",
    "  | Val v -> return v\n",
    "  | Plus (e1,e2) ->\n",
    "      eval e1 >>= fun v1 -> \n",
    "      eval e2 >>= fun v2 ->\n",
    "      return (v1+v2)\n",
    "  | Div (e1,e2) ->\n",
    "      eval e1 >>= fun v1 -> \n",
    "      eval e2 >>= fun v2 ->\n",
    "      if v2 = 0 then None else return (v1 / v2)"
   ]
  },
  {
   "cell_type": "markdown",
   "metadata": {
    "slideshow": {
     "slide_type": "slide"
    }
   },
   "source": [
    "## Modularise\n",
    "\n",
    "* The `return` and `>>=` we have defined for the interpreter works for any computation on option type. \n",
    "  + Put them in a module, we get the Option Monad."
   ]
  },
  {
   "cell_type": "code",
   "execution_count": 12,
   "metadata": {},
   "outputs": [
    {
     "data": {
      "text/plain": [
       "module type MONAD =\n",
       "  sig\n",
       "    type 'a t\n",
       "    val return : 'a -> 'a t\n",
       "    val ( >>= ) : 'a t -> ('a -> 'b t) -> 'b t\n",
       "  end\n"
      ]
     },
     "execution_count": 12,
     "metadata": {},
     "output_type": "execute_result"
    },
    {
     "data": {
      "text/plain": [
       "module OptionMonad :\n",
       "  sig\n",
       "    type 'a t = 'a option\n",
       "    val return : 'a -> 'a t\n",
       "    val ( >>= ) : 'a t -> ('a -> 'b t) -> 'b t\n",
       "  end\n"
      ]
     },
     "execution_count": 12,
     "metadata": {},
     "output_type": "execute_result"
    }
   ],
   "source": [
    "module type MONAD = sig\n",
    "  type 'a t\n",
    "  val return : 'a -> 'a t\n",
    "  val (>>=)  : 'a t -> ('a -> 'b t) -> 'b t\n",
    "end\n",
    "\n",
    "module OptionMonad : (MONAD with type 'a t = 'a option) = struct\n",
    "  type 'a t = 'a option\n",
    "  let return v = Some v\n",
    "  let (>>=) m f = match m with\n",
    "  | Some v -> f v\n",
    "  | None -> None\n",
    "end"
   ]
  },
  {
   "cell_type": "markdown",
   "metadata": {
    "slideshow": {
     "slide_type": "slide"
    }
   },
   "source": [
    "## Monad Laws\n",
    "\n",
    "Any implementation of the monad signature must satisfy the following laws:\n",
    "\n",
    "\n",
    "```ocaml\n",
    "1. return v >>= k  ≡  k v (* Left Identity *)\n",
    "2. v >>= return  ≡  v (* Right Identity *)\n",
    "3. (m >>= f) >>= g  ≡  m >>= (fun x -> f x >>= g) (* Associativity *)\n",
    "```"
   ]
  },
  {
   "cell_type": "markdown",
   "metadata": {
    "slideshow": {
     "slide_type": "slide"
    }
   },
   "source": [
    "## Option monad satisifies monad laws\n",
    "\n",
    "**Left Identity**: `return v >>= k  ≡  k v`\n",
    "\n",
    "```ocaml\n",
    "  return v >>= k\n",
    "≡ (Some v) >>= k (* by definition of return *)\n",
    "≡ match Some v with None -> None | Some v -> k v (* by definition of >>= *)\n",
    "≡ k v (* by beta reduction *)\n",
    "```\n",
    "\n",
    "**Exercice:** Prove other laws."
   ]
  },
  {
   "cell_type": "markdown",
   "metadata": {
    "slideshow": {
     "slide_type": "slide"
    }
   },
   "source": [
    "## State Monad\n",
    "\n",
    "* Each monad implementation typically extends the signature with additional operations.\n",
    "* A State Monad introduces a **single, typed mutable cell**.\n",
    "* Here's a signature for dealing with mutable state, which adds\n",
    "  + `get` and `put` functions for reading and writing the state, and \n",
    "  + a `runState` function for actually running computations."
   ]
  },
  {
   "cell_type": "code",
   "execution_count": 13,
   "metadata": {},
   "outputs": [
    {
     "data": {
      "text/plain": [
       "module type STATE =\n",
       "  sig\n",
       "    type state\n",
       "    type 'a t\n",
       "    val return : 'a -> 'a t\n",
       "    val ( >>= ) : 'a t -> ('a -> 'b t) -> 'b t\n",
       "    val get : state t\n",
       "    val put : state -> unit t\n",
       "    val run_state : 'a t -> init:state -> state * 'a\n",
       "  end\n"
      ]
     },
     "execution_count": 13,
     "metadata": {},
     "output_type": "execute_result"
    }
   ],
   "source": [
    "module type STATE = sig\n",
    "  type state\n",
    "  include MONAD\n",
    "  val get : state t\n",
    "  val put : state -> unit t\n",
    "  val run_state : 'a t -> init:state -> state * 'a\n",
    "end"
   ]
  },
  {
   "cell_type": "markdown",
   "metadata": {
    "slideshow": {
     "slide_type": "slide"
    }
   },
   "source": [
    "## State Monad\n",
    "\n",
    "Here's an implementation of `State`, parameterised by the type of the state:"
   ]
  },
  {
   "cell_type": "code",
   "execution_count": 28,
   "metadata": {},
   "outputs": [
    {
     "data": {
      "text/plain": [
       "module State :\n",
       "  functor (S : sig type t end) ->\n",
       "    sig\n",
       "      type state = S.t\n",
       "      type 'a t\n",
       "      val return : 'a -> 'a t\n",
       "      val ( >>= ) : 'a t -> ('a -> 'b t) -> 'b t\n",
       "      val get : state t\n",
       "      val put : state -> unit t\n",
       "      val run_state : 'a t -> init:state -> state * 'a\n",
       "    end\n"
      ]
     },
     "execution_count": 28,
     "metadata": {},
     "output_type": "execute_result"
    }
   ],
   "source": [
    "module State (S : sig type t end)\n",
    "  : STATE with type state = S.t = struct\n",
    "  type state = S.t\n",
    "  type 'a t = state -> state * 'a\n",
    "  let return v = fun s -> (s, v)\n",
    "  let (>>=) m f = fun s -> \n",
    "    let (s', a) = m s in \n",
    "    f a s'\n",
    "  let get s = (s, s)\n",
    "  let put s' _ = (s', ())\n",
    "  let run_state m ~init = m init\n",
    "end"
   ]
  },
  {
   "cell_type": "markdown",
   "metadata": {
    "slideshow": {
     "slide_type": "slide"
    }
   },
   "source": [
    "## Using State Monad"
   ]
  },
  {
   "cell_type": "code",
   "execution_count": 15,
   "metadata": {},
   "outputs": [
    {
     "data": {
      "text/plain": [
       "module IntState :\n",
       "  sig\n",
       "    type state = int\n",
       "    type 'a t\n",
       "    val return : 'a -> 'a t\n",
       "    val ( >>= ) : 'a t -> ('a -> 'b t) -> 'b t\n",
       "    val get : state t\n",
       "    val put : state -> unit t\n",
       "    val run_state : 'a t -> init:state -> state * 'a\n",
       "  end\n"
      ]
     },
     "execution_count": 15,
     "metadata": {},
     "output_type": "execute_result"
    },
    {
     "data": {
      "text/plain": [
       "val inc : int -> unit IntState.t = <fun>\n"
      ]
     },
     "execution_count": 15,
     "metadata": {},
     "output_type": "execute_result"
    },
    {
     "data": {
      "text/plain": [
       "val dec : int -> unit IntState.t = <fun>\n"
      ]
     },
     "execution_count": 15,
     "metadata": {},
     "output_type": "execute_result"
    },
    {
     "data": {
      "text/plain": [
       "val double : unit IntState.t = <abstr>\n"
      ]
     },
     "execution_count": 15,
     "metadata": {},
     "output_type": "execute_result"
    }
   ],
   "source": [
    "module IntState = State (struct type t = int end)\n",
    "open IntState \n",
    "\n",
    "let inc v = \n",
    "  get >>= fun s ->\n",
    "  put (s+v)\n",
    "\n",
    "let dec v = \n",
    "  get >>= fun s -> \n",
    "  put (s-v)\n",
    "  \n",
    "let double =\n",
    "  get >>= fun s ->\n",
    "  put (s*2)"
   ]
  },
  {
   "cell_type": "markdown",
   "metadata": {
    "slideshow": {
     "slide_type": "slide"
    }
   },
   "source": [
    "## Using State Monad"
   ]
  },
  {
   "cell_type": "code",
   "execution_count": 16,
   "metadata": {},
   "outputs": [
    {
     "data": {
      "text/plain": [
       "- : IntState.state * unit = (10, ())\n"
      ]
     },
     "execution_count": 16,
     "metadata": {},
     "output_type": "execute_result"
    }
   ],
   "source": [
    "IntState.run_state ~init:10 (\n",
    "  inc 5 >>= fun () -> \n",
    "  dec 10 >>= fun () ->\n",
    "  double)"
   ]
  },
  {
   "cell_type": "code",
   "execution_count": 17,
   "metadata": {
    "slideshow": {
     "slide_type": "fragment"
    }
   },
   "outputs": [
    {
     "data": {
      "text/plain": [
       "- : float * unit = (6.4, ())\n"
      ]
     },
     "execution_count": 17,
     "metadata": {},
     "output_type": "execute_result"
    }
   ],
   "source": [
    "let module FloatState = State (struct type t = float end) in \n",
    "let open FloatState in\n",
    "FloatState.run_state ~init:5.4 (\n",
    "  get >>= fun v ->\n",
    "  put (v +. 1.0))"
   ]
  },
  {
   "cell_type": "markdown",
   "metadata": {
    "slideshow": {
     "slide_type": "slide"
    }
   },
   "source": [
    "## State monad satisfies monad laws\n",
    "\n",
    "**Right Associativity**: `v >>= return  ≡  v`\n",
    "\n",
    "```ocaml\n",
    "  v >>= return\n",
    "≡ fun s -> let (s', a) = v s in return a s' (* by definition of >>= *)\n",
    "≡ fun s -> let (s', a) = v s in (fun v s -> (s,v)) a s' (* by definition of return *)\n",
    "≡ fun s -> let (s', a) = v s in (s',a) (* by beta reduction *)\n",
    "≡ fun s -> (fun (s', a) -> (s', a)) (v s) (* rewrite `let` to `fun` *)\n",
    "≡ fun s -> v s (* by eta reduction *)\n",
    "≡ v\n",
    "```\n",
    "\n",
    "**Exercise**: Prove other laws."
   ]
  },
  {
   "cell_type": "markdown",
   "metadata": {
    "slideshow": {
     "slide_type": "slide"
    }
   },
   "source": [
    "## Type of State\n",
    "\n",
    "* State in the state monad is of a single type\n",
    "  + In our example, the state was of `int` type\n",
    "* *Can we change type of state as the computation evolves?*"
   ]
  },
  {
   "cell_type": "markdown",
   "metadata": {
    "slideshow": {
     "slide_type": "slide"
    }
   },
   "source": [
    "## Parameterised monads\n",
    "\n",
    "* Parameterised monads add two additional type parameters to `t` representing the start and end states of a computation.\n",
    "* A computation of type `('p, 'q, 'a) t` has \n",
    "  + *precondition* (or starting state) `'p`\n",
    "  + *postcondition* (or ending state) `'q`\n",
    "  + *produces a result* of type `'a`.\n",
    "\n",
    "i.e. `('p, 'q, 'a) t` is a kind of Hoare triple `{P} M {Q}`.\n",
    "\n"
   ]
  },
  {
   "cell_type": "markdown",
   "metadata": {
    "slideshow": {
     "slide_type": "slide"
    }
   },
   "source": [
    "## Parameterised monads\n",
    "\n",
    "Here's the parameterised monad signature:"
   ]
  },
  {
   "cell_type": "code",
   "execution_count": 18,
   "metadata": {},
   "outputs": [
    {
     "data": {
      "text/plain": [
       "module type PARAMETERISED_MONAD =\n",
       "  sig\n",
       "    type ('s, 't, 'a) t\n",
       "    val return : 'a -> ('s, 's, 'a) t\n",
       "    val ( >>= ) : ('r, 's, 'a) t -> ('a -> ('s, 't, 'b) t) -> ('r, 't, 'b) t\n",
       "  end\n"
      ]
     },
     "execution_count": 18,
     "metadata": {},
     "output_type": "execute_result"
    }
   ],
   "source": [
    "module type PARAMETERISED_MONAD =\n",
    "sig\n",
    "  type ('s,'t,'a) t\n",
    "  val return : 'a -> ('s,'s,'a) t\n",
    "  val (>>=) : ('r,'s,'a) t ->\n",
    "       ('a -> ('s,'t,'b) t) ->\n",
    "              ('r,'t,'b) t\n",
    "end"
   ]
  },
  {
   "cell_type": "markdown",
   "metadata": {
    "slideshow": {
     "slide_type": "slide"
    }
   },
   "source": [
    "## Parameterised state monad\n",
    "\n",
    "Here's a parameterised monad version of the `STATE` signature, using the extra parameters to represent the type of the reference cell."
   ]
  },
  {
   "cell_type": "code",
   "execution_count": 19,
   "metadata": {},
   "outputs": [
    {
     "data": {
      "text/plain": [
       "module type PSTATE =\n",
       "  sig\n",
       "    type ('s, 't, 'a) t\n",
       "    val return : 'a -> ('s, 's, 'a) t\n",
       "    val ( >>= ) : ('r, 's, 'a) t -> ('a -> ('s, 't, 'b) t) -> ('r, 't, 'b) t\n",
       "    val get : ('s, 's, 's) t\n",
       "    val put : 's -> ('a, 's, unit) t\n",
       "    val runState : ('s, 't, 'a) t -> init:'s -> 't * 'a\n",
       "  end\n"
      ]
     },
     "execution_count": 19,
     "metadata": {},
     "output_type": "execute_result"
    }
   ],
   "source": [
    "module type PSTATE =\n",
    "sig\n",
    " include PARAMETERISED_MONAD\n",
    " val get : ('s,'s,'s) t\n",
    " val put : 's -> (_,'s,unit) t\n",
    " val runState : ('s,'t,'a) t -> init:'s -> 't * 'a\n",
    "end"
   ]
  },
  {
   "cell_type": "markdown",
   "metadata": {
    "slideshow": {
     "slide_type": "slide"
    }
   },
   "source": [
    "## Parameterised state monad\n",
    "\n",
    "\n",
    "Here's an implementation of `PSTATE`."
   ]
  },
  {
   "cell_type": "code",
   "execution_count": 20,
   "metadata": {},
   "outputs": [
    {
     "data": {
      "text/plain": [
       "module PState : PSTATE\n"
      ]
     },
     "execution_count": 20,
     "metadata": {},
     "output_type": "execute_result"
    }
   ],
   "source": [
    "module PState : PSTATE =\n",
    "struct\n",
    "  type ('s, 't, 'a) t = 's -> 't * 'a\n",
    "  let return v s = (s, v)\n",
    "  let (>>=) m k s = let t, a = m s in k a t\n",
    "  let put s _ = (s, ())\n",
    "  let get s = (s, s)\n",
    "  let runState m ~init = m init\n",
    "end"
   ]
  },
  {
   "cell_type": "markdown",
   "metadata": {
    "slideshow": {
     "slide_type": "slide"
    }
   },
   "source": [
    "## Computation with changing state"
   ]
  },
  {
   "cell_type": "code",
   "execution_count": 31,
   "metadata": {},
   "outputs": [
    {
     "data": {
      "text/plain": [
       "val inc : int -> (int, int, unit) PState.t = <fun>\n"
      ]
     },
     "execution_count": 31,
     "metadata": {},
     "output_type": "execute_result"
    },
    {
     "data": {
      "text/plain": [
       "val dec : int -> (int, int, unit) PState.t = <fun>\n"
      ]
     },
     "execution_count": 31,
     "metadata": {},
     "output_type": "execute_result"
    },
    {
     "data": {
      "text/plain": [
       "val double : (int, int, unit) PState.t = <abstr>\n"
      ]
     },
     "execution_count": 31,
     "metadata": {},
     "output_type": "execute_result"
    },
    {
     "data": {
      "text/plain": [
       "val to_string : (int, string, unit) PState.t = <abstr>\n"
      ]
     },
     "execution_count": 31,
     "metadata": {},
     "output_type": "execute_result"
    },
    {
     "data": {
      "text/plain": [
       "val of_string : (string, int, unit) PState.t = <abstr>\n"
      ]
     },
     "execution_count": 31,
     "metadata": {},
     "output_type": "execute_result"
    }
   ],
   "source": [
    "open PState\n",
    "\n",
    "let inc v = get >>= fun s -> put (s+v)\n",
    "let dec v = get >>= fun s -> put (s-v)\n",
    "let double = get >>= fun s -> put (s*2)\n",
    "  \n",
    "let to_string = get >>= fun i -> put (string_of_int i)\n",
    "let of_string = get >>= fun s -> put (int_of_string s)"
   ]
  },
  {
   "cell_type": "markdown",
   "metadata": {
    "slideshow": {
     "slide_type": "slide"
    }
   },
   "source": [
    "## Computation with changing state"
   ]
  },
  {
   "cell_type": "code",
   "execution_count": 38,
   "metadata": {},
   "outputs": [
    {
     "data": {
      "text/plain": [
       "val foo : (int, string, unit) PState.t = <abstr>\n"
      ]
     },
     "execution_count": 38,
     "metadata": {},
     "output_type": "execute_result"
    },
    {
     "data": {
      "text/plain": [
       "val bar : (string, string, unit) PState.t = <abstr>\n"
      ]
     },
     "execution_count": 38,
     "metadata": {},
     "output_type": "execute_result"
    },
    {
     "data": {
      "text/plain": [
       "val baz : (int, string, unit) PState.t = <abstr>\n"
      ]
     },
     "execution_count": 38,
     "metadata": {},
     "output_type": "execute_result"
    },
    {
     "ename": "error",
     "evalue": "compile_error",
     "output_type": "error",
     "traceback": [
      "\u001b[32mFile \"[38]\", line 5, characters 28-31:\n\u001b[31mError: This expression has type (int, string, unit) PState.t\n       but an expression was expected of type (string, 'a, 'b) PState.t\n       Type int is not compatible with type string \n\u001b[36m   4: \u001b[30mlet baz = foo >>= fun () -> bar\n\u001b[36m   5: \u001b[30mlet quz = bar >>= fun () -> \u001b[4mfoo\u001b[0m\n"
     ]
    }
   ],
   "source": [
    "let foo = inc 5 >>= fun () -> to_string\n",
    "let bar = get >>= fun s -> put (s ^ \"00\")\n",
    "  \n",
    "let baz = foo >>= fun () -> bar\n",
    "let quz = bar >>= fun () -> foo"
   ]
  },
  {
   "cell_type": "markdown",
   "metadata": {
    "slideshow": {
     "slide_type": "slide"
    }
   },
   "source": [
    "## A well-typed stack machine\n",
    "\n",
    "* Let's build a tiny stack machine with 3 instructions\n",
    "  + `push` pushes a constant on to the stack. Constant could be of any type. \n",
    "  + `add` adds the top two integers on the stack and pushes the result\n",
    "  + `_if_` expects a `[b;v1;v2] @ rest_of_stack` on top of the stack.\n",
    "      * if `b` is true then result stack will be `v1::rest_of_stack`\n",
    "      * otherwise, `v2::rest_of_stack`.\n",
    "* Our stack machine will not get stuck! \n",
    "  + recall the definition from lambda calculus lectures\n",
    "* This is how WASM operational semantics is defined!"
   ]
  },
  {
   "cell_type": "markdown",
   "metadata": {
    "slideshow": {
     "slide_type": "slide"
    }
   },
   "source": [
    "## Stack operations\n",
    "\n",
    "* Because our stack will have values of different types, encode then using pairs.\n",
    "  + `[]` will be `()`\n",
    "  + `[1;2;3]` will be `(1, (2, (3, ())))`\n",
    "  + `[1;true;3]` (which is not a well-typed expression) will be `(1, (true, (3, ()))))`"
   ]
  },
  {
   "cell_type": "code",
   "execution_count": 21,
   "metadata": {},
   "outputs": [
    {
     "data": {
      "text/plain": [
       "module type STACK_OPS =\n",
       "  sig\n",
       "    type ('s, 't, 'a) t\n",
       "    val add : unit -> (int * (int * 's), int * 's, unit) t\n",
       "    val _if_ : unit -> (bool * ('a * ('a * 's)), 'a * 's, unit) t\n",
       "    val push_const : 'a -> ('s, 'a * 's, unit) t\n",
       "  end\n"
      ]
     },
     "execution_count": 21,
     "metadata": {},
     "output_type": "execute_result"
    }
   ],
   "source": [
    "module type STACK_OPS =\n",
    "sig\n",
    "  type ('s,'t,'a) t\n",
    "  val add : unit -> (int * (int * 's), \n",
    "                     int * 's, \n",
    "                     unit) t\n",
    "  val _if_ : unit -> (bool * ('a * ('a * 's)), \n",
    "                      'a * 's, \n",
    "                      unit) t\n",
    "  val push_const : 'a -> ('s, \n",
    "                          'a * 's, \n",
    "                          unit) t\n",
    "end"
   ]
  },
  {
   "cell_type": "markdown",
   "metadata": {
    "slideshow": {
     "slide_type": "slide"
    }
   },
   "source": [
    "## Stack Machine\n",
    "\n",
    "We can combine the stack operations with the parameterised monad signature to\n",
    "build a signature for a stack machine:"
   ]
  },
  {
   "cell_type": "code",
   "execution_count": 22,
   "metadata": {},
   "outputs": [
    {
     "data": {
      "text/plain": [
       "module type STACKM =\n",
       "  sig\n",
       "    type ('s, 't, 'a) t\n",
       "    val return : 'a -> ('s, 's, 'a) t\n",
       "    val ( >>= ) : ('r, 's, 'a) t -> ('a -> ('s, 't, 'b) t) -> ('r, 't, 'b) t\n",
       "    val add : unit -> (int * (int * 's), int * 's, unit) t\n",
       "    val _if_ : unit -> (bool * ('a * ('a * 's)), 'a * 's, unit) t\n",
       "    val push_const : 'a -> ('s, 'a * 's, unit) t\n",
       "    val execute : ('s, 't, 'a) t -> 's -> 't * 'a\n",
       "  end\n"
      ]
     },
     "execution_count": 22,
     "metadata": {},
     "output_type": "execute_result"
    }
   ],
   "source": [
    "module type STACKM = sig\n",
    " include PARAMETERISED_MONAD\n",
    " include STACK_OPS\n",
    "   with type ('s,'t,'a) t := ('s,'t,'a) t\n",
    " val execute : ('s,'t,'a) t -> 's -> 't * 'a\n",
    "end"
   ]
  },
  {
   "cell_type": "markdown",
   "metadata": {
    "slideshow": {
     "slide_type": "slide"
    }
   },
   "source": [
    "## Stack Machine\n",
    "\n",
    "Here is the implementation of the stack machine"
   ]
  },
  {
   "cell_type": "code",
   "execution_count": 39,
   "metadata": {},
   "outputs": [
    {
     "data": {
      "text/plain": [
       "module StackM : STACKM\n"
      ]
     },
     "execution_count": 39,
     "metadata": {},
     "output_type": "execute_result"
    }
   ],
   "source": [
    "module StackM : STACKM =\n",
    "struct\n",
    "  include PState\n",
    " \n",
    "  let add ()=\n",
    "    get >>= fun (x,(y,s)) ->\n",
    "    put (x+y,s)\n",
    " \n",
    "  let _if_ () =\n",
    "    get >>= fun (c,(t,(e,s))) ->\n",
    "    put ((if c then t else e),s)\n",
    "\n",
    "  let push_const k =\n",
    "    get >>= fun s ->\n",
    "    put (k, s)\n",
    "\n",
    "  let execute c s = runState ~init:s c\n",
    "end"
   ]
  },
  {
   "cell_type": "markdown",
   "metadata": {},
   "source": [
    "## A stack machine program"
   ]
  },
  {
   "cell_type": "code",
   "execution_count": 40,
   "metadata": {},
   "outputs": [
    {
     "data": {
      "text/plain": [
       "val program : (int * '_weak2, int * '_weak2, unit) StackM.t = <abstr>\n"
      ]
     },
     "execution_count": 40,
     "metadata": {},
     "output_type": "execute_result"
    }
   ],
   "source": [
    "let program = let open StackM in\n",
    "  push_const 4 >>= fun () ->\n",
    "  push_const 5 >>= fun () ->\n",
    "  push_const true >>= fun () ->\n",
    "  _if_ () >>= fun () ->\n",
    "  add ()"
   ]
  },
  {
   "cell_type": "code",
   "execution_count": 41,
   "metadata": {},
   "outputs": [
    {
     "data": {
      "text/plain": [
       "- : (int * (int * unit)) * unit = ((25, (10, ())), ())\n"
      ]
     },
     "execution_count": 41,
     "metadata": {},
     "output_type": "execute_result"
    }
   ],
   "source": [
    "StackM.execute program (20,(10,()))"
   ]
  },
  {
   "cell_type": "code",
   "execution_count": 42,
   "metadata": {},
   "outputs": [
    {
     "ename": "error",
     "evalue": "compile_error",
     "output_type": "error",
     "traceback": [
      "\u001b[32mFile \"[42]\", line 1, characters 24-29:\n\u001b[31mError: This expression has type bool but an expression was expected of type\n         int\n\u001b[36m   1: \u001b[30mStackM.execute program (\u001b[4mfalse\u001b[0m\u001b[30m,(10,()))\u001b[0m\n"
     ]
    }
   ],
   "source": [
    "StackM.execute program (false,(10,()))"
   ]
  },
  {
   "cell_type": "code",
   "execution_count": 44,
   "metadata": {},
   "outputs": [
    {
     "ename": "error",
     "evalue": "compile_error",
     "output_type": "error",
     "traceback": [
      "\u001b[32mFile \"[44]\", line 1, characters 23-25:\n\u001b[31mError: This expression has type unit but an expression was expected of type\n         int * (int * unit)\n\u001b[36m   1: \u001b[30mStackM.execute program \u001b[4m()\u001b[0m\n"
     ]
    }
   ],
   "source": [
    "StackM.execute program ()"
   ]
  },
  {
   "cell_type": "markdown",
   "metadata": {
    "slideshow": {
     "slide_type": "slide"
    }
   },
   "source": [
    "<center>\n",
    "\n",
    "<h1 style=\"text-align:center\"> Fin. </h1>\n",
    "</center>"
   ]
  }
 ],
 "metadata": {
  "celltoolbar": "Slideshow",
  "kernelspec": {
   "display_name": "OCaml 4.07.1",
   "language": "OCaml",
   "name": "ocaml-jupyter"
  },
  "language_info": {
   "codemirror_mode": "text/x-ocaml",
   "file_extension": ".ml",
   "mimetype": "text/x-ocaml",
   "name": "OCaml",
   "nbconverter_exporter": null,
   "pygments_lexer": "OCaml",
   "version": "4.07.1"
  }
 },
 "nbformat": 4,
 "nbformat_minor": 2
}
