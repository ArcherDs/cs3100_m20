{
 "cells": [
  {
   "cell_type": "code",
   "execution_count": 43,
   "metadata": {},
   "outputs": [
    {
     "name": "stdout",
     "output_type": "stream",
     "text": [
      "val eval : string -> string = <fun>\n",
      "val eval_traced : string -> string = <fun>\n",
      "type nonrec expr =\n",
      "    Variable of string\n",
      "  | Abstraction of string * Syntax.expr\n",
      "  | Application of Syntax.expr * Syntax.expr\n"
     ]
    }
   ],
   "source": [
    "#use \"init.ml\"\n",
    "\n",
    "#show_type Syntax.expr;;"
   ]
  },
  {
   "cell_type": "code",
   "execution_count": 41,
   "metadata": {},
   "outputs": [
    {
     "name": "stdout",
     "output_type": "stream",
     "text": [
      "= (λy.y) (λy.y)\n",
      "= λy.y\n"
     ]
    },
    {
     "data": {
      "text/plain": [
       "- : string = \"λy.y\"\n"
      ]
     },
     "execution_count": 41,
     "metadata": {},
     "output_type": "execute_result"
    }
   ],
   "source": [
    "eval_traced \"(\\\\x.x x) (\\\\y.y)\""
   ]
  },
  {
   "cell_type": "code",
   "execution_count": null,
   "metadata": {},
   "outputs": [],
   "source": []
  }
 ],
 "metadata": {
  "kernelspec": {
   "display_name": "OCaml 4.07.1",
   "language": "OCaml",
   "name": "ocaml-jupyter"
  },
  "language_info": {
   "codemirror_mode": "text/x-ocaml",
   "file_extension": ".ml",
   "mimetype": "text/x-ocaml",
   "name": "OCaml",
   "nbconverter_exporter": null,
   "pygments_lexer": "OCaml",
   "version": "4.07.1"
  }
 },
 "nbformat": 4,
 "nbformat_minor": 2
}
