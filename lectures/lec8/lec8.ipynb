{
 "cells": [
  {
   "cell_type": "code",
   "execution_count": 44,
   "metadata": {},
   "outputs": [
    {
     "name": "stdout",
     "output_type": "stream",
     "text": [
      "Cannot find file lambda/_build/src/syntax.cmo.\n",
      "Cannot find file lambda/_build/src/lambda_parse.cmo.\n",
      "Cannot find file lambda/_build/src/eval.cmo.\n",
      "val eval : string -> string = <fun>\n",
      "val eval_traced : string -> string = <fun>\n"
     ]
    }
   ],
   "source": [
    "#use \"init.ml\""
   ]
  },
  {
   "cell_type": "code",
   "execution_count": 41,
   "metadata": {},
   "outputs": [
    {
     "name": "stdout",
     "output_type": "stream",
     "text": [
      "= (λy.y) (λy.y)\n",
      "= λy.y\n"
     ]
    },
    {
     "data": {
      "text/plain": [
       "- : string = \"λy.y\"\n"
      ]
     },
     "execution_count": 41,
     "metadata": {},
     "output_type": "execute_result"
    }
   ],
   "source": [
    "eval_traced \"(\\\\x.x x) (\\\\y.y)\""
   ]
  },
  {
   "cell_type": "code",
   "execution_count": null,
   "metadata": {},
   "outputs": [],
   "source": []
  }
 ],
 "metadata": {
  "kernelspec": {
   "display_name": "OCaml 4.07.1",
   "language": "OCaml",
   "name": "ocaml-jupyter"
  },
  "language_info": {
   "codemirror_mode": "text/x-ocaml",
   "file_extension": ".ml",
   "mimetype": "text/x-ocaml",
   "name": "OCaml",
   "nbconverter_exporter": null,
   "pygments_lexer": "OCaml",
   "version": "4.07.1"
  }
 },
 "nbformat": 4,
 "nbformat_minor": 2
}
