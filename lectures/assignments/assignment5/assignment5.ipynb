{
 "cells": [
  {
   "cell_type": "markdown",
   "metadata": {},
   "source": [
    "Before you turn this problem in, make sure everything runs as expected. First, **restart the kernel** (in the menubar, select Kernel$\\rightarrow$Restart) and then **run all cells** (in the menubar, select Cell$\\rightarrow$Run All).\n",
    "\n",
    "Make sure you fill in any place that says `YOUR CODE HERE` or \"YOUR ANSWER HERE\", as well as your name below:"
   ]
  },
  {
   "cell_type": "code",
   "execution_count": null,
   "metadata": {},
   "outputs": [],
   "source": [
    "let name = \"\"\n",
    "let rollno = \"\""
   ]
  },
  {
   "cell_type": "markdown",
   "metadata": {},
   "source": [
    "## Important notes about grading:\n",
    "\n",
    "1. **Compiler errors:** All code you submit must compile. Programs that do not compile will probably receive an automatic zero. If you are having trouble getting your assignment to compile, please visit consulting hours. If you run out of time, it is better to comment out the parts that do not compile, than hand in a more complete file that does not compile.\n",
    "2. **Late assignments:** Please carefully review the course website's policy on late assignments, as all assignments handed in after the deadline will be considered late. Verify on moodle that you have submitted the correct version, before the deadline. Submitting the incorrect version before the deadline and realizing that you have done so after the deadline will be counted as a late submission."
   ]
  },
  {
   "cell_type": "markdown",
   "metadata": {
    "deletable": false,
    "editable": false,
    "nbgrader": {
     "cell_type": "markdown",
     "checksum": "8855282f53a0d817f55a24ded98152d2",
     "grade": false,
     "grade_id": "cell-043ab7f117b8b9e1",
     "locked": true,
     "schema_version": 3,
     "solution": false,
     "task": false
    }
   },
   "source": [
    "# GADTs\n",
    "\n",
    "Let's start with the definition of Church numerals."
   ]
  },
  {
   "cell_type": "code",
   "execution_count": 1,
   "metadata": {
    "deletable": false,
    "editable": false,
    "nbgrader": {
     "cell_type": "code",
     "checksum": "f3f34882905158b08e2f6718593f7d19",
     "grade": false,
     "grade_id": "cell-33fd4f007932b164",
     "locked": true,
     "schema_version": 3,
     "solution": false,
     "task": false
    }
   },
   "outputs": [
    {
     "data": {
      "text/plain": [
       "type z = Z\n"
      ]
     },
     "execution_count": 1,
     "metadata": {},
     "output_type": "execute_result"
    },
    {
     "data": {
      "text/plain": [
       "type 'n s = S : 'n -> 'n s\n"
      ]
     },
     "execution_count": 1,
     "metadata": {},
     "output_type": "execute_result"
    }
   ],
   "source": [
    "type z = Z\n",
    "type 'n s = S : 'n -> 'n s"
   ]
  },
  {
   "cell_type": "markdown",
   "metadata": {
    "deletable": false,
    "editable": false,
    "nbgrader": {
     "cell_type": "markdown",
     "checksum": "f9574d8249e5e1658dc89389cdf429a1",
     "grade": false,
     "grade_id": "cell-b2f2349e340427a8",
     "locked": true,
     "schema_version": 3,
     "solution": false,
     "task": false
    }
   },
   "source": [
    "## Cross product\n",
    "\n",
    "A cross product of two lists is given by the function:\n",
    "\n",
    "```ocaml\n",
    "cross : 'a list -> 'b list -> ('a,'b) list\n",
    "```\n",
    "\n",
    "which returns a new list with all possible pairs of the elements of the two lists. The implementation of the function in OCaml is:"
   ]
  },
  {
   "cell_type": "code",
   "execution_count": 2,
   "metadata": {
    "deletable": false,
    "editable": false,
    "nbgrader": {
     "cell_type": "code",
     "checksum": "9b0db629ddb2dc51575ebf1869187671",
     "grade": false,
     "grade_id": "cell-d8fee7d6c5b35973",
     "locked": true,
     "schema_version": 3,
     "solution": false,
     "task": false
    }
   },
   "outputs": [
    {
     "data": {
      "text/plain": [
       "val cross_v_l : 'a -> 'b list -> ('a * 'b) list = <fun>\n"
      ]
     },
     "execution_count": 2,
     "metadata": {},
     "output_type": "execute_result"
    },
    {
     "data": {
      "text/plain": [
       "val cross : 'a list -> 'b list -> ('a * 'b) list = <fun>\n"
      ]
     },
     "execution_count": 2,
     "metadata": {},
     "output_type": "execute_result"
    }
   ],
   "source": [
    "(* scalar product of value with a list *)\n",
    "let rec cross_v_l v l =\n",
    "  match l with\n",
    "  | [] -> []\n",
    "  | x::xs -> (v,x)::cross_v_l v xs\n",
    "  \n",
    "let rec cross l1 l2 = \n",
    "  match l1 with\n",
    "  | [] -> []\n",
    "  | x::xs -> (cross_v_l x l2) @ cross xs l2"
   ]
  },
  {
   "cell_type": "markdown",
   "metadata": {
    "deletable": false,
    "editable": false,
    "nbgrader": {
     "cell_type": "markdown",
     "checksum": "f633a86b902be01156f3066b7f4cb249",
     "grade": false,
     "grade_id": "cell-345216ba6a696328",
     "locked": true,
     "schema_version": 3,
     "solution": false,
     "task": false
    }
   },
   "source": [
    "Here are some examples:"
   ]
  },
  {
   "cell_type": "code",
   "execution_count": 3,
   "metadata": {
    "deletable": false,
    "editable": false,
    "nbgrader": {
     "cell_type": "code",
     "checksum": "2f59122d2587f9e97573a0e090f8b302",
     "grade": false,
     "grade_id": "cell-156a7c7ef1d9c076",
     "locked": true,
     "schema_version": 3,
     "solution": false,
     "task": false
    }
   },
   "outputs": [
    {
     "data": {
      "text/plain": [
       "- : (int * string) list =\n",
       "[(1, \"a\"); (1, \"b\"); (1, \"c\"); (1, \"d\"); (2, \"a\"); (2, \"b\"); (2, \"c\");\n",
       " (2, \"d\")]\n"
      ]
     },
     "execution_count": 3,
     "metadata": {},
     "output_type": "execute_result"
    },
    {
     "data": {
      "text/plain": [
       "- : ('a * 'b) list = []\n"
      ]
     },
     "execution_count": 3,
     "metadata": {},
     "output_type": "execute_result"
    },
    {
     "data": {
      "text/plain": [
       "- : ('a * int) list = []\n"
      ]
     },
     "execution_count": 3,
     "metadata": {},
     "output_type": "execute_result"
    },
    {
     "data": {
      "text/plain": [
       "- : (int * string) list = [(1, \"a\")]\n"
      ]
     },
     "execution_count": 3,
     "metadata": {},
     "output_type": "execute_result"
    }
   ],
   "source": [
    "cross [1;2] [\"a\";\"b\";\"c\";\"d\"];;\n",
    "cross [] [];;\n",
    "cross [] [1];;\n",
    "cross [1] [\"a\"];;"
   ]
  },
  {
   "cell_type": "markdown",
   "metadata": {
    "deletable": false,
    "editable": false,
    "nbgrader": {
     "cell_type": "markdown",
     "checksum": "ff7eab4b48acd04c9981e30fd11677e8",
     "grade": false,
     "grade_id": "cell-ed15255971ed8610",
     "locked": true,
     "schema_version": 3,
     "solution": false,
     "task": false
    }
   },
   "source": [
    "Naturally, if `l1` is of length `n` and `l2` is of length `m`, then the resultant list is of length `n * m`. Let us enforce this property in a length-indexed list."
   ]
  },
  {
   "cell_type": "code",
   "execution_count": 4,
   "metadata": {
    "deletable": false,
    "editable": false,
    "nbgrader": {
     "cell_type": "code",
     "checksum": "8770c4a50e67c06c5cb6ea6c83c246fa",
     "grade": false,
     "grade_id": "cell-a4d7b526dea49520",
     "locked": true,
     "schema_version": 3,
     "solution": false,
     "task": false
    }
   },
   "outputs": [
    {
     "data": {
      "text/plain": [
       "type (_, _) list =\n",
       "    Nil : ('a, z) list\n",
       "  | Cons : 'a * ('a, 'n) list -> ('a, 'n s) list\n"
      ]
     },
     "execution_count": 4,
     "metadata": {},
     "output_type": "execute_result"
    }
   ],
   "source": [
    "(* Length-indexed list *)\n",
    "type (_,_) list =\n",
    "  | Nil  : ('a, z ) list\n",
    "  | Cons : 'a * ('a,'n) list -> ('a, 'n s) list"
   ]
  },
  {
   "cell_type": "markdown",
   "metadata": {
    "deletable": false,
    "editable": false,
    "nbgrader": {
     "cell_type": "markdown",
     "checksum": "94d124d38e0299ce2dfb48f2c928ad5e",
     "grade": false,
     "grade_id": "cell-b2eabbc8662745be",
     "locked": true,
     "schema_version": 3,
     "solution": false,
     "task": false
    }
   },
   "source": [
    "## Problem 1\n",
    "\n",
    "The scalar product of a value with a list of values does not change the length of the list. Implement the function \n",
    "\n",
    "```ocaml\n",
    "cross_v_l : 'a -> ('b, n) list -> ('a * 'b, n) list\n",
    "```"
   ]
  },
  {
   "cell_type": "code",
   "execution_count": null,
   "metadata": {
    "deletable": false,
    "nbgrader": {
     "cell_type": "code",
     "checksum": "50fdc153715242b44780c363e53965b1",
     "grade": false,
     "grade_id": "cell-6e0afb6fee5582cc",
     "locked": false,
     "schema_version": 3,
     "solution": true,
     "task": false
    }
   },
   "outputs": [],
   "source": [
    "let cross_v_l v l = \n",
    "  (* YOUR CODE HERE *)\n",
    "  raise (Failure \"Not implemented\")"
   ]
  },
  {
   "cell_type": "code",
   "execution_count": null,
   "metadata": {
    "deletable": false,
    "editable": false,
    "nbgrader": {
     "cell_type": "code",
     "checksum": "284e6ce5637bf8a1c7e7e0beab4814aa",
     "grade": true,
     "grade_id": "cell-42d8a5ada7f067da",
     "locked": true,
     "points": 5,
     "schema_version": 3,
     "solution": false,
     "task": false
    }
   },
   "outputs": [],
   "source": [
    "assert (cross_v_l 1 (Cons (\"a\", Cons (\"b\", Nil))) = Cons ((1, \"a\"), Cons ((1, \"b\"), Nil)))"
   ]
  },
  {
   "cell_type": "markdown",
   "metadata": {
    "deletable": false,
    "editable": false,
    "nbgrader": {
     "cell_type": "markdown",
     "checksum": "bb6ad008f88055fdf15987c1222b25e0",
     "grade": false,
     "grade_id": "cell-de828f8f8c001ca8",
     "locked": true,
     "schema_version": 3,
     "solution": false,
     "task": false
    }
   },
   "source": [
    "## Appending lists \n",
    "\n",
    "Observe in `cross` that we have used `append` function. For reference, the append function on regular list is:"
   ]
  },
  {
   "cell_type": "code",
   "execution_count": null,
   "metadata": {
    "deletable": false,
    "editable": false,
    "nbgrader": {
     "cell_type": "code",
     "checksum": "80d02b8143c5b97624c7df47f4ecd25e",
     "grade": false,
     "grade_id": "cell-46050a2dee294c36",
     "locked": true,
     "schema_version": 3,
     "solution": false,
     "task": false
    }
   },
   "outputs": [],
   "source": [
    "let rec append l1 l2 =\n",
    "  match l1 with\n",
    "  | [] -> l2 \n",
    "  | x::xs -> x::append xs l2"
   ]
  },
  {
   "cell_type": "markdown",
   "metadata": {
    "deletable": false,
    "editable": false,
    "nbgrader": {
     "cell_type": "markdown",
     "checksum": "bcffc746b1b7a759f3c8bf8bfe1ae801",
     "grade": false,
     "grade_id": "cell-6790ce19f73753de",
     "locked": true,
     "schema_version": 3,
     "solution": false,
     "task": false
    }
   },
   "source": [
    "We need a corresponding implementation of append for the length-indexed case. Since the length of the result of the append of two lists is the sum of the lengths of the two lists, we need carry around proofs for the sum of length as we had seen in the lecture for tail recursive reverse of a list. In particular, we will show that:\n",
    "\n",
    "\\\\[\n",
    "\\begin{array}{c}\n",
    "0 + n = n \\\\\n",
    "m+n = o \\implies (m+1)+n = o+1\n",
    "\\end{array}\n",
    "\\\\]\n",
    "\n",
    "The two axioms above will correspond to the two cases in the body of the append."
   ]
  },
  {
   "cell_type": "markdown",
   "metadata": {
    "deletable": false,
    "editable": false,
    "nbgrader": {
     "cell_type": "markdown",
     "checksum": "86501451f93930e7a6f3672f4e5a6272",
     "grade": false,
     "grade_id": "cell-d132e99da6109323",
     "locked": true,
     "schema_version": 3,
     "solution": false,
     "task": false
    }
   },
   "source": [
    "## Problem 2\n",
    "\n",
    "Complete the implementation of the following definition of `plus` which correspond to the theorems above"
   ]
  },
  {
   "cell_type": "code",
   "execution_count": null,
   "metadata": {
    "deletable": false,
    "nbgrader": {
     "cell_type": "code",
     "checksum": "8661a89087175ef2cd465bb5a77ee519",
     "grade": false,
     "grade_id": "cell-ff3b41b195fa7dcb",
     "locked": false,
     "schema_version": 3,
     "solution": true,
     "task": false
    }
   },
   "outputs": [],
   "source": [
    "(* uncomment and implement\n",
    "\n",
    "type (_,_,_) plus =\n",
    "  | PlusZero  : (z,?,?) plus\n",
    "  | PlusSucc : (?, ?, 'o) plus -> (?, ?, 'o s) plus\n",
    "  \n",
    "*)\n",
    "\n",
    "(* YOUR CODE HERE *)\n",
    "raise (Failure \"Not implemented\")"
   ]
  },
  {
   "cell_type": "code",
   "execution_count": null,
   "metadata": {
    "deletable": false,
    "editable": false,
    "nbgrader": {
     "cell_type": "code",
     "checksum": "768be2ea40062f34afd0d2169effe7cc",
     "grade": true,
     "grade_id": "cell-b0ed4941dcb878bb",
     "locked": true,
     "points": 5,
     "schema_version": 3,
     "solution": false,
     "task": false
    }
   },
   "outputs": [],
   "source": [
    "let zero_plus_zero_eq_zero : (z,z,z) plus = PlusZero"
   ]
  },
  {
   "cell_type": "code",
   "execution_count": null,
   "metadata": {
    "deletable": false,
    "editable": false,
    "nbgrader": {
     "cell_type": "code",
     "checksum": "8d07b6e232fb5f49f2ebc970a097a617",
     "grade": true,
     "grade_id": "cell-e9133e3bbbfe1f95",
     "locked": true,
     "points": 5,
     "schema_version": 3,
     "solution": false,
     "task": false
    }
   },
   "outputs": [],
   "source": [
    "let two_plus_three_eq_five : (z s s, z s s s, z s s s s s) plus = PlusSucc (PlusSucc PlusZero)"
   ]
  },
  {
   "cell_type": "markdown",
   "metadata": {
    "deletable": false,
    "editable": false,
    "nbgrader": {
     "cell_type": "markdown",
     "checksum": "8e65f2de80750fda58340ab76523559b",
     "grade": false,
     "grade_id": "cell-f8d58cb6e20f95ad",
     "locked": true,
     "schema_version": 3,
     "solution": false,
     "task": false
    }
   },
   "source": [
    "## Problem 3\n",
    "\n",
    "Implement the append for length indexed lists of length `m` and `n`. The first argument is the proof that `m + n = o`."
   ]
  },
  {
   "cell_type": "code",
   "execution_count": null,
   "metadata": {
    "deletable": false,
    "nbgrader": {
     "cell_type": "code",
     "checksum": "fc53e21cc40167def027de8cf24246aa",
     "grade": false,
     "grade_id": "cell-8a3c2550cd9af304",
     "locked": false,
     "schema_version": 3,
     "solution": true,
     "task": false
    }
   },
   "outputs": [],
   "source": [
    "let rec append : type m n o. (m,n,o) plus -> ('a, m) list -> ('a, n) list -> ('a, o) list =\n",
    "  (* YOUR CODE HERE *)\n",
    "  raise (Failure \"Not implemented\")"
   ]
  },
  {
   "cell_type": "code",
   "execution_count": null,
   "metadata": {
    "deletable": false,
    "editable": false,
    "nbgrader": {
     "cell_type": "code",
     "checksum": "48f2eff1926e73b31165482e6707cef0",
     "grade": true,
     "grade_id": "cell-3dd10e92d3da8f68",
     "locked": true,
     "points": 10,
     "schema_version": 3,
     "solution": false,
     "task": false
    }
   },
   "outputs": [],
   "source": [
    "assert (append zero_plus_zero_eq_zero Nil Nil = Nil);\n",
    "assert (append two_plus_three_eq_five (Cons (1,Cons(2,Nil))) (Cons (3, Cons(4,Cons(5,Nil)))) \n",
    "        = Cons (1,Cons(2,Cons(3,Cons(4,Cons(5,Nil))))))\n",
    "        "
   ]
  },
  {
   "cell_type": "markdown",
   "metadata": {
    "deletable": false,
    "editable": false,
    "nbgrader": {
     "cell_type": "markdown",
     "checksum": "9b1d0f7baaa10057e1bd47186b96a706",
     "grade": false,
     "grade_id": "cell-5319f3fe3c881faa",
     "locked": true,
     "schema_version": 3,
     "solution": false,
     "task": false
    }
   },
   "source": [
    "## Multiplication\n",
    "\n",
    "Let's consider the implementation of `cross`:\n",
    "\n",
    "```ocaml\n",
    "let rec cross l1 l2 = \n",
    "  match l1 with\n",
    "  | [] -> []\n",
    "  | x::xs -> (cross_v_l x l2) @ cross xs l2\n",
    "```\n",
    "\n",
    "Given a list `l1` of length `m` and `l2` of length `n`, the result will be a list of length `m * n`. We do not have multiplication on type-level church numerals. Hence, we will implement them ourselves. \n",
    "\n",
    "Let's consider the empty case (first case) in `cross`. If `l1` is empty, then the length of the result list is empty whatever the length of `l2` is. This corresponds to the axiom \n",
    "\n",
    "\\\\[\n",
    "0 * n = 0 \\quad (ax1)\n",
    "\\\\]\n",
    "\n",
    "Now focus on the non-empty case in `cross`. There is a call to `append` (`@`), a call to `cross_v_l` and a recursive call to `cross`. For the corresponding imlementation using length-indexed lists, `cross_v_l` does not need an explicit proof as you have implemented earlier. We know that `cross_v_l x l2` will be of length `n` if `l2` is of length `n`. But we need proofs for `append` and the recursive call of `cross`. \n",
    "\n",
    "Given that `l1` is a non-empty list in the non-empty case, we can represent its length as `m s`. That is to say that the length of `l1` is non-zero. Then `xs` is of length `m`. The recursive call on `cross` is now on lists of length `m` and `n`. Let us say that `m * n = p`. We know that the length of the result of `cross_v_l x l2` call is `n`. Hence, `append` is applied on lists of lengths `n` and `p`. Let us say that `n + p = o`.\n",
    "\n",
    "Putting all the facts together:\n",
    "\n",
    "\\\\[\n",
    "n + p = o ~\\wedge~ m * n = p \\implies (m+1) * n = o \\quad (ax2)\n",
    "\\\\]\n",
    "\n",
    "This can be shown to be true using the arithmetic axioms of distributivity and multiplicative identity. The axioms $ax1$ and $ax2$ are precisely what we need for implementing `cross` for length-indexed lists."
   ]
  },
  {
   "cell_type": "markdown",
   "metadata": {
    "deletable": false,
    "editable": false,
    "nbgrader": {
     "cell_type": "markdown",
     "checksum": "820d640fa1928cd4752b6fec93a5032c",
     "grade": false,
     "grade_id": "cell-2c2e96f893d9507d",
     "locked": true,
     "schema_version": 3,
     "solution": false,
     "task": false
    }
   },
   "source": [
    "## Problem 4\n",
    "\n",
    "Complete the definition of `mult` type below based on the axioms $ax1$ and $ax2$."
   ]
  },
  {
   "cell_type": "code",
   "execution_count": null,
   "metadata": {
    "deletable": false,
    "nbgrader": {
     "cell_type": "code",
     "checksum": "6063317823b58a00080a4175a5feaf3e",
     "grade": false,
     "grade_id": "cell-42b8403bd59c1217",
     "locked": false,
     "schema_version": 3,
     "solution": true,
     "task": false
    }
   },
   "outputs": [],
   "source": [
    "(* UNCOMMENT AND IMPLEMENT\n",
    "\n",
    "type (_,_,_) mult =\n",
    "  | MultZero : (?, ?, ?) mult\n",
    "  | MultSucc : (?, ?, ?) plus * (?, ?, ?) mult -> ('m s, 'n, 'o) mult\n",
    "  \n",
    "*)\n",
    "\n",
    "(* YOUR CODE HERE *)\n",
    "raise (Failure \"Not implemented\")"
   ]
  },
  {
   "cell_type": "code",
   "execution_count": null,
   "metadata": {
    "deletable": false,
    "editable": false,
    "nbgrader": {
     "cell_type": "code",
     "checksum": "56b321443ff58f42481d15a992abfb94",
     "grade": true,
     "grade_id": "cell-bb7814c47b52d1e7",
     "locked": true,
     "points": 5,
     "schema_version": 3,
     "solution": false,
     "task": false
    }
   },
   "outputs": [],
   "source": [
    "let zero_mult_two_eq_zero : (z, z s s, z) mult = MultZero"
   ]
  },
  {
   "cell_type": "code",
   "execution_count": null,
   "metadata": {
    "deletable": false,
    "editable": false,
    "nbgrader": {
     "cell_type": "code",
     "checksum": "b596e535909eee550bb108103133c469",
     "grade": true,
     "grade_id": "cell-3b9e84b186e2803d",
     "locked": true,
     "points": 5,
     "schema_version": 3,
     "solution": false,
     "task": false
    }
   },
   "outputs": [],
   "source": [
    "let one_mult_two_eq_two : (z s, z s s, z s s) mult = MultSucc (PlusSucc (PlusSucc PlusZero), MultZero)"
   ]
  },
  {
   "cell_type": "markdown",
   "metadata": {
    "deletable": false,
    "editable": false,
    "nbgrader": {
     "cell_type": "markdown",
     "checksum": "7383a8038b5c18d6e952f9b875ce29ad",
     "grade": false,
     "grade_id": "cell-a38b038ece8c8a8e",
     "locked": true,
     "schema_version": 3,
     "solution": false,
     "task": false
    }
   },
   "source": [
    "## Problem 5\n",
    "\n",
    "In the following, write down terms (proofs) which have those types (theorems)."
   ]
  },
  {
   "cell_type": "code",
   "execution_count": null,
   "metadata": {
    "deletable": false,
    "nbgrader": {
     "cell_type": "code",
     "checksum": "ee17b24d71cbf9dfc54fecea77a9b35e",
     "grade": false,
     "grade_id": "cell-876eff982df96872",
     "locked": false,
     "schema_version": 3,
     "solution": true,
     "task": false
    }
   },
   "outputs": [],
   "source": [
    "let two_mult_two_eq_four : (z s s, z s s, z s s s s) mult =\n",
    "  (* YOUR CODE HERE *)\n",
    "  raise (Failure \"Not implemented\")\n",
    "\n",
    "let two_mult_one_eq_two : (z s s, z s, z s s) mult =\n",
    "  (* YOUR CODE HERE *)\n",
    "  raise (Failure \"Not implemented\")"
   ]
  },
  {
   "cell_type": "code",
   "execution_count": null,
   "metadata": {
    "deletable": false,
    "editable": false,
    "nbgrader": {
     "cell_type": "code",
     "checksum": "97a10a85f79b847b50bccedb8c7d5a38",
     "grade": true,
     "grade_id": "cell-46b8188d0998b9ad",
     "locked": true,
     "points": 10,
     "schema_version": 3,
     "solution": false,
     "task": false
    }
   },
   "outputs": [],
   "source": [
    "let _two_mult_two_eq_four : (z s s, z s s, z s s s s) mult = two_mult_two_eq_four in\n",
    "let _two_mult_one_eq_two : (z s s, z s, z s s) mult = two_mult_one_eq_two in\n",
    "()"
   ]
  },
  {
   "cell_type": "markdown",
   "metadata": {
    "deletable": false,
    "editable": false,
    "nbgrader": {
     "cell_type": "markdown",
     "checksum": "a822f43d919ba92e255f15a3b065c49f",
     "grade": false,
     "grade_id": "cell-53d2c06eac4522c3",
     "locked": true,
     "schema_version": 3,
     "solution": false,
     "task": false
    }
   },
   "source": [
    "## Problem 6\n",
    "\n",
    "Implement cross which accepts the multiplication proof as the first argument."
   ]
  },
  {
   "cell_type": "code",
   "execution_count": null,
   "metadata": {
    "deletable": false,
    "nbgrader": {
     "cell_type": "code",
     "checksum": "909794cc965d3f6614ce97b70c894540",
     "grade": false,
     "grade_id": "cell-c335d0a970fff069",
     "locked": false,
     "schema_version": 3,
     "solution": true,
     "task": false
    }
   },
   "outputs": [],
   "source": [
    "let rec cross : type m n o. (m,n,o) mult -> ('a,m) list -> ('b,n) list -> ('a * 'b, o) list =\n",
    "  (* YOUR CODE HERE *)\n",
    "  raise (Failure \"Not implemented\")"
   ]
  },
  {
   "cell_type": "code",
   "execution_count": null,
   "metadata": {
    "deletable": false,
    "editable": false,
    "nbgrader": {
     "cell_type": "code",
     "checksum": "180ac1c1e8b0c9a6766fc78c3b3c11c5",
     "grade": true,
     "grade_id": "cell-98c1de1bd6b2cf71",
     "locked": true,
     "points": 20,
     "schema_version": 3,
     "solution": false,
     "task": false
    }
   },
   "outputs": [],
   "source": [
    "assert (cross zero_mult_two_eq_zero Nil (Cons (1,Cons(2,Nil))) = Nil);\n",
    "assert (cross one_mult_two_eq_two (Cons(\"a\", Nil)) (Cons (1,Cons(2,Nil))) =\n",
    "        Cons((\"a\",1), Cons((\"a\",2), Nil)))"
   ]
  },
  {
   "cell_type": "markdown",
   "metadata": {
    "deletable": false,
    "editable": false,
    "nbgrader": {
     "cell_type": "markdown",
     "checksum": "16d6e16b50b5cb15a78b33ca6e626545",
     "grade": false,
     "grade_id": "cell-561926a33c77bfe2",
     "locked": true,
     "schema_version": 3,
     "solution": false,
     "task": false
    }
   },
   "source": [
    "# Zipping\n",
    "\n",
    "You will now implement zip functions that will zip length indexed lists.\n",
    "\n",
    "## Problem 7\n",
    "\n",
    "First, implement zip function that works on the same lengthed lists. Compared to the standard library functions such as `map2` and `iter2`, which raises an `Invalid_argument` exception when the lists are of different lengths, your `zip` function will statically reject lists of different lengths. "
   ]
  },
  {
   "cell_type": "code",
   "execution_count": null,
   "metadata": {
    "deletable": false,
    "nbgrader": {
     "cell_type": "code",
     "checksum": "9bcaaee6266839ee98e07eb2be90eefb",
     "grade": false,
     "grade_id": "cell-ab8a33f65bee4977",
     "locked": false,
     "schema_version": 3,
     "solution": true,
     "task": false
    }
   },
   "outputs": [],
   "source": [
    "let rec zip : type n. ('a,n) list -> ('b,n) list -> ('a *'b, n) list =\n",
    "  (* YOUR CODE HERE *)\n",
    "  raise (Failure \"Not implemented\")"
   ]
  },
  {
   "cell_type": "code",
   "execution_count": null,
   "metadata": {
    "deletable": false,
    "editable": false,
    "nbgrader": {
     "cell_type": "code",
     "checksum": "6359a385318ea049d2440522263d1d17",
     "grade": true,
     "grade_id": "cell-9afaf1453f661ab4",
     "locked": true,
     "points": 10,
     "schema_version": 3,
     "solution": false,
     "task": false
    }
   },
   "outputs": [],
   "source": [
    "assert (zip (Cons(1,Cons(2,Nil))) (Cons(\"a\",Cons(\"b\",Nil))) = \n",
    "        Cons((1,\"a\"), Cons((2,\"b\"), Nil)))"
   ]
  },
  {
   "cell_type": "markdown",
   "metadata": {
    "deletable": false,
    "editable": false,
    "nbgrader": {
     "cell_type": "markdown",
     "checksum": "05736e2b169adda5ee5b47ee54f17152",
     "grade": false,
     "grade_id": "cell-48a5154d51da1f1d",
     "locked": true,
     "schema_version": 3,
     "solution": false,
     "task": false
    }
   },
   "source": [
    "## Zipping lists of unequal length\n",
    "\n",
    "Let's say we want to allow zipping lists of unequal lengths such that we only zip together the first `n` elements where `n` is the smaller of the lengths of the two lists. For example,\n",
    "\n",
    "```ocaml\n",
    "let rec zip_matching l1 l2 =\n",
    "  match l1,l2 with\n",
    "  | [],_ -> []\n",
    "  | _,[] -> []\n",
    "  | x::xs,y::ys -> (x,y)::zip_matching xs ys\n",
    ";;\n",
    "```\n",
    "\n",
    "```ocaml\n",
    "assert (zip_matching [1;2] [1.0;2.0;3.0] = [(1,1.0);(2;2.0)])\n",
    "```\n",
    "\n",
    "The extra element in the second list are ignored. If the lists are of lengths, `m` and `n`, then the result list is of length `o` where `o` is the minimum of `m` and `n`. We do not have minimum function on type level-numerals. Hence, we will implement them. \n",
    "\n",
    "## Problem 8\n",
    "\n",
    "Implement the `min` type that corresponds to the three cases in the body of the zip_matching function"
   ]
  },
  {
   "cell_type": "code",
   "execution_count": null,
   "metadata": {
    "deletable": false,
    "nbgrader": {
     "cell_type": "code",
     "checksum": "fd5434105a69ecf39f7558c8760e3092",
     "grade": false,
     "grade_id": "cell-228433196cff0503",
     "locked": false,
     "schema_version": 3,
     "solution": true,
     "task": false
    }
   },
   "outputs": [],
   "source": [
    "(* UNCOMMENT AND IMPLEMENT\n",
    "\n",
    "type (_,_,_) min =\n",
    "  | MinZero1 : ? \n",
    "  | MinZero2 : ? \n",
    "  | MinSucc  : ?\n",
    "*)\n",
    "\n",
    "(* YOUR CODE HERE *)\n",
    "raise (Failure \"Not implemented\")"
   ]
  },
  {
   "cell_type": "code",
   "execution_count": null,
   "metadata": {
    "deletable": false,
    "editable": false,
    "nbgrader": {
     "cell_type": "code",
     "checksum": "56c23763bb65b0adeb0fc4453759d85b",
     "grade": true,
     "grade_id": "cell-984ec790a3c204ae",
     "locked": true,
     "points": 10,
     "schema_version": 3,
     "solution": false,
     "task": false
    }
   },
   "outputs": [],
   "source": [
    "let min_zero_four_zero : (z, z s s s s, z) min = MinZero1"
   ]
  },
  {
   "cell_type": "markdown",
   "metadata": {
    "deletable": false,
    "editable": false,
    "nbgrader": {
     "cell_type": "markdown",
     "checksum": "0b2fb830cea1319d28ce9b893371a0a5",
     "grade": false,
     "grade_id": "cell-9771434cad4814c3",
     "locked": true,
     "schema_version": 3,
     "solution": false,
     "task": false
    }
   },
   "source": [
    "## Problem 9\n",
    "\n",
    "In the following, write down terms (proofs) which have those types (theorems)."
   ]
  },
  {
   "cell_type": "code",
   "execution_count": null,
   "metadata": {
    "deletable": false,
    "nbgrader": {
     "cell_type": "code",
     "checksum": "798bde900b3980bfcb6af315413def01",
     "grade": false,
     "grade_id": "cell-f6437981ceea2250",
     "locked": false,
     "schema_version": 3,
     "solution": true,
     "task": false
    }
   },
   "outputs": [],
   "source": [
    "let min_three_zero_zero : (z s s s, z, z) min = \n",
    "  (* YOUR CODE HERE *)\n",
    "  raise (Failure \"Not implemented\")\n",
    "\n",
    "let min_three_five_eq_three : (z s s s, z s s s s s, z s s s) min = \n",
    "  (* YOUR CODE HERE *)\n",
    "  raise (Failure \"Not implemented\")"
   ]
  },
  {
   "cell_type": "code",
   "execution_count": null,
   "metadata": {
    "deletable": false,
    "editable": false,
    "nbgrader": {
     "cell_type": "code",
     "checksum": "6545dfffc7bc3e97354e9904178b2004",
     "grade": true,
     "grade_id": "cell-e75658a586a1e97b",
     "locked": true,
     "points": 10,
     "schema_version": 3,
     "solution": false,
     "task": false
    }
   },
   "outputs": [],
   "source": [
    "let _min_three_zero_zero : (z s s s, z, z) min = min_three_zero_zero"
   ]
  },
  {
   "cell_type": "markdown",
   "metadata": {
    "deletable": false,
    "editable": false,
    "nbgrader": {
     "cell_type": "markdown",
     "checksum": "bafefab5a2ebb04dd37b7fb0bc249992",
     "grade": false,
     "grade_id": "cell-daf8b6fb13ce7d1b",
     "locked": true,
     "schema_version": 3,
     "solution": false,
     "task": false
    }
   },
   "source": [
    "## Problem 10\n",
    "\n",
    "Implement the `zip_matching` function on length-indexed list:"
   ]
  },
  {
   "cell_type": "code",
   "execution_count": null,
   "metadata": {
    "deletable": false,
    "nbgrader": {
     "cell_type": "code",
     "checksum": "eafcbf4038fcae51d96808e92c6729ed",
     "grade": false,
     "grade_id": "cell-94b20ead0513282c",
     "locked": false,
     "schema_version": 3,
     "solution": true,
     "task": false
    }
   },
   "outputs": [],
   "source": [
    "let rec zip_matching : type n m o. (n,m,o) min -> ('a, n) list -> ('b, m) list -> ('a * 'b, o) list =\n",
    "  (* YOUR CODE HERE *)\n",
    "  raise (Failure \"Not implemented\")"
   ]
  },
  {
   "cell_type": "code",
   "execution_count": null,
   "metadata": {
    "deletable": false,
    "editable": false,
    "nbgrader": {
     "cell_type": "code",
     "checksum": "ce42ea12ff8791a091f4c89be82dbf89",
     "grade": true,
     "grade_id": "cell-0756c945ee08fed3",
     "locked": true,
     "points": 15,
     "schema_version": 3,
     "solution": false,
     "task": false
    }
   },
   "outputs": [],
   "source": [
    "assert (zip_matching min_zero_four_zero Nil (Cons(1,(Cons(2,Cons(3,Cons(4,Nil)))))) = Nil);\n",
    "assert (zip_matching min_three_zero_zero  (Cons(1,(Cons(2,Cons(3,Nil))))) Nil = Nil)"
   ]
  }
 ],
 "metadata": {
  "kernelspec": {
   "display_name": "OCaml 4.10",
   "language": "OCaml",
   "name": "ocaml-jupyter"
  },
  "language_info": {
   "codemirror_mode": "text/x-ocaml",
   "file_extension": ".ml",
   "mimetype": "text/x-ocaml",
   "name": "OCaml",
   "nbconverter_exporter": null,
   "pygments_lexer": "OCaml",
   "version": "4.10.0"
  }
 },
 "nbformat": 4,
 "nbformat_minor": 2
}
