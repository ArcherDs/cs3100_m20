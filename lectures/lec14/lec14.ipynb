{
 "cells": [
  {
   "cell_type": "markdown",
   "metadata": {
    "slideshow": {
     "slide_type": "slide"
    }
   },
   "source": [
    "<center>\n",
    "\n",
    "<h1 style=\"text-align:center\"> Streams, Laziness and Memoization </h1>\n",
    "<h2 style=\"text-align:center\"> CS3100 Fall 2019 </h2>\n",
    "</center>"
   ]
  },
  {
   "cell_type": "markdown",
   "metadata": {
    "slideshow": {
     "slide_type": "slide"
    }
   },
   "source": [
    "## Review\n",
    "\n",
    "### Previosly\n",
    "\n",
    "* Modular Programming\n",
    "  + Namespacing, Abstraction, Code Reuse\n",
    "  + Structures, Signatures, Functors\n",
    "  \n",
    "### This lecture\n",
    "\n",
    "* Streams: Programming with infinite data structures\n",
    "* Laziness: Call-by-need evaluation"
   ]
  },
  {
   "cell_type": "markdown",
   "metadata": {
    "slideshow": {
     "slide_type": "slide"
    }
   },
   "source": [
    "## Recursive values\n",
    "\n",
    "* In OCaml, we can define recursive functions.\n",
    "  + we can also define **recursive values**"
   ]
  },
  {
   "cell_type": "code",
   "execution_count": null,
   "metadata": {},
   "outputs": [],
   "source": [
    "(* Infinite list of ones *)\n",
    "let rec ones = 1::ones"
   ]
  },
  {
   "cell_type": "code",
   "execution_count": null,
   "metadata": {},
   "outputs": [],
   "source": [
    "(* Infinite list of alternating 0s and 1s *)\n",
    "let rec zero_ones = 0::1::zero_ones"
   ]
  },
  {
   "cell_type": "markdown",
   "metadata": {},
   "source": [
    "Even though the list is **infinite**, the data structure uses **finite** memory. "
   ]
  },
  {
   "cell_type": "markdown",
   "metadata": {},
   "source": [
    "## Infinite data structures\n",
    "\n",
    "Infinite data structures are not just an intellectual curiosity.\n",
    "\n",
    "* Infinite sequences such as primes and fibonacci numbers.\n",
    "* Streams of input read from file or socket.\n",
    "* Game trees which may be infinite\n",
    "  + Every possible move leads to branch in the tree. \n",
    "  + Imagine game trees where a piece could chase the other around forever. "
   ]
  },
  {
   "cell_type": "markdown",
   "metadata": {
    "slideshow": {
     "slide_type": "slide"
    }
   },
   "source": [
    "## Limitations of cyclic structures\n",
    "\n",
    "Suppose we want to convert the infinite list `zero_ones` to string, the obvious solutions don't work. "
   ]
  },
  {
   "cell_type": "code",
   "execution_count": null,
   "metadata": {},
   "outputs": [],
   "source": [
    "let zero_ones_string = List.map string_of_int zero_ones"
   ]
  },
  {
   "cell_type": "markdown",
   "metadata": {
    "slideshow": {
     "slide_type": "slide"
    }
   },
   "source": [
    "## List to Streams\n",
    "\n",
    "We can start with the list type\n",
    "\n",
    "```ocaml\n",
    "type 'a list = Nil | Cons of 'a * 'a list\n",
    "```\n",
    "\n",
    "and make a **stream** type."
   ]
  },
  {
   "cell_type": "code",
   "execution_count": null,
   "metadata": {},
   "outputs": [],
   "source": [
    "type 'a stream = Cons of 'a * 'a stream"
   ]
  },
  {
   "cell_type": "markdown",
   "metadata": {},
   "source": [
    "There is no `Nil` since the streams are infinite. "
   ]
  },
  {
   "cell_type": "markdown",
   "metadata": {
    "slideshow": {
     "slide_type": "slide"
    }
   },
   "source": [
    "## Doesn't quite work"
   ]
  },
  {
   "cell_type": "code",
   "execution_count": null,
   "metadata": {},
   "outputs": [],
   "source": [
    "let rec zero_ones = Cons (0, Cons (1, zero_ones))"
   ]
  },
  {
   "cell_type": "code",
   "execution_count": null,
   "metadata": {},
   "outputs": [],
   "source": [
    "let rec to_string (Cons(x,xs)) = Cons(string_of_int x, to_string xs)"
   ]
  },
  {
   "cell_type": "code",
   "execution_count": null,
   "metadata": {},
   "outputs": [],
   "source": [
    "to_string zero_ones"
   ]
  },
  {
   "cell_type": "markdown",
   "metadata": {
    "slideshow": {
     "slide_type": "slide"
    }
   },
   "source": [
    "## Pausing the execution\n",
    "\n",
    "* We need a way to pause the execution rather than recursively applying to the rest of the list. \n",
    "* Use **thunks**: `unit -> 'a` functions."
   ]
  },
  {
   "cell_type": "code",
   "execution_count": null,
   "metadata": {},
   "outputs": [],
   "source": [
    "let v = failwith \"error\""
   ]
  },
  {
   "cell_type": "markdown",
   "metadata": {
    "slideshow": {
     "slide_type": "slide"
    }
   },
   "source": [
    "## Pausing the execution"
   ]
  },
  {
   "cell_type": "code",
   "execution_count": null,
   "metadata": {},
   "outputs": [],
   "source": [
    "let f = fun () -> failwith \"error\""
   ]
  },
  {
   "cell_type": "code",
   "execution_count": null,
   "metadata": {},
   "outputs": [],
   "source": [
    "f ()"
   ]
  },
  {
   "cell_type": "markdown",
   "metadata": {
    "slideshow": {
     "slide_type": "slide"
    }
   },
   "source": [
    "## Streams again"
   ]
  },
  {
   "cell_type": "code",
   "execution_count": null,
   "metadata": {},
   "outputs": [],
   "source": [
    "type 'a stream = Cons of 'a * (unit -> 'a stream)"
   ]
  },
  {
   "cell_type": "code",
   "execution_count": null,
   "metadata": {},
   "outputs": [],
   "source": [
    "let rec zero_ones = Cons (0, fun () -> Cons (1, fun () -> zero_ones))"
   ]
  },
  {
   "cell_type": "code",
   "execution_count": null,
   "metadata": {},
   "outputs": [],
   "source": [
    "let hd (Cons (x, _)) = x"
   ]
  },
  {
   "cell_type": "code",
   "execution_count": null,
   "metadata": {},
   "outputs": [],
   "source": [
    "let tl (Cons (_, xs)) = xs ()"
   ]
  },
  {
   "cell_type": "markdown",
   "metadata": {
    "slideshow": {
     "slide_type": "slide"
    }
   },
   "source": [
    "## More Stream functions"
   ]
  },
  {
   "cell_type": "code",
   "execution_count": null,
   "metadata": {},
   "outputs": [],
   "source": [
    "let rec take n s = \n",
    "  if n = 0 then []\n",
    "  else hd s::(take (n-1) (tl s))"
   ]
  },
  {
   "cell_type": "code",
   "execution_count": null,
   "metadata": {},
   "outputs": [],
   "source": [
    "take 10 zero_ones"
   ]
  },
  {
   "cell_type": "code",
   "execution_count": null,
   "metadata": {},
   "outputs": [],
   "source": [
    "let rec drop n s =\n",
    "  if n = 0 then s\n",
    "  else drop (n-1) (tl s)"
   ]
  },
  {
   "cell_type": "code",
   "execution_count": null,
   "metadata": {},
   "outputs": [],
   "source": [
    "drop 1 zero_ones"
   ]
  },
  {
   "cell_type": "markdown",
   "metadata": {
    "slideshow": {
     "slide_type": "slide"
    }
   },
   "source": [
    "## Higher order functions on streams"
   ]
  },
  {
   "cell_type": "code",
   "execution_count": null,
   "metadata": {},
   "outputs": [],
   "source": [
    "let rec map f s = Cons (f (hd s), fun () -> map f (tl s))"
   ]
  },
  {
   "cell_type": "code",
   "execution_count": null,
   "metadata": {},
   "outputs": [],
   "source": [
    "let zero_ones_str = map string_of_int zero_ones"
   ]
  },
  {
   "cell_type": "code",
   "execution_count": null,
   "metadata": {},
   "outputs": [],
   "source": [
    "take 10 zero_ones_str"
   ]
  },
  {
   "cell_type": "markdown",
   "metadata": {
    "slideshow": {
     "slide_type": "slide"
    }
   },
   "source": [
    "## Higher order functions on streams"
   ]
  },
  {
   "cell_type": "code",
   "execution_count": null,
   "metadata": {},
   "outputs": [],
   "source": [
    "(** [filter p s] returns a new stream where every element [x] in [s] \n",
    "    such that [p x = true] is removed *)\n",
    "let rec filter p s =\n",
    "  if p (hd s) then filter p (tl s)\n",
    "  else Cons (hd s, fun () -> filter p (tl s))"
   ]
  },
  {
   "cell_type": "code",
   "execution_count": null,
   "metadata": {},
   "outputs": [],
   "source": [
    "let s' = filter ((=) 0) zero_ones in\n",
    "take 10 s'"
   ]
  },
  {
   "cell_type": "markdown",
   "metadata": {
    "slideshow": {
     "slide_type": "slide"
    }
   },
   "source": [
    "## Higher order functions on streams"
   ]
  },
  {
   "cell_type": "code",
   "execution_count": null,
   "metadata": {},
   "outputs": [],
   "source": [
    "let rec zip f s1 s2 = Cons (f (hd s1) (hd s2), fun () -> zip f (tl s1) (tl s2))"
   ]
  },
  {
   "cell_type": "code",
   "execution_count": null,
   "metadata": {},
   "outputs": [],
   "source": [
    "zip (fun x y -> (x,y)) zero_ones zero_ones_str"
   ]
  },
  {
   "cell_type": "markdown",
   "metadata": {
    "slideshow": {
     "slide_type": "slide"
    }
   },
   "source": [
    "## Primes\n",
    "\n",
    "* **Sieve of Eratosthenes**: Neat way to compute primes.\n",
    "* Start with a stream `s` of `[2;3;4;.....]`.\n",
    "* At each step, \n",
    "  + `p = hd s` is a prime.\n",
    "  + return a new stream `s'` such that $\\forall x.x \\text{ mod } p \\notin s'$\n",
    "* In the first step,\n",
    "  + `prime = 2`\n",
    "  + `new stream = [3;5;7;9;11;13;15;17;....]`\n",
    "* In the second step,\n",
    "  + `prime = 3`\n",
    "  + `new stream = [5;7;11;13;17;19;23;....]`"
   ]
  },
  {
   "cell_type": "markdown",
   "metadata": {
    "slideshow": {
     "slide_type": "slide"
    }
   },
   "source": [
    "## Primes"
   ]
  },
  {
   "cell_type": "code",
   "execution_count": null,
   "metadata": {},
   "outputs": [],
   "source": [
    "let rec from n = Cons (n, fun () -> from (n+1));;\n",
    "from 2"
   ]
  },
  {
   "cell_type": "code",
   "execution_count": null,
   "metadata": {},
   "outputs": [],
   "source": [
    "let primes_stream =\n",
    "  let rec primes s = Cons (hd s, fun () -> \n",
    "    primes @@ filter (fun x -> x mod (hd s) = 0) (tl s))\n",
    "  in primes (from 2)"
   ]
  },
  {
   "cell_type": "code",
   "execution_count": null,
   "metadata": {},
   "outputs": [],
   "source": [
    "take 10 @@ primes_stream"
   ]
  },
  {
   "cell_type": "markdown",
   "metadata": {
    "slideshow": {
     "slide_type": "slide"
    }
   },
   "source": [
    "## Fibonacci sequence\n",
    "\n",
    "* Let's consider Fibonacci sequence\n",
    "  + `s1 = [1;1;2;3;5;8;13;...]`\n",
    "* Let's consider the tail of `s1`\n",
    "  + `s2 = [1;2;3;5;8;13;....]`\n",
    "* Let's zip `s1` and `s2` by adding together the elements:\n",
    "  + `s3 = [2;3;5;6;13;21;...]`\n",
    "  + `s3` is nothing but the tail of tail of fibonacci sequence. \n",
    "* If we were to prepend `[1;1]` to `s3` we will have the fibonacci sequence.\n",
    "\n"
   ]
  },
  {
   "cell_type": "markdown",
   "metadata": {
    "slideshow": {
     "slide_type": "slide"
    }
   },
   "source": [
    "## Fibonacci sequence"
   ]
  },
  {
   "cell_type": "code",
   "execution_count": null,
   "metadata": {},
   "outputs": [],
   "source": [
    "let rec fibs = \n",
    "  Cons (1, fun () -> \n",
    "    Cons (1, fun () -> \n",
    "      zip (+) fibs (tl fibs)))"
   ]
  },
  {
   "cell_type": "code",
   "execution_count": null,
   "metadata": {},
   "outputs": [],
   "source": [
    "take 10 fibs"
   ]
  },
  {
   "cell_type": "markdown",
   "metadata": {
    "slideshow": {
     "slide_type": "slide"
    }
   },
   "source": [
    "## Fibonacci sequence\n",
    "\n",
    "* Each time we force the computation of the next element, we compute the fibonacci of previous element twice.\n",
    "  + Not immediately apparent, but this is equivalent to:\n",
    "\n",
    "```ocaml\n",
    "let rec fib n = if n < 2 then 1 else fib (n-1) + fib (n-2)\n",
    "```\n",
    "\n",
    "There is an exponential increase in the running time of `fib(n)` for each increase in `n`."
   ]
  },
  {
   "cell_type": "markdown",
   "metadata": {
    "slideshow": {
     "slide_type": "slide"
    }
   },
   "source": [
    "## Lazy Values\n",
    "\n",
    "* It would be nice to **save** the results of the execution for previously seen values and reuse them.\n",
    "  + This is the idea behind lazy values in OCaml.\n",
    "* Lazy values are the opt-in, explicit, call-by-name reduction strategy for OCaml\n",
    "  + Rest of the language is strict i.e, call-by-value\n",
    "* Lazy module in OCaml is:\n",
    "\n",
    "```ocaml\n",
    "module Lazy = \n",
    "  type 'a t = 'a lazy_t\n",
    "  val force : 'a t -> 'a\n",
    "```\n",
    "\n",
    "OCaml has syntactic support for lazy values through the `lazy` keyword."
   ]
  },
  {
   "cell_type": "markdown",
   "metadata": {
    "slideshow": {
     "slide_type": "slide"
    }
   },
   "source": [
    "## Lazy values"
   ]
  },
  {
   "cell_type": "code",
   "execution_count": null,
   "metadata": {},
   "outputs": [],
   "source": [
    "let v = lazy (10 + (print_endline \"Hello\"; 20))"
   ]
  },
  {
   "cell_type": "code",
   "execution_count": null,
   "metadata": {},
   "outputs": [],
   "source": [
    "Lazy.force v"
   ]
  },
  {
   "cell_type": "code",
   "execution_count": null,
   "metadata": {},
   "outputs": [],
   "source": [
    "Lazy.force v"
   ]
  },
  {
   "cell_type": "markdown",
   "metadata": {
    "slideshow": {
     "slide_type": "slide"
    }
   },
   "source": [
    "## Lazy fib"
   ]
  },
  {
   "cell_type": "code",
   "execution_count": null,
   "metadata": {},
   "outputs": [],
   "source": [
    "let fib30lazy = lazy (take 30 fibs |> List.rev |> List.hd)"
   ]
  },
  {
   "cell_type": "code",
   "execution_count": null,
   "metadata": {},
   "outputs": [],
   "source": [
    "Lazy.force fib30lazy"
   ]
  },
  {
   "cell_type": "code",
   "execution_count": null,
   "metadata": {},
   "outputs": [],
   "source": [
    "let fib29lazy = take 31 fibs |> List.rev |> List.hd"
   ]
  },
  {
   "cell_type": "markdown",
   "metadata": {
    "slideshow": {
     "slide_type": "slide"
    }
   },
   "source": [
    "## Lazy stream\n",
    "\n",
    "Let's redefine the stream using lazy values. "
   ]
  },
  {
   "cell_type": "code",
   "execution_count": null,
   "metadata": {},
   "outputs": [],
   "source": [
    "type 'a stream = Cons of 'a * 'a stream Lazy.t"
   ]
  },
  {
   "cell_type": "code",
   "execution_count": null,
   "metadata": {},
   "outputs": [],
   "source": [
    "let hd (Cons (x,l)) = x\n",
    "let tl (Cons (x,l)) = Lazy.force l\n",
    "let rec take n s = \n",
    "  if n = 0 then [] else hd s::(take (n-1) (tl s))\n",
    "let rec zip f s1 s2 = \n",
    "  Cons (f (hd s1) (hd s2), lazy (zip f (tl s1) (tl s2)))"
   ]
  },
  {
   "cell_type": "markdown",
   "metadata": {
    "slideshow": {
     "slide_type": "slide"
    }
   },
   "source": [
    "## Fibs Lazy Streams"
   ]
  },
  {
   "cell_type": "code",
   "execution_count": 53,
   "metadata": {},
   "outputs": [
    {
     "ename": "error",
     "evalue": "compile_error",
     "output_type": "error",
     "traceback": [
      "\u001b[32mFile \"[53]\", line 2, characters 2-6:\n\u001b[31mError: Unbound constructor Cons\n\u001b[36m   1: \u001b[30mlet rec fibslazystream = \n\u001b[36m   2: \u001b[30m  \u001b[4mCons\u001b[0m\u001b[30m (1, lazy (\n\u001b[36m   3: \u001b[30m    Cons (1, lazy (\u001b[0m\n"
     ]
    }
   ],
   "source": [
    "let rec fibslazystream = \n",
    "  Cons (1, lazy (\n",
    "    Cons (1, lazy (\n",
    "      zip (+) fibslazystream (tl fibslazystream)))))"
   ]
  },
  {
   "cell_type": "code",
   "execution_count": null,
   "metadata": {},
   "outputs": [],
   "source": [
    "take 30 fibslazystream"
   ]
  },
  {
   "cell_type": "markdown",
   "metadata": {
    "slideshow": {
     "slide_type": "-"
    }
   },
   "source": [
    "You can see that this is fast!"
   ]
  },
  {
   "cell_type": "markdown",
   "metadata": {
    "slideshow": {
     "slide_type": "slide"
    }
   },
   "source": [
    "## Memoization\n",
    "\n",
    "* Lazy values in OCaml are a specific efficient implementation of the general idea of caching called **Memoization**.\n",
    "  + Add caching to functions to retrieve results fast. "
   ]
  },
  {
   "cell_type": "code",
   "execution_count": 54,
   "metadata": {},
   "outputs": [
    {
     "data": {
      "text/plain": [
       "val memo : ('a -> 'b) -> 'a -> 'b = <fun>\n"
      ]
     },
     "execution_count": 54,
     "metadata": {},
     "output_type": "execute_result"
    }
   ],
   "source": [
    "let memo f = \n",
    "  let cache = Hashtbl.create 16 in\n",
    "  fun v -> \n",
    "    match Hashtbl.find_opt cache v with\n",
    "    | None -> \n",
    "        let res = f v in \n",
    "        Hashtbl.add cache v res;\n",
    "        res\n",
    "    | Some res -> res"
   ]
  },
  {
   "cell_type": "markdown",
   "metadata": {
    "slideshow": {
     "slide_type": "slide"
    }
   },
   "source": [
    "## Expensive identity"
   ]
  },
  {
   "cell_type": "code",
   "execution_count": 55,
   "metadata": {},
   "outputs": [
    {
     "data": {
      "text/plain": [
       "val spin : int -> unit = <fun>\n"
      ]
     },
     "execution_count": 55,
     "metadata": {},
     "output_type": "execute_result"
    }
   ],
   "source": [
    "let rec spin n = if n = 0 then () else spin (n-1)"
   ]
  },
  {
   "cell_type": "code",
   "execution_count": 56,
   "metadata": {},
   "outputs": [
    {
     "data": {
      "text/plain": [
       "val expensive_id : 'a -> 'a = <fun>\n"
      ]
     },
     "execution_count": 56,
     "metadata": {},
     "output_type": "execute_result"
    }
   ],
   "source": [
    "let expensive_id x = spin 200000000; x"
   ]
  },
  {
   "cell_type": "code",
   "execution_count": 59,
   "metadata": {},
   "outputs": [
    {
     "data": {
      "text/plain": [
       "- : int = 10\n"
      ]
     },
     "execution_count": 59,
     "metadata": {},
     "output_type": "execute_result"
    }
   ],
   "source": [
    "expensive_id 10"
   ]
  },
  {
   "cell_type": "markdown",
   "metadata": {
    "slideshow": {
     "slide_type": "slide"
    }
   },
   "source": [
    "## Memoizing expensive identity"
   ]
  },
  {
   "cell_type": "code",
   "execution_count": 60,
   "metadata": {},
   "outputs": [
    {
     "data": {
      "text/plain": [
       "val memoized_expensive_id : '_weak1 -> '_weak1 = <fun>\n"
      ]
     },
     "execution_count": 60,
     "metadata": {},
     "output_type": "execute_result"
    }
   ],
   "source": [
    "let memoized_expensive_id = (memo expensive_id)"
   ]
  },
  {
   "cell_type": "code",
   "execution_count": 62,
   "metadata": {},
   "outputs": [
    {
     "data": {
      "text/plain": [
       "- : int = 11\n"
      ]
     },
     "execution_count": 62,
     "metadata": {},
     "output_type": "execute_result"
    }
   ],
   "source": [
    "memoized_expensive_id 11"
   ]
  },
  {
   "cell_type": "markdown",
   "metadata": {
    "slideshow": {
     "slide_type": "slide"
    }
   },
   "source": [
    "## Memoizing recursive functions\n",
    "\n",
    "* Memoizing recursive functions is a bit more tricky.\n",
    "  + We need to tie the **recursive knot**"
   ]
  },
  {
   "cell_type": "code",
   "execution_count": 63,
   "metadata": {},
   "outputs": [
    {
     "data": {
      "text/plain": [
       "val fib : int -> int = <fun>\n"
      ]
     },
     "execution_count": 63,
     "metadata": {},
     "output_type": "execute_result"
    }
   ],
   "source": [
    "let rec fib n = \n",
    "  if n < 2 then 1 else fib(n-2) + fib(n-1)"
   ]
  },
  {
   "cell_type": "code",
   "execution_count": 65,
   "metadata": {},
   "outputs": [
    {
     "data": {
      "text/plain": [
       "- : int = 165580141\n"
      ]
     },
     "execution_count": 65,
     "metadata": {},
     "output_type": "execute_result"
    }
   ],
   "source": [
    "fib 40"
   ]
  },
  {
   "cell_type": "markdown",
   "metadata": {
    "slideshow": {
     "slide_type": "slide"
    }
   },
   "source": [
    "## Memoizing recursive functions"
   ]
  },
  {
   "cell_type": "markdown",
   "metadata": {},
   "source": [
    "Simply doing `let memo_fib = memo fib` will only memoize the outer calls and not the recursive calls."
   ]
  },
  {
   "cell_type": "code",
   "execution_count": 67,
   "metadata": {},
   "outputs": [
    {
     "data": {
      "text/plain": [
       "val memo_fib : int -> int = <fun>\n"
      ]
     },
     "execution_count": 67,
     "metadata": {},
     "output_type": "execute_result"
    }
   ],
   "source": [
    "let memo_fib = memo fib"
   ]
  },
  {
   "cell_type": "code",
   "execution_count": 73,
   "metadata": {},
   "outputs": [
    {
     "data": {
      "text/plain": [
       "- : int = 165580141\n"
      ]
     },
     "execution_count": 73,
     "metadata": {},
     "output_type": "execute_result"
    }
   ],
   "source": [
    "memo_fib 40"
   ]
  },
  {
   "cell_type": "markdown",
   "metadata": {
    "slideshow": {
     "slide_type": "slide"
    }
   },
   "source": [
    "## Tying the recursive knot\n",
    "\n",
    "This function should remind you of the definition we used for Y combinator."
   ]
  },
  {
   "cell_type": "code",
   "execution_count": 74,
   "metadata": {},
   "outputs": [
    {
     "data": {
      "text/plain": [
       "val fib_norec : (int -> int) -> int -> int = <fun>\n"
      ]
     },
     "execution_count": 74,
     "metadata": {},
     "output_type": "execute_result"
    }
   ],
   "source": [
    "let fib_norec f n = if n < 2 then 1 else f (n-1) + f(n-2)"
   ]
  },
  {
   "cell_type": "markdown",
   "metadata": {},
   "source": [
    "The idea is to provide an `f` which is the memoized version of \n",
    "\n",
    "```ocaml\n",
    "let rec f n = if n < 2 then 1 else f (n-1) + f(n-2)\n",
    "```\n",
    "\n",
    "We will use a **reference** to tie the knot."
   ]
  },
  {
   "cell_type": "markdown",
   "metadata": {
    "slideshow": {
     "slide_type": "slide"
    }
   },
   "source": [
    "## Tying the recursive knot\n",
    "\n",
    "`memo_rec` will memoize recursive function that take an explicit recursive function argument such as `fib_norec`."
   ]
  },
  {
   "cell_type": "code",
   "execution_count": 80,
   "metadata": {},
   "outputs": [
    {
     "data": {
      "text/plain": [
       "val memo_rec : (('a -> 'b) -> 'a -> 'b) -> 'a -> 'b = <fun>\n"
      ]
     },
     "execution_count": 80,
     "metadata": {},
     "output_type": "execute_result"
    }
   ],
   "source": [
    "let memo_rec f_norec =\n",
    "  (* define a reference [f] to a function which will never be invoked *)\n",
    "  let f = ref (fun _ -> assert false) in\n",
    "  (* memoize the \"eta-expanded\" [f_norec] function by dereferencing [f]. *)\n",
    "  let f_rec_memo = memo (fun x -> f_norec !f x) in\n",
    "                                      (* [f] is not dereferenced yet *)\n",
    "  f := f_rec_memo; (* update [f] to the recursive memoized function *)\n",
    "  f_rec_memo"
   ]
  },
  {
   "cell_type": "code",
   "execution_count": 81,
   "metadata": {},
   "outputs": [
    {
     "data": {
      "text/plain": [
       "val fib_memo : int -> int = <fun>\n"
      ]
     },
     "execution_count": 81,
     "metadata": {},
     "output_type": "execute_result"
    }
   ],
   "source": [
    "let fib_memo = memo_rec fib_rec"
   ]
  },
  {
   "cell_type": "code",
   "execution_count": 83,
   "metadata": {},
   "outputs": [
    {
     "data": {
      "text/plain": [
       "- : int = 1346269\n"
      ]
     },
     "execution_count": 83,
     "metadata": {},
     "output_type": "execute_result"
    }
   ],
   "source": [
    "fib_memo 30"
   ]
  },
  {
   "cell_type": "markdown",
   "metadata": {
    "slideshow": {
     "slide_type": "slide"
    }
   },
   "source": [
    "<center>\n",
    "\n",
    "<h1 style=\"text-align:center\"> Fin. </h1>\n",
    "</center>"
   ]
  }
 ],
 "metadata": {
  "celltoolbar": "Slideshow",
  "kernelspec": {
   "display_name": "OCaml 4.07.1",
   "language": "OCaml",
   "name": "ocaml-jupyter"
  },
  "language_info": {
   "codemirror_mode": "text/x-ocaml",
   "file_extension": ".ml",
   "mimetype": "text/x-ocaml",
   "name": "OCaml",
   "nbconverter_exporter": null,
   "pygments_lexer": "OCaml",
   "version": "4.07.1"
  }
 },
 "nbformat": 4,
 "nbformat_minor": 2
}
