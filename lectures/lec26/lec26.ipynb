{
 "cells": [
  {
   "cell_type": "markdown",
   "metadata": {
    "slideshow": {
     "slide_type": "slide"
    }
   },
   "source": [
    "<center>\n",
    "\n",
    "<h1> Databases </h1>\n",
    "<h2> CS3100 Fall 2019 </h2>\n",
    "</center>"
   ]
  },
  {
   "cell_type": "markdown",
   "metadata": {
    "slideshow": {
     "slide_type": "slide"
    }
   },
   "source": [
    "## Review\n",
    "\n",
    "### Previously\n",
    "\n",
    "* Countdown Game, Type Inference and Program Synthesis.\n",
    "\n",
    "### This lecture\n",
    "\n",
    "* Connections between SQL and Prolog"
   ]
  },
  {
   "cell_type": "markdown",
   "metadata": {
    "slideshow": {
     "slide_type": "slide"
    }
   },
   "source": [
    "## Relational Databases\n",
    "\n",
    "* A database is a store of facts.\n",
    "* A relation database is organized on the principles of relational model\n",
    "  + Consists of one or more tables with rows and named columns\n",
    "* A table schema captures \n",
    "  + the column names\n",
    "  + types over values \n",
    "  + any constraints on values in each column\n",
    "  + relationship between between columns across different tables\n",
    "* Structured Query Language (SQL) \n",
    "  + A standard language used to read and write to relational databases. "
   ]
  },
  {
   "cell_type": "markdown",
   "metadata": {
    "slideshow": {
     "slide_type": "slide"
    }
   },
   "source": [
    "## IMDB database\n",
    "\n",
    "* For this section, we will focus on a small slice of the IMDB database. \n",
    "* The database contains information about the movies directed by a few directors. \n",
    "* The database `imdb_small.db` can be explored using `sqlite` in terminal."
   ]
  },
  {
   "cell_type": "markdown",
   "metadata": {
    "slideshow": {
     "slide_type": "slide"
    }
   },
   "source": [
    "## IMDB tables\n",
    "\n",
    "```\n",
    "CREATE TABLE tPeople (\n",
    "  person_id varchar primary key, \n",
    "  name varchar, \n",
    "  born integer);\n",
    "\n",
    "CREATE TABLE tTitles (\n",
    "  title_id varchar primary key, \n",
    "  title varchar, \n",
    "  premiered integer, \n",
    "  runtime_minutes integer, \n",
    "  genres varchar);\n",
    ");\n",
    "```"
   ]
  },
  {
   "cell_type": "markdown",
   "metadata": {
    "slideshow": {
     "slide_type": "slide"
    }
   },
   "source": [
    "## IMDB tables\n",
    "\n",
    "```\n",
    "CREATE TABLE tDirectedBy (\n",
    "  title_id varchar, \n",
    "  person_id varchar, \n",
    "  primary key (title_id, person_id));\n",
    "  \n",
    "CREATE TABLE tRatings (\n",
    "  title_id VARCHAR PRIMARY KEY,\n",
    "  rating INTEGER,\n",
    "  votes INTEGER\n",
    ");\n",
    "```"
   ]
  },
  {
   "cell_type": "markdown",
   "metadata": {
    "slideshow": {
     "slide_type": "slide"
    }
   },
   "source": [
    "## Representing relational tables in Prolog\n",
    "\n",
    "```\n",
    "+--------------------------+\n",
    "|     SQL      |   Prolog  |\n",
    "+--------------------------+\n",
    "| tables       | predicate |\n",
    "| rows         | fact      |\n",
    "| column names | -         |\n",
    "| schema       | -         |\n",
    "+--------------------------+\n",
    "```"
   ]
  },
  {
   "cell_type": "markdown",
   "metadata": {
    "slideshow": {
     "slide_type": "slide"
    }
   },
   "source": [
    "## tPeople table in Prolog\n",
    "\n",
    "```prolog\n",
    "/* tPeople(person_id, name, born). */\n",
    "tPeople(nm0634240,\"Christopher Nolan\",1970).\n",
    "tPeople(nm0000217,\"Martin Scorsese\",1942).\n",
    "tPeople(nm0000233,\"Quentin Tarantino\",1963).\n",
    "tPeople(nm0000229,\"Steven Spielberg\",1946).\n",
    "```"
   ]
  },
  {
   "cell_type": "markdown",
   "metadata": {},
   "source": [
    "Let's load all the data into Prolog from the file `imdb_small.pl`. "
   ]
  },
  {
   "cell_type": "code",
   "execution_count": 10,
   "metadata": {},
   "outputs": [
    {
     "name": "stdout",
     "output_type": "stream",
     "text": [
      "true."
     ]
    }
   ],
   "source": [
    "?- [imdb_small]."
   ]
  },
  {
   "cell_type": "markdown",
   "metadata": {
    "slideshow": {
     "slide_type": "slide"
    }
   },
   "source": [
    "## Select rows in SQL\n",
    "\n",
    "Get me all the rows from the `tPeople` table.\n",
    "\n",
    "```sql\n",
    "sqlite> select * from tPeople;\n",
    "nm0634240|Christopher Nolan|1970\n",
    "nm0000217|Martin Scorsese|1942\n",
    "nm0000233|Quentin Tarantino|1963\n",
    "nm0000229|Steven Spielberg|1946\n",
    "```"
   ]
  },
  {
   "cell_type": "markdown",
   "metadata": {
    "slideshow": {
     "slide_type": "slide"
    }
   },
   "source": [
    "## Select rows in Prolog\n",
    "\n",
    "In prolog, the query is represented by the same predicate that defines the table."
   ]
  },
  {
   "cell_type": "code",
   "execution_count": 16,
   "metadata": {},
   "outputs": [
    {
     "name": "stdout",
     "output_type": "stream",
     "text": [
      "PersonId = nm0634240, Born = 1970, Name = Christopher Nolan ;\n",
      "PersonId = nm0000217, Born = 1942, Name = Martin Scorsese ;\n",
      "PersonId = nm0000233, Born = 1963, Name = Quentin Tarantino ;\n",
      "PersonId = nm0000229, Born = 1946, Name = Steven Spielberg ."
     ]
    }
   ],
   "source": [
    "?- tPeople(PersonId,Name,Born)."
   ]
  },
  {
   "cell_type": "markdown",
   "metadata": {
    "slideshow": {
     "slide_type": "slide"
    }
   },
   "source": [
    "## Select with filter\n",
    "\n",
    "Get me all the information about `Christopher Nolan` from tPeople table.\n",
    "\n",
    "```sql\n",
    "sqlite> select * from tPeople where name=\"Christopher Nolan\";\n",
    "nm0634240|Christopher Nolan|1970\n",
    "```"
   ]
  },
  {
   "cell_type": "code",
   "execution_count": 15,
   "metadata": {},
   "outputs": [
    {
     "name": "stdout",
     "output_type": "stream",
     "text": [
      "PersonId = nm0634240, Born = 1970, Name = Christopher Nolan ."
     ]
    }
   ],
   "source": [
    "?- tPeople(PersonId,Name,Born), Name=\"Christopher Nolan\"."
   ]
  },
  {
   "cell_type": "markdown",
   "metadata": {
    "slideshow": {
     "slide_type": "slide"
    }
   },
   "source": [
    "## Select with filter\n",
    "\n",
    "```sql\n",
    "sqlite> select * from tPeople where born > 1960;\n",
    "nm0634240|Christopher Nolan|1970\n",
    "nm0000233|Quentin Tarantino|1963\n",
    "```"
   ]
  },
  {
   "cell_type": "code",
   "execution_count": 4,
   "metadata": {},
   "outputs": [
    {
     "name": "stdout",
     "output_type": "stream",
     "text": [
      "PersonId = nm0634240, Born = 1970, Name = Christopher Nolan ;\n",
      "PersonId = nm0000233, Born = 1963, Name = Quentin Tarantino ."
     ]
    }
   ],
   "source": [
    "?- tPeople(PersonId,Name,Born), Born > 1960."
   ]
  },
  {
   "cell_type": "markdown",
   "metadata": {
    "slideshow": {
     "slide_type": "slide"
    }
   },
   "source": [
    "## Projection\n",
    "\n",
    "Projection is act of choosing a subset of columns from the table.\n",
    "\n",
    "```sql\n",
    "sqlite> select Name,Born from tPeople where born > 1960;\n",
    "Christopher Nolan|1970\n",
    "Quentin Tarantino|1963\n",
    "```"
   ]
  },
  {
   "cell_type": "code",
   "execution_count": 5,
   "metadata": {},
   "outputs": [
    {
     "name": "stdout",
     "output_type": "stream",
     "text": [
      "Born = 1970, Name = Christopher Nolan ;\n",
      "Born = 1963, Name = Quentin Tarantino ."
     ]
    }
   ],
   "source": [
    "?- tPeople(_,Name,Born), Born > 1960."
   ]
  },
  {
   "cell_type": "markdown",
   "metadata": {
    "slideshow": {
     "slide_type": "slide"
    }
   },
   "source": [
    "## DirectedBy\n",
    "\n",
    "`tDirectBy` table contains movies associates a director with the movie that they directed.\n",
    "\n",
    "```sql\n",
    "sqlite> select * from tDirectedBy limit 5;\n",
    "tt0053416|nm0000217\n",
    "tt0054670|nm0000229\n",
    "tt0054857|nm0000229\n",
    "tt0057680|nm0000217\n",
    "tt0058242|nm0000217\n",
    "```"
   ]
  },
  {
   "cell_type": "code",
   "execution_count": 8,
   "metadata": {},
   "outputs": [
    {
     "name": "stdout",
     "output_type": "stream",
     "text": [
      "PersonId = nm0000217, TitleId = tt0053416 ;\n",
      "PersonId = nm0000229, TitleId = tt0054670 ;\n",
      "PersonId = nm0000229, TitleId = tt0054857 ;\n",
      "PersonId = nm0000217, TitleId = tt0057680 ;\n",
      "PersonId = nm0000217, TitleId = tt0058242 ."
     ]
    }
   ],
   "source": [
    "?- tDirectedBy(TitleId,PersonId) {5}."
   ]
  },
  {
   "cell_type": "markdown",
   "metadata": {},
   "source": [
    "How do we get this information in human readable form?"
   ]
  },
  {
   "cell_type": "code",
   "execution_count": null,
   "metadata": {},
   "outputs": [],
   "source": [
    "## Joins"
   ]
  },
  {
   "cell_type": "markdown",
   "metadata": {},
   "source": [
    "* What is the average rating for a Spielberg movie?\n",
    "* What is the average rating for the directors?\n",
    "* How many movies has Nolan directed?\n",
    "* How many movies a year does Scorsese direct?\n",
    "* What is best rated Scorsese movie?\n",
    "* What is the worst rated Tarentino movie?\n",
    "* What are the upcoming movies for these directors? "
   ]
  }
 ],
 "metadata": {
  "celltoolbar": "Slideshow",
  "kernelspec": {
   "display_name": "SWI-Prolog",
   "language": "",
   "name": "jswipl"
  },
  "language_info": {
   "mimetype": "text/plain",
   "name": "swipl"
  }
 },
 "nbformat": 4,
 "nbformat_minor": 2
}
