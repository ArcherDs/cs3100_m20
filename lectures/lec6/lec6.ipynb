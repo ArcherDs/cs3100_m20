{
 "cells": [
  {
   "cell_type": "markdown",
   "metadata": {
    "slideshow": {
     "slide_type": "slide"
    }
   },
   "source": [
    "<center>\n",
    "\n",
    "<h1 style=\"text-align:center\"> Pattern Matching </h1>\n",
    "<h2 style=\"text-align:center\"> CS3100 Fall 2019 </h2>\n",
    "</center>"
   ]
  },
  {
   "cell_type": "markdown",
   "metadata": {
    "slideshow": {
     "slide_type": "slide"
    }
   },
   "source": [
    "## Review\n",
    "\n",
    "\n",
    "Previously:\n",
    "\n",
    "* Tuples, Records, Variants\n",
    "* Polymorphism\n",
    "* Lists, Option\n",
    "\n",
    "This lecture:\n",
    "\n",
    "* Pattern Matching"
   ]
  },
  {
   "cell_type": "markdown",
   "metadata": {
    "slideshow": {
     "slide_type": "slide"
    }
   },
   "source": [
    "## Pattern Matching\n",
    "\n",
    "* Pattern matching is data deconstruction\n",
    "  + Match on the *shape* of data\n",
    "  + Extract part(s) of data\n",
    "  \n",
    "### Syntax\n",
    "\n",
    "```ocaml\n",
    "match e with\n",
    "| p1 -> e1\n",
    "| p2 -> e2\n",
    "...\n",
    "| pn -> en\n",
    "```\n",
    "\n",
    "* p1 ... pn are patterns."
   ]
  },
  {
   "cell_type": "markdown",
   "metadata": {
    "slideshow": {
     "slide_type": "slide"
    }
   },
   "source": [
    "## Pattern Matching on Lists\n",
    "\n",
    "```\n",
    "type 'a list = [] | :: of 'a * 'a list\n",
    "```\n",
    "\n",
    "* For lists, the patterns allowed follow from the constructors\n",
    "  + The pattern `[]` matches the value `[]`.\n",
    "  + The patterh `h::t`\n",
    "    - matches `2::[]`, binding `h` to `2` and `t` to `[]`.\n",
    "    - matches `2::3::[]`, binding `h` to `2` and `t` to `3::[]`.\n",
    "  + The pattern `_` is a **wildcard pattern** and matches anything. "
   ]
  },
  {
   "cell_type": "code",
   "execution_count": null,
   "metadata": {
    "slideshow": {
     "slide_type": "slide"
    }
   },
   "outputs": [],
   "source": [
    "let list_status l =\n",
    "  match l with\n",
    "  | [] -> print_endline \"The list is empty\"\n",
    "  | h::t -> Printf.printf \"The list is non-empty. Head = %d\\n%!\" h"
   ]
  },
  {
   "cell_type": "code",
   "execution_count": null,
   "metadata": {
    "slideshow": {
     "slide_type": "fragment"
    }
   },
   "outputs": [],
   "source": [
    "list_status []"
   ]
  },
  {
   "cell_type": "code",
   "execution_count": null,
   "metadata": {
    "slideshow": {
     "slide_type": "fragment"
    }
   },
   "outputs": [],
   "source": [
    "list_status [1;2;3]"
   ]
  },
  {
   "cell_type": "code",
   "execution_count": null,
   "metadata": {
    "slideshow": {
     "slide_type": "fragment"
    }
   },
   "outputs": [],
   "source": [
    "list_status (2::[3;4])"
   ]
  },
  {
   "cell_type": "markdown",
   "metadata": {
    "slideshow": {
     "slide_type": "slide"
    }
   },
   "source": [
    "## Why pattern matching is THE GREATEST\n",
    "\n",
    "1. You cannot forget to match a case (Exhaustivity warning)"
   ]
  },
  {
   "cell_type": "code",
   "execution_count": null,
   "metadata": {
    "slideshow": {
     "slide_type": "fragment"
    }
   },
   "outputs": [],
   "source": [
    "let list_status l = \n",
    "  match l with \n",
    "  | [] -> print_endline \"The list is empty\"\n",
    "  | h1::h2::t -> Printf.printf \"The list is non-empty. 2nd element = %d\\n%!\" h2"
   ]
  },
  {
   "cell_type": "markdown",
   "metadata": {
    "slideshow": {
     "slide_type": "slide"
    }
   },
   "source": [
    "## Why pattern matching is THE GREATEST\n",
    "\n",
    "1. You cannot forget to match a case (Exhaustivity warning)\n",
    "2. You cannot duplicate a case (Unused case warning)"
   ]
  },
  {
   "cell_type": "code",
   "execution_count": null,
   "metadata": {
    "slideshow": {
     "slide_type": "fragment"
    }
   },
   "outputs": [],
   "source": [
    "let list_status l = \n",
    "  match l with \n",
    "  | [] -> print_endline \"The list is empty\"\n",
    "  | h::t -> Printf.printf \"The list is non-empty. Head = %d\\n%!\" h\n",
    "  | h1::h2::t -> Printf.printf \"The list is non-empty. 2nd element = %d\\n%!\" h2"
   ]
  },
  {
   "cell_type": "markdown",
   "metadata": {
    "slideshow": {
     "slide_type": "slide"
    }
   },
   "source": [
    "## Why pattern matching is THE GREATEST\n",
    "\n",
    "1. You cannot forget to match a case (Exhaustivity warning)\n",
    "2. You cannot duplicate a case (Unused case warning)\n",
    "\n",
    "<h2> Pattern matching leads to elegant, concise, beautiful code <h2>"
   ]
  },
  {
   "cell_type": "markdown",
   "metadata": {
    "slideshow": {
     "slide_type": "slide"
    }
   },
   "source": [
    "## Length of list"
   ]
  },
  {
   "cell_type": "code",
   "execution_count": null,
   "metadata": {},
   "outputs": [],
   "source": [
    "let rec length l =\n",
    "  match l with\n",
    "  | [] -> 0\n",
    "  | h::t -> 1 + length t"
   ]
  },
  {
   "cell_type": "markdown",
   "metadata": {
    "slideshow": {
     "slide_type": "fragment"
    }
   },
   "source": [
    "What is wrong with this code?"
   ]
  },
  {
   "cell_type": "markdown",
   "metadata": {
    "slideshow": {
     "slide_type": "slide"
    }
   },
   "source": [
    "## Length of list (tail recursive)"
   ]
  },
  {
   "cell_type": "code",
   "execution_count": null,
   "metadata": {
    "slideshow": {
     "slide_type": "-"
    }
   },
   "outputs": [],
   "source": [
    "let rec length' l acc =\n",
    "  match l with\n",
    "  | [] -> acc\n",
    "  | h::t -> length' t (1+acc)\n",
    "  \n",
    "let length l = length' l 0"
   ]
  },
  {
   "cell_type": "code",
   "execution_count": null,
   "metadata": {},
   "outputs": [],
   "source": [
    "length [1;2;3;4]"
   ]
  },
  {
   "cell_type": "markdown",
   "metadata": {
    "slideshow": {
     "slide_type": "slide"
    }
   },
   "source": [
    "## Exercise\n",
    "\n",
    "Implement the reverse of a list."
   ]
  },
  {
   "cell_type": "code",
   "execution_count": 104,
   "metadata": {
    "scrolled": true
   },
   "outputs": [
    {
     "ename": "error",
     "evalue": "compile_error",
     "output_type": "error",
     "traceback": [
      "\u001b[32mFile \"[104]\", line 3, characters 0-6:\n\u001b[31mError: Syntax error\n\u001b[36m   2: \u001b[30m\n\u001b[36m   3: \u001b[30m\u001b[4massert\u001b[0m\u001b[30m (rev_list [1;2;3] = [3;2;1])\u001b[0m\n"
     ]
    }
   ],
   "source": [
    "let rev_list l = failwith \"not implemented\""
   ]
  },
  {
   "cell_type": "code",
   "execution_count": 105,
   "metadata": {},
   "outputs": [
    {
     "ename": "error",
     "evalue": "runtime_error",
     "output_type": "error",
     "traceback": [
      "\u001b[31mException: Failure \"not implemented\".\nRaised at file \"stdlib.ml\", line 33, characters 22-33\nCalled from file \"[105]\", line 1, characters 8-24\nCalled from file \"toplevel/toploop.ml\", line 180, characters 17-56\n\u001b[0m"
     ]
    }
   ],
   "source": [
    "assert (rev_list [1;2;3] = [3;2;1])"
   ]
  },
  {
   "cell_type": "markdown",
   "metadata": {
    "slideshow": {
     "slide_type": "slide"
    }
   },
   "source": [
    "## Exercise\n",
    "\n",
    "Implement the append of two lists."
   ]
  },
  {
   "cell_type": "code",
   "execution_count": 109,
   "metadata": {},
   "outputs": [
    {
     "data": {
      "text/plain": [
       "- : int list = [1; 2; 3; 4; 5; 6]\n"
      ]
     },
     "execution_count": 109,
     "metadata": {},
     "output_type": "execute_result"
    }
   ],
   "source": [
    "[1;2;3] @ [4;5;6]"
   ]
  },
  {
   "cell_type": "code",
   "execution_count": 106,
   "metadata": {},
   "outputs": [
    {
     "data": {
      "text/plain": [
       "val append : 'a -> 'b -> 'c = <fun>\n"
      ]
     },
     "execution_count": 106,
     "metadata": {},
     "output_type": "execute_result"
    }
   ],
   "source": [
    "let append l1 l2 = failwith \"not implemented\""
   ]
  },
  {
   "cell_type": "code",
   "execution_count": 107,
   "metadata": {},
   "outputs": [
    {
     "ename": "error",
     "evalue": "runtime_error",
     "output_type": "error",
     "traceback": [
      "\u001b[31mException: Failure \"not implemented\".\nRaised at file \"stdlib.ml\", line 33, characters 22-33\nCalled from file \"[107]\", line 1, characters 8-30\nCalled from file \"toplevel/toploop.ml\", line 180, characters 17-56\n\u001b[0m"
     ]
    }
   ],
   "source": [
    "assert (append [1;2;3] [4;5;6] = [1;2;3;4;5;6])"
   ]
  },
  {
   "cell_type": "markdown",
   "metadata": {
    "slideshow": {
     "slide_type": "slide"
    }
   },
   "source": [
    "## Match ordering\n",
    "\n",
    "The patterns are matched in the order that they are written down."
   ]
  },
  {
   "cell_type": "code",
   "execution_count": null,
   "metadata": {},
   "outputs": [],
   "source": [
    "let is_empty l =\n",
    "  match l with\n",
    "  | [] -> true\n",
    "  | _ -> false"
   ]
  },
  {
   "cell_type": "markdown",
   "metadata": {
    "slideshow": {
     "slide_type": "slide"
    }
   },
   "source": [
    "## Nested Matching\n",
    "\n"
   ]
  },
  {
   "cell_type": "code",
   "execution_count": null,
   "metadata": {},
   "outputs": [],
   "source": [
    "type color = Red | Green | Blue\n",
    "\n",
    "type point = {x : int; y : int}\n",
    "\n",
    "type shape = \n",
    "  | Circle of point * float (* center, radius *)\n",
    "  | Rect of point * point   (* lower-left, upper-right *)\n",
    "  | ColorPoint of point * color"
   ]
  },
  {
   "cell_type": "markdown",
   "metadata": {
    "slideshow": {
     "slide_type": "slide"
    }
   },
   "source": [
    "## Nested Matching\n",
    "\n",
    "Is the first shape in a list of shapes a red point?"
   ]
  },
  {
   "cell_type": "code",
   "execution_count": null,
   "metadata": {},
   "outputs": [],
   "source": [
    "let is_hd_red_circle l = \n",
    "  match l with\n",
    "  | ColorPoint(_,Red)::_ -> true\n",
    "  | _ -> false"
   ]
  },
  {
   "cell_type": "markdown",
   "metadata": {
    "slideshow": {
     "slide_type": "slide"
    }
   },
   "source": [
    "## Nested Matching\n",
    "\n",
    "Print the coordinates if the point is green."
   ]
  },
  {
   "cell_type": "code",
   "execution_count": null,
   "metadata": {},
   "outputs": [],
   "source": [
    "let rec print_green_point l =\n",
    "  match l with\n",
    "  | [] -> ()\n",
    "  | ColorPoint({x;y}, Green)::tl -> \n",
    "      Printf.printf \"x = %d y = %d\\n%!\" x y;\n",
    "      print_green_point tl\n",
    "  | _::tl -> print_green_point tl"
   ]
  },
  {
   "cell_type": "code",
   "execution_count": null,
   "metadata": {},
   "outputs": [],
   "source": [
    "print_green_point [Rect ({x=1;y=1},{x=2;y=2});\n",
    "                   ColorPoint ({x=0;y=0}, Green);\n",
    "                   Circle ({x=1;y=3}, 5.4);\n",
    "                   ColorPoint ({x=4;y=6}, Green)]"
   ]
  },
  {
   "cell_type": "markdown",
   "metadata": {
    "slideshow": {
     "slide_type": "slide"
    }
   },
   "source": [
    "## When do you use \";\"\n",
    "\n",
    "When you evaluate an expression just the effect, you can sequence the expression with a semi-colon."
   ]
  },
  {
   "cell_type": "markdown",
   "metadata": {
    "slideshow": {
     "slide_type": "fragment"
    }
   },
   "source": [
    "```ocaml\n",
    "let () = print_endline \"Hello, world!\" in\n",
    "e\n",
    "```\n",
    "\n",
    "is equivalent to:\n",
    "\n",
    "```ocaml\n",
    "print_endline \"Hello, world!\";\n",
    "e\n",
    "```\n",
    "\n",
    "Latter is considered better style."
   ]
  },
  {
   "cell_type": "markdown",
   "metadata": {
    "slideshow": {
     "slide_type": "slide"
    }
   },
   "source": [
    "## Exceptions\n",
    "\n",
    "* OCaml has support for exceptions. \n",
    "  + Similar to the ones found in C++ & Java.\n",
    "* Exceptions are (mostly) just variants.\n",
    "\n",
    "```ocaml\n",
    "type exn\n",
    "exception MyException of string\n",
    "```\n",
    "\n",
    "* The type `exn` is an **extensible variant**.\n",
    "  + New constructors of this type can be added after its original declaration.\n",
    "* Exceptions are raised with `raise e` where `e` is of type `exn`.\n",
    "* Handling exceptions is similar to pattern matching."
   ]
  },
  {
   "cell_type": "markdown",
   "metadata": {
    "slideshow": {
     "slide_type": "slide"
    }
   },
   "source": [
    "## Find the green point\n",
    "\n",
    "Given a list of shapes return a point whose colour is green. Otherwise, raise `NoGreenPoint` exception."
   ]
  },
  {
   "cell_type": "code",
   "execution_count": null,
   "metadata": {
    "slideshow": {
     "slide_type": "fragment"
    }
   },
   "outputs": [],
   "source": [
    "exception NoGreenPoint\n",
    "\n",
    "let rec find_green_point l = \n",
    "  match l with\n",
    "  | [] -> raise NoGreenPoint\n",
    "  | h::tl ->\n",
    "    match h with\n",
    "    | ColorPoint (_, Green) -> h\n",
    "    | _ -> find_green_point tl"
   ]
  },
  {
   "cell_type": "markdown",
   "metadata": {
    "slideshow": {
     "slide_type": "slide"
    }
   },
   "source": [
    "## Find the green point"
   ]
  },
  {
   "cell_type": "code",
   "execution_count": null,
   "metadata": {},
   "outputs": [],
   "source": [
    "find_green_point []"
   ]
  },
  {
   "cell_type": "code",
   "execution_count": null,
   "metadata": {},
   "outputs": [],
   "source": [
    "find_green_point [Rect ({x=1;y=1},{x=2;y=2}); ColorPoint ({x=0;y=0}, Green)]"
   ]
  },
  {
   "cell_type": "markdown",
   "metadata": {
    "slideshow": {
     "slide_type": "slide"
    }
   },
   "source": [
    "## Handling the exception\n",
    "\n",
    "Given a list of shapes return `Some p` where `p` is a green point. Otherwise, return `None`."
   ]
  },
  {
   "cell_type": "code",
   "execution_count": null,
   "metadata": {
    "slideshow": {
     "slide_type": "fragment"
    }
   },
   "outputs": [],
   "source": [
    "let find_green_point_opt l =\n",
    "  try Some (find_green_point l) with\n",
    "  | NoGreenPoint -> None"
   ]
  },
  {
   "cell_type": "code",
   "execution_count": null,
   "metadata": {},
   "outputs": [],
   "source": [
    "find_green_point_opt []"
   ]
  },
  {
   "cell_type": "code",
   "execution_count": null,
   "metadata": {},
   "outputs": [],
   "source": [
    "find_green_point_opt [Rect ({x=1;y=1},{x=2;y=2}); ColorPoint ({x=0;y=0}, Green)]"
   ]
  },
  {
   "cell_type": "markdown",
   "metadata": {
    "slideshow": {
     "slide_type": "slide"
    }
   },
   "source": [
    "## Exceptions: Recommendations\n",
    "\n",
    "* Avoid exceptions in your code.\n",
    "  + Unhandled exceptions are runtime errors; aim to avoid this.\n",
    "* No exhaustiveness check for exceptions (why?).\n",
    "* Whenever you might need to use exceptions, think whether you can replace that with\n",
    "\n",
    "```ocaml\n",
    "type 'a option = None | Some of 'a\n",
    "```\n",
    "\n",
    "or \n",
    "\n",
    "```ocaml\n",
    "type ('a,'b) result = Ok of 'a | Error of 'b\n",
    "```"
   ]
  },
  {
   "cell_type": "markdown",
   "metadata": {
    "slideshow": {
     "slide_type": "slide"
    }
   },
   "source": [
    "<center>\n",
    "\n",
    "<h1 style=\"text-align:center\"> Fin. </h1>\n",
    "</center>"
   ]
  }
 ],
 "metadata": {
  "celltoolbar": "Slideshow",
  "kernelspec": {
   "display_name": "OCaml 4.07.1",
   "language": "OCaml",
   "name": "ocaml-jupyter"
  },
  "language_info": {
   "codemirror_mode": "text/x-ocaml",
   "file_extension": ".ml",
   "mimetype": "text/x-ocaml",
   "name": "OCaml",
   "nbconverter_exporter": null,
   "pygments_lexer": "OCaml",
   "version": "4.07.1"
  }
 },
 "nbformat": 4,
 "nbformat_minor": 2
}
