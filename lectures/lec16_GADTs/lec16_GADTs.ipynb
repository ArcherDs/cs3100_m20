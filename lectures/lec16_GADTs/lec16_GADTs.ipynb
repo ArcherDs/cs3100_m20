{
 "cells": [
  {
   "cell_type": "markdown",
   "metadata": {
    "slideshow": {
     "slide_type": "slide"
    }
   },
   "source": [
    "<center>\n",
    "\n",
    "<h1 style=\"text-align:center\"> Generalized Algebraic Data Types </h1>\n",
    "<h2 style=\"text-align:center\"> CS3100 Monsoon 2020 </h2>\n",
    "</center>"
   ]
  },
  {
   "cell_type": "markdown",
   "metadata": {
    "slideshow": {
     "slide_type": "slide"
    }
   },
   "source": [
    "## Simple language\n",
    "\n",
    "Consider this simple language of integers and booleans"
   ]
  },
  {
   "cell_type": "code",
   "execution_count": 3,
   "metadata": {},
   "outputs": [
    {
     "data": {
      "text/plain": [
       "type value = Int of int | Bool of bool\n"
      ]
     },
     "execution_count": 3,
     "metadata": {},
     "output_type": "execute_result"
    },
    {
     "data": {
      "text/plain": [
       "type expr =\n",
       "    Val of value\n",
       "  | Plus of expr * expr\n",
       "  | Mult of expr * expr\n",
       "  | Ite of expr * expr * expr\n"
      ]
     },
     "execution_count": 3,
     "metadata": {},
     "output_type": "execute_result"
    }
   ],
   "source": [
    "type value =\n",
    "  | Int of int\n",
    "  | Bool of bool\n",
    "\n",
    "type expr =\n",
    "  | Val of value\n",
    "  | Plus of expr * expr\n",
    "  | Mult of expr * expr\n",
    "  | Ite of expr * expr * expr"
   ]
  },
  {
   "cell_type": "markdown",
   "metadata": {
    "slideshow": {
     "slide_type": "slide"
    }
   },
   "source": [
    "## Evaluator for the simple language\n",
    "\n",
    "We can write a simple evaluator for this language"
   ]
  },
  {
   "cell_type": "code",
   "execution_count": 4,
   "metadata": {},
   "outputs": [
    {
     "name": "stderr",
     "output_type": "stream",
     "text": [
      "File \"[4]\", lines 6-7, characters 4-17:\n",
      "6 | ....let Int i1, Int i2 = eval e1, eval e2 in\n",
      "7 |     Int (i1 + i2)\n",
      "Warning 8: this pattern-matching is not exhaustive.\n",
      "Here is an example of a case that is not matched:\n",
      "((Int _, Bool _)|(Bool _, _))\n"
     ]
    },
    {
     "data": {
      "text/plain": [
       "val eval : expr -> value = <fun>\n"
      ]
     },
     "execution_count": 4,
     "metadata": {},
     "output_type": "execute_result"
    }
   ],
   "source": [
    "let rec eval : expr -> value =\n",
    "  fun e -> match e with\n",
    "  | Val (Int i) -> Int i\n",
    "  | Val (Bool i) -> Bool i\n",
    "  | Plus (e1, e2) ->\n",
    "    let Int i1, Int i2 = eval e1, eval e2 in\n",
    "    Int (i1 + i2)\n",
    "  | Mult (e1, e2) ->\n",
    "    let Int i1, Int i2 = eval e1, eval e2 in\n",
    "    Int (i1 * i2)\n",
    "  | Ite (p,e1,e2) ->\n",
    "    let Bool b = eval p in\n",
    "    if b then eval e1 else eval e2  "
   ]
  },
  {
   "cell_type": "markdown",
   "metadata": {
    "slideshow": {
     "slide_type": "slide"
    }
   },
   "source": [
    "## Evaluator for the simple language\n",
    "\n",
    "* The compiler warns that programs such as `true + 10` is not handled.\n",
    "  + Our evaluator gets **stuck** when it encouters such an expression."
   ]
  },
  {
   "cell_type": "code",
   "execution_count": 5,
   "metadata": {},
   "outputs": [
    {
     "name": "stderr",
     "output_type": "stream",
     "text": [
      "File \"[4]\", lines 9-10, characters 4-17:\n",
      " 9 | ....let Int i1, Int i2 = eval e1, eval e2 in\n",
      "10 |     Int (i1 * i2)\n",
      "Warning 8: this pattern-matching is not exhaustive.\n",
      "Here is an example of a case that is not matched:\n",
      "((Int _, Bool _)|(Bool _, _))\n",
      "File \"[4]\", lines 12-13, characters 4-34:\n",
      "12 | ....let Bool b = eval p in\n",
      "13 |     if b then eval e1 else eval e2..\n",
      "Warning 8: this pattern-matching is not exhaustive.\n",
      "Here is an example of a case that is not matched:\n",
      "Int _\n"
     ]
    },
    {
     "ename": "error",
     "evalue": "runtime_error",
     "output_type": "error",
     "traceback": [
      "\u001b[31mException: Match_failure (\"[4]\", 6, 4).\nCalled from file \"toplevel/toploop.ml\", line 212, characters 17-27\n\u001b[0m"
     ]
    }
   ],
   "source": [
    "eval @@ Plus (Val (Bool true), Val (Int 10)) (* true + 10 *)"
   ]
  },
  {
   "cell_type": "markdown",
   "metadata": {
    "slideshow": {
     "slide_type": "-"
    }
   },
   "source": [
    "* We need **Types**\n",
    "  + Well-typed programs do not get stuck!"
   ]
  },
  {
   "cell_type": "markdown",
   "metadata": {
    "slideshow": {
     "slide_type": "slide"
    }
   },
   "source": [
    "## Phantom types\n",
    "\n",
    "* We can add types to our values and expressions using a technique called **phantom types**"
   ]
  },
  {
   "cell_type": "code",
   "execution_count": 6,
   "metadata": {},
   "outputs": [
    {
     "data": {
      "text/plain": [
       "type 'a value = Int of int | Bool of bool\n"
      ]
     },
     "execution_count": 6,
     "metadata": {},
     "output_type": "execute_result"
    }
   ],
   "source": [
    "type 'a value =\n",
    "  | Int of int\n",
    "  | Bool of bool"
   ]
  },
  {
   "cell_type": "markdown",
   "metadata": {},
   "source": [
    "* Observe that `'a` only appears on the LHS.\n",
    "  + This `'a` is called a phantom type variable.\n",
    "* What is this useful for?"
   ]
  },
  {
   "cell_type": "markdown",
   "metadata": {
    "slideshow": {
     "slide_type": "slide"
    }
   },
   "source": [
    "## Typed expression language\n",
    "\n",
    "We can add types to our term language now using phantom types"
   ]
  },
  {
   "cell_type": "code",
   "execution_count": 7,
   "metadata": {},
   "outputs": [
    {
     "data": {
      "text/plain": [
       "type 'a expr =\n",
       "    Val of 'a value\n",
       "  | Plus of int expr * int expr\n",
       "  | Mult of int expr * int expr\n",
       "  | Ite of bool expr * 'a expr * 'a expr\n"
      ]
     },
     "execution_count": 7,
     "metadata": {},
     "output_type": "execute_result"
    }
   ],
   "source": [
    "type 'a expr =\n",
    "  | Val of 'a value\n",
    "  | Plus of int expr * int expr\n",
    "  | Mult of int expr * int expr\n",
    "  | Ite of bool expr * 'a expr * 'a expr"
   ]
  },
  {
   "cell_type": "markdown",
   "metadata": {
    "slideshow": {
     "slide_type": "slide"
    }
   },
   "source": [
    "## Typed expression language\n",
    "\n",
    "Assign concerte type to the phantom type variable `'a`."
   ]
  },
  {
   "cell_type": "code",
   "execution_count": 8,
   "metadata": {},
   "outputs": [
    {
     "data": {
      "text/plain": [
       "val mk_int : int -> int expr = <fun>\n"
      ]
     },
     "execution_count": 8,
     "metadata": {},
     "output_type": "execute_result"
    },
    {
     "data": {
      "text/plain": [
       "val mk_bool : bool -> bool expr = <fun>\n"
      ]
     },
     "execution_count": 8,
     "metadata": {},
     "output_type": "execute_result"
    },
    {
     "data": {
      "text/plain": [
       "val plus : int expr -> int expr -> int expr = <fun>\n"
      ]
     },
     "execution_count": 8,
     "metadata": {},
     "output_type": "execute_result"
    },
    {
     "data": {
      "text/plain": [
       "val mult : int expr -> int expr -> int expr = <fun>\n"
      ]
     },
     "execution_count": 8,
     "metadata": {},
     "output_type": "execute_result"
    }
   ],
   "source": [
    "let mk_int i : int expr = Val (Int i)\n",
    "let mk_bool b : bool expr = Val (Bool b)\n",
    "let plus e1 e2 : int expr = Plus (e1, e2)\n",
    "let mult e1 e2 : int expr = Mult (e1, e2)"
   ]
  },
  {
   "cell_type": "markdown",
   "metadata": {
    "slideshow": {
     "slide_type": "slide"
    }
   },
   "source": [
    "## Quiz: What types are inferred without type annotations?"
   ]
  },
  {
   "cell_type": "code",
   "execution_count": 9,
   "metadata": {},
   "outputs": [
    {
     "data": {
      "text/plain": [
       "val mk_int' : int -> 'a expr = <fun>\n"
      ]
     },
     "execution_count": 9,
     "metadata": {},
     "output_type": "execute_result"
    },
    {
     "data": {
      "text/plain": [
       "val mk_bool' : bool -> 'a expr = <fun>\n"
      ]
     },
     "execution_count": 9,
     "metadata": {},
     "output_type": "execute_result"
    },
    {
     "data": {
      "text/plain": [
       "val plus' : int expr -> int expr -> 'a expr = <fun>\n"
      ]
     },
     "execution_count": 9,
     "metadata": {},
     "output_type": "execute_result"
    },
    {
     "data": {
      "text/plain": [
       "val mult' : int expr -> int expr -> 'a expr = <fun>\n"
      ]
     },
     "execution_count": 9,
     "metadata": {},
     "output_type": "execute_result"
    }
   ],
   "source": [
    "let mk_int' i = Val (Int i) \n",
    "let mk_bool' b  = Val (Bool b)\n",
    "let plus' e1 e2 = Plus (e1, e2)\n",
    "let mult' e1 e2 = Mult (e1, e2)"
   ]
  },
  {
   "cell_type": "markdown",
   "metadata": {
    "slideshow": {
     "slide_type": "slide"
    }
   },
   "source": [
    "## Benefit of phantom types"
   ]
  },
  {
   "cell_type": "code",
   "execution_count": 10,
   "metadata": {},
   "outputs": [
    {
     "data": {
      "text/plain": [
       "val i : 'a expr = Val (Int 0)\n"
      ]
     },
     "execution_count": 10,
     "metadata": {},
     "output_type": "execute_result"
    },
    {
     "data": {
      "text/plain": [
       "val i' : int expr = Val (Int 0)\n"
      ]
     },
     "execution_count": 10,
     "metadata": {},
     "output_type": "execute_result"
    },
    {
     "data": {
      "text/plain": [
       "val b : 'a expr = Val (Bool true)\n"
      ]
     },
     "execution_count": 10,
     "metadata": {},
     "output_type": "execute_result"
    },
    {
     "data": {
      "text/plain": [
       "val b' : bool expr = Val (Bool true)\n"
      ]
     },
     "execution_count": 10,
     "metadata": {},
     "output_type": "execute_result"
    },
    {
     "data": {
      "text/plain": [
       "val p : 'a expr = Plus (Val (Int 0), Val (Int 0))\n"
      ]
     },
     "execution_count": 10,
     "metadata": {},
     "output_type": "execute_result"
    },
    {
     "data": {
      "text/plain": [
       "val p' : int expr = Plus (Val (Int 0), Val (Int 0))\n"
      ]
     },
     "execution_count": 10,
     "metadata": {},
     "output_type": "execute_result"
    }
   ],
   "source": [
    "let i = Val (Int 0);;\n",
    "let i' = mk_int 0;;\n",
    "\n",
    "let b = Val (Bool true);;\n",
    "let b' = mk_bool true;;\n",
    "\n",
    "let p = Plus (i,i);;\n",
    "let p' = plus i i;;"
   ]
  },
  {
   "cell_type": "markdown",
   "metadata": {
    "slideshow": {
     "slide_type": "slide"
    }
   },
   "source": [
    "## Benefit of phantom types\n",
    "\n",
    "We no longer allow ill-typed expression if we use the helper functions."
   ]
  },
  {
   "cell_type": "code",
   "execution_count": 11,
   "metadata": {},
   "outputs": [
    {
     "ename": "error",
     "evalue": "compile_error",
     "output_type": "error",
     "traceback": [
      "File \"[11]\", line 1, characters 5-19:\n1 | plus (mk_bool true) (mk_int 10) (* true + 10 *)\n         ^^^^^^^^^^^^^^\nError: This expression has type bool expr\n       but an expression was expected of type int expr\n       Type bool is not compatible with type int \n"
     ]
    }
   ],
   "source": [
    "plus (mk_bool true) (mk_int 10) (* true + 10 *)"
   ]
  },
  {
   "cell_type": "markdown",
   "metadata": {
    "slideshow": {
     "slide_type": "slide"
    }
   },
   "source": [
    "## Typed evaluator\n",
    "\n",
    "We can write an evaluator for this language now.\n",
    "\n",
    "Let's use the same evaluator as the earlier one."
   ]
  },
  {
   "cell_type": "code",
   "execution_count": 12,
   "metadata": {
    "scrolled": true
   },
   "outputs": [
    {
     "name": "stderr",
     "output_type": "stream",
     "text": [
      "File \"[12]\", lines 6-7, characters 4-17:\n",
      "6 | ....let Int i1, Int i2 = eval e1, eval e2 in\n",
      "7 |     Int (i1 + i2)\n",
      "Warning 8: this pattern-matching is not exhaustive.\n",
      "Here is an example of a case that is not matched:\n",
      "((Int _, Bool _)|(Bool _, _))\n"
     ]
    },
    {
     "ename": "error",
     "evalue": "compile_error",
     "output_type": "error",
     "traceback": [
      "File \"[12]\", line 12, characters 22-23:\n12 |     let Bool b = eval p in\n                           ^\nError: This expression has type bool expr\n       but an expression was expected of type int expr\n       Type bool is not compatible with type int \n"
     ]
    }
   ],
   "source": [
    "let rec eval : 'a expr -> 'a value = \n",
    "  fun e -> match e with\n",
    "  | Val (Int i) -> Int i\n",
    "  | Val (Bool i) -> Bool i\n",
    "  | Plus (e1, e2) ->\n",
    "    let Int i1, Int i2 = eval e1, eval e2 in\n",
    "    Int (i1 + i2)\n",
    "  | Mult (e1, e2) ->\n",
    "    let Int i1, Int i2 = eval e1, eval e2 in\n",
    "    Int (i1 * i2)\n",
    "  | Ite (p,e1,e2) ->\n",
    "    let Bool b = eval p in\n",
    "    if b then eval e1 else eval e2"
   ]
  },
  {
   "cell_type": "markdown",
   "metadata": {
    "slideshow": {
     "slide_type": "slide"
    }
   },
   "source": [
    "## Typed evaluator\n",
    "\n",
    "* We see a $\\color{red}{\\text{type error}}$.\n",
    "* OCaml by default expects **all** the recursive calls to have the same type.\n",
    "  + Not the case in this example:"
   ]
  },
  {
   "cell_type": "code",
   "execution_count": 13,
   "metadata": {},
   "outputs": [
    {
     "name": "stderr",
     "output_type": "stream",
     "text": [
      "File \"[12]\", lines 9-10, characters 4-17:\n",
      " 9 | ....let Int i1, Int i2 = eval e1, eval e2 in\n",
      "10 |     Int (i1 * i2)\n",
      "Warning 8: this pattern-matching is not exhaustive.\n",
      "Here is an example of a case that is not matched:\n",
      "((Int _, Bool _)|(Bool _, _))\n"
     ]
    },
    {
     "ename": "error",
     "evalue": "compile_error",
     "output_type": "error",
     "traceback": [
      "File \"[13]\", line 2, characters 4-5:\n2 |   ...\n        ^\nError: Syntax error\n"
     ]
    }
   ],
   "source": [
    "type 'a expr =\n",
    "  ...\n",
    "  | Plus of int expr * int expr\n",
    "  ...\n",
    "  | Ite of bool expr * 'a expr * 'a expr\n",
    "  \n",
    "let rec eval : 'a expr -> 'a value = \n",
    "  fun e -> match e with\n",
    "  ...\n",
    "  | Plus (e1 (* has type [int expr] by constructor *), e2) ->\n",
    "    let Int i1, Int i2 = eval e1, eval e2 in\n",
    "                        (* inferred type is [eval : int expr -> int value] *)\n",
    "    Int (i1 + i2)\n",
    "  ...\n",
    "  | Ite (p (* has type [bool expr] by constructor *),e1,e2) ->\n",
    "    let Bool b = eval p (* [p] is expected to be an [int expr] *) in\n",
    "    if b then eval e1 else eval e2"
   ]
  },
  {
   "cell_type": "markdown",
   "metadata": {
    "slideshow": {
     "slide_type": "slide"
    }
   },
   "source": [
    "## Polymorphic recursion.\n",
    "\n",
    "* In order to allow this, OCaml supports polymorphic recursion (aka Milner-Mycroft typeability)\n",
    "  + Robin Milner co-invented type infererence + polymorphism that we use in OCaml."
   ]
  },
  {
   "cell_type": "markdown",
   "metadata": {
    "slideshow": {
     "slide_type": "slide"
    }
   },
   "source": [
    "## Fixing the interpreter with polymorphic recursion\n",
    "\n",
    "`type a` is known as **locally abstract type**."
   ]
  },
  {
   "cell_type": "code",
   "execution_count": 14,
   "metadata": {},
   "outputs": [
    {
     "name": "stderr",
     "output_type": "stream",
     "text": [
      "File \"[14]\", lines 6-7, characters 4-17:\n",
      "6 | ....let Int i1, Int i2 = eval e1, eval e2 in\n",
      "7 |     Int (i1 + i2)\n",
      "Warning 8: this pattern-matching is not exhaustive.\n",
      "Here is an example of a case that is not matched:\n",
      "((Int _, Bool _)|(Bool _, _))\n",
      "File \"[14]\", lines 9-10, characters 4-17:\n",
      " 9 | ....let Int i1, Int i2 = eval e1, eval e2 in\n",
      "10 |     Int (i1 * i2)\n",
      "Warning 8: this pattern-matching is not exhaustive.\n",
      "Here is an example of a case that is not matched:\n",
      "((Int _, Bool _)|(Bool _, _))\n",
      "File \"[14]\", lines 12-13, characters 4-34:\n",
      "12 | ....let Bool b = eval p in\n",
      "13 |     if b then eval e1 else eval e2\n",
      "Warning 8: this pattern-matching is not exhaustive.\n",
      "Here is an example of a case that is not matched:\n",
      "Int _\n"
     ]
    },
    {
     "data": {
      "text/plain": [
       "val eval : 'a expr -> 'a value = <fun>\n"
      ]
     },
     "execution_count": 14,
     "metadata": {},
     "output_type": "execute_result"
    }
   ],
   "source": [
    "let rec eval : type a. a expr -> a value = \n",
    "  fun e -> match e with\n",
    "  | Val (Int i) -> Int i\n",
    "  | Val (Bool i) -> Bool i\n",
    "  | Plus (e1, e2) ->\n",
    "    let Int i1, Int i2 = eval e1, eval e2 in\n",
    "    Int (i1 + i2)\n",
    "  | Mult (e1, e2) ->\n",
    "    let Int i1, Int i2 = eval e1, eval e2 in\n",
    "    Int (i1 * i2)\n",
    "  | Ite (p,e1,e2) ->\n",
    "    let Bool b = eval p in\n",
    "    if b then eval e1 else eval e2"
   ]
  },
  {
   "cell_type": "markdown",
   "metadata": {
    "slideshow": {
     "slide_type": "slide"
    }
   },
   "source": [
    "## Why not use polymorphic recursion everywhere?\n",
    "\n",
    "* Type inference is undecidable with polymorphic recursion\n",
    "  + Need explicit type annotation for polymorphically recursive functions\n",
    "* If every recursive function is polymorphically recursive, then every recursive function needs a type annotation.\n",
    "* OCaml chooses ease of use as a default over expressiveness"
   ]
  },
  {
   "cell_type": "markdown",
   "metadata": {
    "slideshow": {
     "slide_type": "slide"
    }
   },
   "source": [
    "## Errors gone, but warning remains\n",
    "\n",
    "* Compiler still warns us that there are unhandled cases in pattern matches\n",
    "* But haven't we added types to the expression language?\n",
    "* Observe that `mk_int i : int expr = Val (Int i)` is just convention.\n",
    "  + You can still write ill-typed expression by directly using the constructors."
   ]
  },
  {
   "cell_type": "markdown",
   "metadata": {
    "slideshow": {
     "slide_type": "slide"
    }
   },
   "source": [
    "## Errors gone, but warning remains"
   ]
  },
  {
   "cell_type": "code",
   "execution_count": 15,
   "metadata": {
    "slideshow": {
     "slide_type": "-"
    }
   },
   "outputs": [
    {
     "ename": "error",
     "evalue": "runtime_error",
     "output_type": "error",
     "traceback": [
      "\u001b[31mException: Match_failure (\"[14]\", 6, 4).\nCalled from file \"toplevel/toploop.ml\", line 212, characters 17-27\n\u001b[0m"
     ]
    }
   ],
   "source": [
    "eval @@ Plus (Val (Bool true), Val (Int 10)) (* true + 10 *)"
   ]
  },
  {
   "cell_type": "markdown",
   "metadata": {},
   "source": [
    "* Here, `Bool true` is inferred to have the type `int value`.\n",
    "  + Need a way to inform the compiler that `Bool true` has type `bool value`."
   ]
  },
  {
   "cell_type": "markdown",
   "metadata": {
    "slideshow": {
     "slide_type": "slide"
    }
   },
   "source": [
    "## Generalized Algebraic Data Types (GADTs)\n",
    "\n",
    "GADTs allow us to **refine** the return type of the data constructor.\n",
    "\n",
    "Consider previous definition with _phantom types_ :\n",
    "\n",
    "```ocaml\n",
    "type 'a value =\n",
    "  | Int  of int\n",
    "  | Bool of bool\n",
    "type 'a expr =\n",
    "  | Val  of 'a value\n",
    "  | Plus of int expr * int expr\n",
    "  | Mult of int expr * int expr\n",
    "  | Ite  of bool expr * 'a expr * 'a expr\n",
    "```"
   ]
  },
  {
   "cell_type": "markdown",
   "metadata": {
    "slideshow": {
     "slide_type": "slide"
    }
   },
   "source": [
    "## Generalized Algebraic Data Types (GADTs)\n",
    "\n",
    "Now look at the type definition using GADTs:"
   ]
  },
  {
   "cell_type": "code",
   "execution_count": 16,
   "metadata": {},
   "outputs": [
    {
     "data": {
      "text/plain": [
       "type 'a value = Int : int -> int value | Bool : bool -> bool value\n"
      ]
     },
     "execution_count": 16,
     "metadata": {},
     "output_type": "execute_result"
    },
    {
     "data": {
      "text/plain": [
       "type 'a expr =\n",
       "    Val : 'a value -> 'a expr\n",
       "  | Plus : int expr * int expr -> int expr\n",
       "  | Mult : int expr * int expr -> int expr\n",
       "  | Ite : bool expr * 'a expr * 'a expr -> 'a expr\n"
      ]
     },
     "execution_count": 16,
     "metadata": {},
     "output_type": "execute_result"
    }
   ],
   "source": [
    "type 'a value =\n",
    "  | Int  : int -> int value\n",
    "  | Bool : bool -> bool value\n",
    "  \n",
    "type 'a expr =\n",
    "  | Val  : 'a value -> 'a expr\n",
    "  | Plus : int expr * int expr -> int expr\n",
    "  | Mult : int expr * int expr -> int expr\n",
    "  | Ite  : bool expr * 'a expr * 'a expr -> 'a expr"
   ]
  },
  {
   "cell_type": "markdown",
   "metadata": {
    "slideshow": {
     "slide_type": "slide"
    }
   },
   "source": [
    "## GADT constructors specialise the return type"
   ]
  },
  {
   "cell_type": "code",
   "execution_count": 17,
   "metadata": {},
   "outputs": [
    {
     "data": {
      "text/plain": [
       "- : int value = Int 10\n"
      ]
     },
     "execution_count": 17,
     "metadata": {},
     "output_type": "execute_result"
    }
   ],
   "source": [
    "Int 10"
   ]
  },
  {
   "cell_type": "code",
   "execution_count": 18,
   "metadata": {},
   "outputs": [
    {
     "data": {
      "text/plain": [
       "- : int expr = Ite (Val (Bool true), Val (Int 10), Val (Int 20))\n"
      ]
     },
     "execution_count": 18,
     "metadata": {},
     "output_type": "execute_result"
    }
   ],
   "source": [
    "Ite (Val (Bool true), Val(Int 10), Val(Int 20))"
   ]
  },
  {
   "cell_type": "markdown",
   "metadata": {
    "slideshow": {
     "slide_type": "slide"
    }
   },
   "source": [
    "## Evaluator remains the same\n",
    "\n",
    "Observe that the warnings are also gone!"
   ]
  },
  {
   "cell_type": "code",
   "execution_count": 19,
   "metadata": {},
   "outputs": [
    {
     "data": {
      "text/plain": [
       "val eval : 'a expr -> 'a value = <fun>\n"
      ]
     },
     "execution_count": 19,
     "metadata": {},
     "output_type": "execute_result"
    }
   ],
   "source": [
    "let rec eval : type a. a expr -> a value = \n",
    "  fun e -> match e with\n",
    "  | Val (Int i) -> Int i\n",
    "  | Val (Bool i) -> Bool i\n",
    "  | Plus (e1, e2) ->\n",
    "    let Int i1, Int i2 = eval e1, eval e2 in\n",
    "    Int (i1 + i2)\n",
    "  | Mult (e1, e2) ->\n",
    "    let Int i1, Int i2 = eval e1, eval e2 in\n",
    "    Int (i1 * i2)\n",
    "  | Ite (p,e1,e2) ->\n",
    "    let Bool b = eval p in\n",
    "    if b then eval e1 else eval e2"
   ]
  },
  {
   "cell_type": "markdown",
   "metadata": {
    "slideshow": {
     "slide_type": "slide"
    }
   },
   "source": [
    "## Absurd expressions are ill-typed"
   ]
  },
  {
   "cell_type": "code",
   "execution_count": 20,
   "metadata": {
    "scrolled": true,
    "slideshow": {
     "slide_type": "-"
    }
   },
   "outputs": [
    {
     "ename": "error",
     "evalue": "compile_error",
     "output_type": "error",
     "traceback": [
      "File \"[20]\", line 1, characters 18-29:\n1 | eval @@ Plus (Val (Bool true), Val (Int 10)) (* true + 10 *)\n                      ^^^^^^^^^^^\nError: This expression has type bool value\n       but an expression was expected of type int value\n       Type bool is not compatible with type int \n"
     ]
    }
   ],
   "source": [
    "eval @@ Plus (Val (Bool true), Val (Int 10)) (* true + 10 *)"
   ]
  },
  {
   "cell_type": "markdown",
   "metadata": {
    "slideshow": {
     "slide_type": "slide"
    }
   },
   "source": [
    "## Absurd types\n",
    "\n",
    "GADTs don't prevent you from instantiating **absurd** types. Consider\n",
    "\n",
    "```ocaml\n",
    "type 'a value =\n",
    "  | Int : int -> int value\n",
    "  | Bool : bool -> bool value\n",
    "```"
   ]
  },
  {
   "cell_type": "code",
   "execution_count": 21,
   "metadata": {},
   "outputs": [
    {
     "data": {
      "text/plain": [
       "type t = string value\n"
      ]
     },
     "execution_count": 21,
     "metadata": {},
     "output_type": "execute_result"
    }
   ],
   "source": [
    "type t = string value"
   ]
  },
  {
   "cell_type": "markdown",
   "metadata": {},
   "source": [
    "* There is no term with type `string value`\n",
    "  + Recall from simply typed lambda calculus that such types are known as **uninhabited types**.\n",
    "* We will ignore such types."
   ]
  },
  {
   "cell_type": "markdown",
   "metadata": {
    "slideshow": {
     "slide_type": "slide"
    }
   },
   "source": [
    "## GADTs are very powerful!\n",
    "\n",
    "* Permits 2 properties over usual algebraic data types \n",
    "  + **refining return types** and \n",
    "  + introduce **existential types** (to be discussed).\n",
    "* Some uses\n",
    "  + Typed domain specific languages\n",
    "    * The example that we just saw...\n",
    "  + (Lightweight) dependently typed programming\n",
    "    * Enforcing **shape properties** of data structures\n",
    "  + Generic programming\n",
    "    * Implementing functions like `map` and `fold` operate on the shape of the data **once and for all**!"
   ]
  },
  {
   "cell_type": "markdown",
   "metadata": {
    "slideshow": {
     "slide_type": "slide"
    }
   },
   "source": [
    "## GADT examples\n",
    "\n",
    "* Units of measure\n",
    "* Abstract (existential) types - encoding first-class modules\n",
    "* Generic programming - encoding tuples\n",
    "* Shape properties - length-indexed lists"
   ]
  },
  {
   "cell_type": "markdown",
   "metadata": {
    "slideshow": {
     "slide_type": "slide"
    }
   },
   "source": [
    "## Units of measure\n",
    "\n",
    "* In 1999, $125 million [mars climate orbiter](https://en.wikipedia.org/wiki/Mars_Climate_Orbiter) was lost due to units of measurement error\n",
    "  + Lockheed Martin used Imperial and NASA used Metric\n",
    "  + Use GADTs to avoid such errors, but still host both units of measure in the same program"
   ]
  },
  {
   "cell_type": "markdown",
   "metadata": {
    "slideshow": {
     "slide_type": "slide"
    }
   },
   "source": [
    "## Units of measure"
   ]
  },
  {
   "cell_type": "code",
   "execution_count": 22,
   "metadata": {},
   "outputs": [
    {
     "data": {
      "text/plain": [
       "type kelvin\n"
      ]
     },
     "execution_count": 22,
     "metadata": {},
     "output_type": "execute_result"
    },
    {
     "data": {
      "text/plain": [
       "type celcius\n"
      ]
     },
     "execution_count": 22,
     "metadata": {},
     "output_type": "execute_result"
    },
    {
     "data": {
      "text/plain": [
       "type farenheit\n"
      ]
     },
     "execution_count": 22,
     "metadata": {},
     "output_type": "execute_result"
    },
    {
     "data": {
      "text/plain": [
       "type _ temp =\n",
       "    Kelvin : float -> kelvin temp\n",
       "  | Celcius : float -> celcius temp\n",
       "  | Farenheit : float -> farenheit temp\n"
      ]
     },
     "execution_count": 22,
     "metadata": {},
     "output_type": "execute_result"
    }
   ],
   "source": [
    "type kelvin\n",
    "type celcius\n",
    "type farenheit\n",
    "\n",
    "type _ temp = \n",
    "  | Kelvin : float -> kelvin temp\n",
    "  | Celcius : float -> celcius temp\n",
    "  | Farenheit : float -> farenheit temp "
   ]
  },
  {
   "cell_type": "markdown",
   "metadata": {
    "slideshow": {
     "slide_type": "slide"
    }
   },
   "source": [
    "## Units of measure"
   ]
  },
  {
   "cell_type": "code",
   "execution_count": 23,
   "metadata": {},
   "outputs": [
    {
     "data": {
      "text/plain": [
       "val add_temp : 'a temp -> 'a temp -> 'a temp = <fun>\n"
      ]
     },
     "execution_count": 23,
     "metadata": {},
     "output_type": "execute_result"
    }
   ],
   "source": [
    "let add_temp : type a. a temp -> a temp -> a temp =\n",
    "  fun a b -> match a,b with\n",
    "  | Kelvin a, Kelvin b -> Kelvin (a+.b)\n",
    "  | Celcius a, Celcius b -> Celcius (a+.b)\n",
    "  | Farenheit a, Farenheit b -> Farenheit (a+.b)"
   ]
  },
  {
   "cell_type": "code",
   "execution_count": 24,
   "metadata": {},
   "outputs": [
    {
     "data": {
      "text/plain": [
       "- : kelvin temp = Kelvin 50.730000000000004\n"
      ]
     },
     "execution_count": 24,
     "metadata": {},
     "output_type": "execute_result"
    }
   ],
   "source": [
    "add_temp (Kelvin 20.23) (Kelvin 30.5)"
   ]
  },
  {
   "cell_type": "code",
   "execution_count": 25,
   "metadata": {},
   "outputs": [
    {
     "ename": "error",
     "evalue": "compile_error",
     "output_type": "error",
     "traceback": [
      "File \"[25]\", line 1, characters 24-38:\n1 | add_temp (Kelvin 20.23) (Celcius 12.3)\n                            ^^^^^^^^^^^^^^\nError: This expression has type celcius temp\n       but an expression was expected of type kelvin temp\n       Type celcius is not compatible with type kelvin \n"
     ]
    }
   ],
   "source": [
    "add_temp (Kelvin 20.23) (Celcius 12.3)"
   ]
  },
  {
   "cell_type": "markdown",
   "metadata": {
    "slideshow": {
     "slide_type": "slide"
    }
   },
   "source": [
    "## Abstract types \n",
    "\n",
    "* GADTs also introduce abstract types (aka **existential type**)."
   ]
  },
  {
   "cell_type": "code",
   "execution_count": 26,
   "metadata": {},
   "outputs": [
    {
     "data": {
      "text/plain": [
       "type t = Pack : 'a -> t\n"
      ]
     },
     "execution_count": 26,
     "metadata": {},
     "output_type": "execute_result"
    }
   ],
   "source": [
    "type t = Pack : 'a -> t"
   ]
  },
  {
   "cell_type": "markdown",
   "metadata": {},
   "source": [
    "* Observe that the `'a` does not appear on the RHS.\n",
    "  + `'a` is the **existential type**.\n",
    "  + Given a value `Pack x` of type `t`, we know nothing about the type of `x` except that such a type exists. \n",
    "* Compare with `Some x` which has type `'a t`, where `x` is of type `'a`."
   ]
  },
  {
   "cell_type": "markdown",
   "metadata": {
    "slideshow": {
     "slide_type": "slide"
    }
   },
   "source": [
    "## Abstract List\n",
    "\n",
    "With GADTs you can create list that contains values of different types."
   ]
  },
  {
   "cell_type": "code",
   "execution_count": 27,
   "metadata": {},
   "outputs": [
    {
     "data": {
      "text/plain": [
       "- : t list = [Pack <poly>; Pack <poly>; Pack <poly>]\n"
      ]
     },
     "execution_count": 27,
     "metadata": {},
     "output_type": "execute_result"
    }
   ],
   "source": [
    "[Pack 10; Pack \"Hello\"; Pack true]"
   ]
  },
  {
   "cell_type": "markdown",
   "metadata": {},
   "source": [
    "* This particular list isn't useful\n",
    "  + Given `Pack v`, we only know that `v` has some type `'a`.\n",
    "  + We do not have any useful operations on values of type `'a`; it is too polymorphic. "
   ]
  },
  {
   "cell_type": "markdown",
   "metadata": {
    "slideshow": {
     "slide_type": "slide"
    }
   },
   "source": [
    "## Existential list : showable\n",
    "\n",
    "Here is a more useful heterogeneous list: List of printable values."
   ]
  },
  {
   "cell_type": "code",
   "execution_count": 28,
   "metadata": {},
   "outputs": [
    {
     "data": {
      "text/plain": [
       "type showable = Showable : 'a * ('a -> string) -> showable\n"
      ]
     },
     "execution_count": 28,
     "metadata": {},
     "output_type": "execute_result"
    }
   ],
   "source": [
    "type showable = Showable : 'a * ('a -> string) -> showable"
   ]
  },
  {
   "cell_type": "code",
   "execution_count": 29,
   "metadata": {},
   "outputs": [
    {
     "data": {
      "text/plain": [
       "val l : showable list =\n",
       "  [Showable (<poly>, <fun>); Showable (<poly>, <fun>);\n",
       "   Showable (<poly>, <fun>)]\n"
      ]
     },
     "execution_count": 29,
     "metadata": {},
     "output_type": "execute_result"
    }
   ],
   "source": [
    "let l = [Showable (10, string_of_int); \n",
    "         Showable (\"Hello\", fun x -> x); \n",
    "         Showable (3.14, string_of_float)]"
   ]
  },
  {
   "cell_type": "code",
   "execution_count": 30,
   "metadata": {
    "scrolled": true
   },
   "outputs": [
    {
     "data": {
      "text/plain": [
       "- : string list = [\"10\"; \"Hello\"; \"3.14\"]\n"
      ]
     },
     "execution_count": 30,
     "metadata": {},
     "output_type": "execute_result"
    }
   ],
   "source": [
    "List.map (fun (Showable (v,show)) -> show v) l"
   ]
  },
  {
   "cell_type": "markdown",
   "metadata": {
    "slideshow": {
     "slide_type": "slide"
    }
   },
   "source": [
    "## GADTs and Modules\n",
    "\n",
    "The type `type showable = Showable : 'a * ('a -> string) -> showable` is equivalent to\n",
    "\n",
    "```ocaml\n",
    "module type Showable : sig\n",
    "  type t\n",
    "  val value : t\n",
    "  val show : t -> string\n",
    "end\n",
    "```"
   ]
  },
  {
   "cell_type": "markdown",
   "metadata": {
    "slideshow": {
     "slide_type": "slide"
    }
   },
   "source": [
    "## GADTs and Modules\n",
    "\n",
    "And the value `Showable (10, string_of_int)` is equivalent to\n",
    "\n",
    "\n",
    "```ocaml\n",
    "module IntShowable : Showable = struct \n",
    "  type t = int\n",
    "  let value = 10\n",
    "  let show = string_of_int\n",
    "end\n",
    "```\n",
    "\n",
    "Both GADTs and Modules introduce existentials."
   ]
  },
  {
   "cell_type": "markdown",
   "metadata": {
    "slideshow": {
     "slide_type": "slide"
    }
   },
   "source": [
    "## First-class modules\n",
    "\n",
    "* Unlike modules, the GADTs are values.\n",
    "* `[Showable (10, string_of_int)]` is a list of showable values.\n",
    "  + Can't do this with the module language we've studied.\n",
    "  + Possible with first-class modules (out of scope, but similar idea)."
   ]
  },
  {
   "cell_type": "markdown",
   "metadata": {
    "slideshow": {
     "slide_type": "slide"
    }
   },
   "source": [
    "## Generic progamming : encoding tuples\n",
    "\n",
    "Consider the `fst` and `snd` functions from OCaml standard library:"
   ]
  },
  {
   "cell_type": "code",
   "execution_count": 31,
   "metadata": {},
   "outputs": [
    {
     "data": {
      "text/plain": [
       "val fst : 'a * 'b -> 'a = <fun>\n"
      ]
     },
     "execution_count": 31,
     "metadata": {},
     "output_type": "execute_result"
    },
    {
     "data": {
      "text/plain": [
       "val snd : 'a * 'b -> 'b = <fun>\n"
      ]
     },
     "execution_count": 31,
     "metadata": {},
     "output_type": "execute_result"
    }
   ],
   "source": [
    "let fst = fst;;\n",
    "let snd = snd"
   ]
  },
  {
   "cell_type": "markdown",
   "metadata": {},
   "source": [
    "`fst` and `snd` cannot be applied to 3-tuples"
   ]
  },
  {
   "cell_type": "code",
   "execution_count": 32,
   "metadata": {},
   "outputs": [
    {
     "ename": "error",
     "evalue": "compile_error",
     "output_type": "error",
     "traceback": [
      "File \"[32]\", line 1, characters 4-11:\n1 | fst (1,2,3)\n        ^^^^^^^\nError: This expression has type 'a * 'b * 'c\n       but an expression was expected of type 'd * 'e\n"
     ]
    }
   ],
   "source": [
    "fst (1,2,3)"
   ]
  },
  {
   "cell_type": "markdown",
   "metadata": {
    "slideshow": {
     "slide_type": "slide"
    }
   },
   "source": [
    "## Generic progamming : encoding tuples\n",
    "\n",
    "We can encode OCaml-like tuples using GADTs with `fst` and `snd` that works on any n-tuple"
   ]
  },
  {
   "cell_type": "code",
   "execution_count": 33,
   "metadata": {},
   "outputs": [
    {
     "data": {
      "text/plain": [
       "type u = |\n"
      ]
     },
     "execution_count": 33,
     "metadata": {},
     "output_type": "execute_result"
    },
    {
     "data": {
      "text/plain": [
       "type _ hlist = Nil : u hlist | Cons : 'a * 'b hlist -> ('a * 'b) hlist\n"
      ]
     },
     "execution_count": 33,
     "metadata": {},
     "output_type": "execute_result"
    }
   ],
   "source": [
    "type u = | (* uninhabited type *)\n",
    "\n",
    "type _ hlist =\n",
    "  | Nil : u hlist\n",
    "  | Cons : 'a * 'b hlist -> ('a * 'b) hlist"
   ]
  },
  {
   "cell_type": "code",
   "execution_count": 34,
   "metadata": {},
   "outputs": [
    {
     "data": {
      "text/plain": [
       "val l : (int * (bool * (float * u))) hlist =\n",
       "  Cons (10, Cons (false, Cons (10.4, Nil)))\n"
      ]
     },
     "execution_count": 34,
     "metadata": {},
     "output_type": "execute_result"
    }
   ],
   "source": [
    "let l = Cons (10, Cons (false, Cons (10.4, Nil)))"
   ]
  },
  {
   "cell_type": "markdown",
   "metadata": {
    "slideshow": {
     "slide_type": "slide"
    }
   },
   "source": [
    "## Encoding Pairs : Accessor Functions"
   ]
  },
  {
   "cell_type": "code",
   "execution_count": 35,
   "metadata": {},
   "outputs": [
    {
     "data": {
      "text/plain": [
       "val fst : ('a * 'b) hlist -> 'a = <fun>\n"
      ]
     },
     "execution_count": 35,
     "metadata": {},
     "output_type": "execute_result"
    },
    {
     "data": {
      "text/plain": [
       "val snd : ('b * ('a * 'c)) hlist -> 'a = <fun>\n"
      ]
     },
     "execution_count": 35,
     "metadata": {},
     "output_type": "execute_result"
    },
    {
     "data": {
      "text/plain": [
       "val trd : ('b * ('c * ('a * 'd))) hlist -> 'a = <fun>\n"
      ]
     },
     "execution_count": 35,
     "metadata": {},
     "output_type": "execute_result"
    }
   ],
   "source": [
    "let fst : ('a * _) hlist -> 'a = fun (Cons (x,_)) -> x\n",
    "let snd : (_ * ('a * _)) hlist -> 'a = fun (Cons (_,Cons(x,_))) -> x\n",
    "let trd : (_ * (_ * ('a * _))) hlist -> 'a = fun (Cons(_,Cons (_,Cons(x,_)))) -> x"
   ]
  },
  {
   "cell_type": "markdown",
   "metadata": {
    "slideshow": {
     "slide_type": "slide"
    }
   },
   "source": [
    "## Encoding Pairs : Accessor Functions\n",
    "\n",
    "* `fst` works on any n-tuple with n > 0.\n",
    "* `snd` works on any n-tuple with n > 1.\n",
    "* ..."
   ]
  },
  {
   "cell_type": "code",
   "execution_count": 36,
   "metadata": {},
   "outputs": [
    {
     "data": {
      "text/plain": [
       "- : int = 10\n"
      ]
     },
     "execution_count": 36,
     "metadata": {},
     "output_type": "execute_result"
    }
   ],
   "source": [
    "fst (Cons (10, Cons (true, Cons(10.5, Nil))))"
   ]
  },
  {
   "cell_type": "code",
   "execution_count": 37,
   "metadata": {},
   "outputs": [
    {
     "data": {
      "text/plain": [
       "- : bool = true\n"
      ]
     },
     "execution_count": 37,
     "metadata": {},
     "output_type": "execute_result"
    }
   ],
   "source": [
    "fst (Cons (true, Cons(10.5, Nil)))"
   ]
  },
  {
   "cell_type": "markdown",
   "metadata": {
    "slideshow": {
     "slide_type": "slide"
    }
   },
   "source": [
    "## Encoding Pairs : Accessor Functions\n",
    "\n",
    "`trd` does not work on a n-tuple with n < 3."
   ]
  },
  {
   "cell_type": "code",
   "execution_count": 38,
   "metadata": {},
   "outputs": [
    {
     "data": {
      "text/plain": [
       "val t : (bool * (float * u)) hlist = Cons (true, Cons (10.5, Nil))\n"
      ]
     },
     "execution_count": 38,
     "metadata": {},
     "output_type": "execute_result"
    },
    {
     "ename": "error",
     "evalue": "compile_error",
     "output_type": "error",
     "traceback": [
      "File \"[38]\", line 2, characters 4-5:\n2 | trd t\n        ^\nError: This expression has type (bool * (float * u)) hlist\n       but an expression was expected of type\n         (bool * (float * ('a * 'b))) hlist\n       Type u is not compatible with type 'a * 'b \n"
     ]
    }
   ],
   "source": [
    "let t = Cons (true, Cons (10.5, Nil));;\n",
    "trd t"
   ]
  },
  {
   "cell_type": "markdown",
   "metadata": {
    "slideshow": {
     "slide_type": "slide"
    }
   },
   "source": [
    "## Enforcing Shape Properties: Length-indexed lists\n",
    "\n",
    "Some of the list function in the OCaml list library as quite unsatisfying."
   ]
  },
  {
   "cell_type": "code",
   "execution_count": 39,
   "metadata": {
    "scrolled": true
   },
   "outputs": [
    {
     "ename": "error",
     "evalue": "runtime_error",
     "output_type": "error",
     "traceback": [
      "\u001b[31mException: Failure \"hd\".\nRaised at file \"stdlib.ml\", line 29, characters 22-33\nCalled from file \"toplevel/toploop.ml\", line 212, characters 17-27\n\u001b[0m"
     ]
    }
   ],
   "source": [
    "List.hd []"
   ]
  },
  {
   "cell_type": "code",
   "execution_count": 40,
   "metadata": {
    "scrolled": false
   },
   "outputs": [
    {
     "ename": "error",
     "evalue": "runtime_error",
     "output_type": "error",
     "traceback": [
      "\u001b[31mException: Failure \"tl\".\nRaised at file \"stdlib.ml\", line 29, characters 22-33\nCalled from file \"toplevel/toploop.ml\", line 212, characters 17-27\n\u001b[0m"
     ]
    }
   ],
   "source": [
    "List.tl []"
   ]
  },
  {
   "cell_type": "markdown",
   "metadata": {
    "slideshow": {
     "slide_type": "slide"
    }
   },
   "source": [
    "## Length indexed lists\n",
    "\n",
    "* Let's implement our own list type which will statically catch these errors.\n",
    "* The idea is to encode the **length** of the list in the **type** of the list.\n",
    "  + Use our encoding of church numerals from lambda calculus."
   ]
  },
  {
   "cell_type": "markdown",
   "metadata": {
    "slideshow": {
     "slide_type": "slide"
    }
   },
   "source": [
    "## Church numerals in OCaml types"
   ]
  },
  {
   "cell_type": "code",
   "execution_count": 41,
   "metadata": {},
   "outputs": [
    {
     "data": {
      "text/plain": [
       "type z = Z\n"
      ]
     },
     "execution_count": 41,
     "metadata": {},
     "output_type": "execute_result"
    },
    {
     "data": {
      "text/plain": [
       "type 'n s = S : 'n -> 'n s\n"
      ]
     },
     "execution_count": 41,
     "metadata": {},
     "output_type": "execute_result"
    }
   ],
   "source": [
    "type z = Z\n",
    "type 'n s = S : 'n -> 'n s"
   ]
  },
  {
   "cell_type": "code",
   "execution_count": 42,
   "metadata": {},
   "outputs": [
    {
     "data": {
      "text/plain": [
       "- : z s s s = S (S (S Z))\n"
      ]
     },
     "execution_count": 42,
     "metadata": {},
     "output_type": "execute_result"
    }
   ],
   "source": [
    "S (S (S Z))"
   ]
  },
  {
   "cell_type": "markdown",
   "metadata": {
    "slideshow": {
     "slide_type": "slide"
    }
   },
   "source": [
    "## Length indexed list"
   ]
  },
  {
   "cell_type": "code",
   "execution_count": 43,
   "metadata": {},
   "outputs": [
    {
     "data": {
      "text/plain": [
       "type (_, _) list =\n",
       "    Nil : ('a, z) list\n",
       "  | Cons : 'a * ('a, 'n) list -> ('a, 'n s) list\n"
      ]
     },
     "execution_count": 43,
     "metadata": {},
     "output_type": "execute_result"
    }
   ],
   "source": [
    "type (_,_) list =\n",
    "  | Nil  : ('a, z ) list\n",
    "  | Cons : 'a * ('a,'n) list -> ('a, 'n s) list"
   ]
  },
  {
   "cell_type": "code",
   "execution_count": 44,
   "metadata": {
    "slideshow": {
     "slide_type": "fragment"
    }
   },
   "outputs": [
    {
     "data": {
      "text/plain": [
       "- : ('a, z) list = Nil\n"
      ]
     },
     "execution_count": 44,
     "metadata": {},
     "output_type": "execute_result"
    },
    {
     "data": {
      "text/plain": [
       "- : (int, z s) list = Cons (0, Nil)\n"
      ]
     },
     "execution_count": 44,
     "metadata": {},
     "output_type": "execute_result"
    },
    {
     "data": {
      "text/plain": [
       "- : (int, z s s) list = Cons (0, Cons (1, Nil))\n"
      ]
     },
     "execution_count": 44,
     "metadata": {},
     "output_type": "execute_result"
    }
   ],
   "source": [
    "Nil;;\n",
    "Cons(0,Nil);;\n",
    "Cons(0,Cons(1,Nil));;"
   ]
  },
  {
   "cell_type": "markdown",
   "metadata": {
    "slideshow": {
     "slide_type": "slide"
    }
   },
   "source": [
    "## Safe `hd` and `tl`\n",
    "\n",
    "Define the function `hd` and `tl` such that they can only be applied to non-empty lists."
   ]
  },
  {
   "cell_type": "code",
   "execution_count": 45,
   "metadata": {
    "slideshow": {
     "slide_type": "fragment"
    }
   },
   "outputs": [
    {
     "data": {
      "text/plain": [
       "val hd : ('a, 'n s) list -> 'a = <fun>\n"
      ]
     },
     "execution_count": 45,
     "metadata": {},
     "output_type": "execute_result"
    }
   ],
   "source": [
    "let hd (l : ('a,'n s) list) : 'a = \n",
    "  let Cons (v,_) = l in\n",
    "  v"
   ]
  },
  {
   "cell_type": "code",
   "execution_count": 46,
   "metadata": {},
   "outputs": [
    {
     "data": {
      "text/plain": [
       "- : int = 1\n"
      ]
     },
     "execution_count": 46,
     "metadata": {},
     "output_type": "execute_result"
    }
   ],
   "source": [
    "hd (Cons (1, Nil))"
   ]
  },
  {
   "cell_type": "code",
   "execution_count": 47,
   "metadata": {
    "scrolled": true
   },
   "outputs": [
    {
     "ename": "error",
     "evalue": "compile_error",
     "output_type": "error",
     "traceback": [
      "File \"[47]\", line 1, characters 3-6:\n1 | hd Nil\n       ^^^\nError: This expression has type ('a, z) list\n       but an expression was expected of type ('a, 'b s) list\n       Type z is not compatible with type 'b s \n"
     ]
    }
   ],
   "source": [
    "hd Nil"
   ]
  },
  {
   "cell_type": "markdown",
   "metadata": {
    "slideshow": {
     "slide_type": "slide"
    }
   },
   "source": [
    "## Safe `hd` and `tl`\n",
    "\n",
    "Define the function `hd` and `tl` such that they can only be applied to non-empty lists."
   ]
  },
  {
   "cell_type": "code",
   "execution_count": 48,
   "metadata": {},
   "outputs": [
    {
     "data": {
      "text/plain": [
       "val hd : ('a, 'n s) list -> 'a = <fun>\n"
      ]
     },
     "execution_count": 48,
     "metadata": {},
     "output_type": "execute_result"
    }
   ],
   "source": [
    "let hd (l : ('a,'n s) list) : 'a = \n",
    "  let Cons (x,_) = l in\n",
    "  x"
   ]
  },
  {
   "cell_type": "markdown",
   "metadata": {
    "slideshow": {
     "slide_type": "-"
    }
   },
   "source": [
    "* Observe that OCaml does not complain about `Nil` case not handled.\n",
    "  + Does not apply since `l` is non-empty!\n",
    "  + GADTs allow the compiler to refute cases statically\n",
    "    * Generate more efficient code!"
   ]
  },
  {
   "cell_type": "markdown",
   "metadata": {
    "slideshow": {
     "slide_type": "slide"
    }
   },
   "source": [
    "## Safe `hd` and `tl`"
   ]
  },
  {
   "cell_type": "code",
   "execution_count": 49,
   "metadata": {},
   "outputs": [
    {
     "data": {
      "text/plain": [
       "val tl : ('a, 'n s) list -> ('a, 'n) list = <fun>\n"
      ]
     },
     "execution_count": 49,
     "metadata": {},
     "output_type": "execute_result"
    }
   ],
   "source": [
    "let tl (l : ('a,'n s) list) : ('a, 'n) list = \n",
    "  let Cons (_,xs) = l in\n",
    "  xs"
   ]
  },
  {
   "cell_type": "code",
   "execution_count": 50,
   "metadata": {},
   "outputs": [
    {
     "data": {
      "text/plain": [
       "- : (int, z s) list = Cons (1, Nil)\n"
      ]
     },
     "execution_count": 50,
     "metadata": {},
     "output_type": "execute_result"
    },
    {
     "data": {
      "text/plain": [
       "- : (int, z) list = Nil\n"
      ]
     },
     "execution_count": 50,
     "metadata": {},
     "output_type": "execute_result"
    }
   ],
   "source": [
    "tl (Cons (0, Cons(1,Nil)));;\n",
    "tl (Cons (0, Nil));;"
   ]
  },
  {
   "cell_type": "markdown",
   "metadata": {
    "slideshow": {
     "slide_type": "slide"
    }
   },
   "source": [
    "## List map\n",
    "\n",
    "`map` is length preserving"
   ]
  },
  {
   "cell_type": "code",
   "execution_count": 51,
   "metadata": {},
   "outputs": [
    {
     "data": {
      "text/plain": [
       "val map : ('a -> 'b) -> ('a, 'n) list -> ('b, 'n) list = <fun>\n"
      ]
     },
     "execution_count": 51,
     "metadata": {},
     "output_type": "execute_result"
    }
   ],
   "source": [
    "let rec map : type n. ('a -> 'b) -> ('a, n) list -> ('b, n) list =\n",
    "  fun f l ->\n",
    "    match l with\n",
    "    | Nil -> Nil\n",
    "    | Cons (x,xs) -> Cons(f x, map f xs)"
   ]
  },
  {
   "cell_type": "markdown",
   "metadata": {
    "slideshow": {
     "slide_type": "slide"
    }
   },
   "source": [
    "## List.rev\n",
    "\n",
    "Tricky to implement tail recurive list like:\n",
    "\n",
    "```ocaml\n",
    "let rec rev l acc =\n",
    "  match l with\n",
    "  | Nil -> acc\n",
    "  | Cons(x,xs) -> rev xs (Cons (x,acc))\n",
    "```\n",
    "\n",
    "why?"
   ]
  },
  {
   "cell_type": "markdown",
   "metadata": {
    "slideshow": {
     "slide_type": "fragment"
    }
   },
   "source": [
    "The type of this function is \n",
    "\n",
    "```ocaml\n",
    "('a,'n) list -> ('a,'m) list -> ('a, 'm + 'n) list\n",
    "```\n",
    "\n",
    "We don't have type-level arithmetic"
   ]
  },
  {
   "cell_type": "markdown",
   "metadata": {
    "slideshow": {
     "slide_type": "slide"
    }
   },
   "source": [
    "## List.rev \n",
    "\n",
    "A non-tail recursive reverse with `succ` only:"
   ]
  },
  {
   "cell_type": "code",
   "execution_count": 52,
   "metadata": {},
   "outputs": [
    {
     "data": {
      "text/plain": [
       "val app1 : ('a, 'n) list -> 'a -> ('a, 'n s) list = <fun>\n"
      ]
     },
     "execution_count": 52,
     "metadata": {},
     "output_type": "execute_result"
    },
    {
     "data": {
      "text/plain": [
       "val rev : ('a, 'n) list -> ('a, 'n) list = <fun>\n"
      ]
     },
     "execution_count": 52,
     "metadata": {},
     "output_type": "execute_result"
    }
   ],
   "source": [
    "let rec app1 : type n. ('a, n) list -> 'a -> ('a, n s) list =\n",
    "  fun l v ->\n",
    "    match l with\n",
    "    | Nil -> Cons (v, Nil)\n",
    "    | Cons(x,xs) -> Cons (x, app1 xs v)\n",
    "    \n",
    "let rec rev : type n. ('a, n) list -> ('a, n) list =\n",
    "  fun l ->\n",
    "    match l with\n",
    "    | Nil -> Nil\n",
    "    | Cons(x,xs) -> app1 (rev xs) x"
   ]
  },
  {
   "cell_type": "code",
   "execution_count": 53,
   "metadata": {},
   "outputs": [
    {
     "data": {
      "text/plain": [
       "- : (int, z s s s) list = Cons (2, Cons (1, Cons (0, Nil)))\n"
      ]
     },
     "execution_count": 53,
     "metadata": {},
     "output_type": "execute_result"
    }
   ],
   "source": [
    "rev (Cons (0, Cons (1, Cons (2, Nil))))"
   ]
  },
  {
   "cell_type": "markdown",
   "metadata": {
    "slideshow": {
     "slide_type": "slide"
    }
   },
   "source": [
    "## Type level addition\n",
    "\n",
    "* We observed that tail-recursive list function requires type level addition on church numerals\n",
    "* OCaml doesn't support type level functions natively\n",
    "  + But we can construct **proofs** for type level functions."
   ]
  },
  {
   "cell_type": "markdown",
   "metadata": {
    "slideshow": {
     "slide_type": "slide"
    }
   },
   "source": [
    "## Type level addition"
   ]
  },
  {
   "cell_type": "code",
   "execution_count": 54,
   "metadata": {},
   "outputs": [
    {
     "data": {
      "text/plain": [
       "type (_, _, _) plus =\n",
       "    PlusZero : (z, 'n, 'n) plus\n",
       "  | PlusShift : ('a, 'b s, 'c s) plus -> ('a s, 'b, 'c s) plus\n"
      ]
     },
     "execution_count": 54,
     "metadata": {},
     "output_type": "execute_result"
    }
   ],
   "source": [
    "type (_,_,_) plus = \n",
    "  | PlusZero  : (z,'n,'n) plus\n",
    "  | PlusShift : ('a, 'b s, 'c s) plus -> ('a s, 'b, 'c s) plus"
   ]
  },
  {
   "cell_type": "markdown",
   "metadata": {},
   "source": [
    "* `('a, 'b, 'c) plus` $\\equiv$ `'c = 'a + 'b` where `'a, 'b, 'c` are type level church numerals.\n",
    "* `PlusZero` and `PlusOne` are theorems on numbers.\n",
    "  + $0 + n = n$\n",
    "  + $a + (b + 1) = c+1 \\implies (a + 1) + b = c + 1$"
   ]
  },
  {
   "cell_type": "markdown",
   "metadata": {
    "slideshow": {
     "slide_type": "slide"
    }
   },
   "source": [
    "## Type level addition"
   ]
  },
  {
   "cell_type": "code",
   "execution_count": 55,
   "metadata": {},
   "outputs": [
    {
     "data": {
      "text/plain": [
       "- : (z, 'a, 'a) plus = PlusZero\n"
      ]
     },
     "execution_count": 55,
     "metadata": {},
     "output_type": "execute_result"
    }
   ],
   "source": [
    "PlusZero"
   ]
  },
  {
   "cell_type": "code",
   "execution_count": 56,
   "metadata": {},
   "outputs": [
    {
     "data": {
      "text/plain": [
       "val z_plus_3_is_3 : (z, z s s s, z s s s) plus = PlusZero\n"
      ]
     },
     "execution_count": 56,
     "metadata": {},
     "output_type": "execute_result"
    }
   ],
   "source": [
    "let z_plus_3_is_3 : (z, z s s s, z s s s) plus  = PlusZero"
   ]
  },
  {
   "cell_type": "code",
   "execution_count": 59,
   "metadata": {},
   "outputs": [
    {
     "data": {
      "text/plain": [
       "val two_plus_3_is_5 : (z s s, z s s s, z s s s s s) plus =\n",
       "  PlusShift (PlusShift PlusZero)\n"
      ]
     },
     "execution_count": 59,
     "metadata": {},
     "output_type": "execute_result"
    }
   ],
   "source": [
    "let two_plus_3_is_5 : (z s s, z s s s, z s s s s s) plus = PlusShift (PlusShift PlusZero)"
   ]
  },
  {
   "cell_type": "markdown",
   "metadata": {},
   "source": [
    "* From a Curry-Howard perspective, we can view a value of type `(a,b,c) plus` as a proof of the proposition that `a + b = c`\n",
    "* Looked at this way, `plus` and other GADTs are a convenient way of programming with _proofs as first-class objects_."
   ]
  },
  {
   "cell_type": "markdown",
   "metadata": {
    "slideshow": {
     "slide_type": "slide"
    }
   },
   "source": [
    "## Tail recursive reverse\n",
    "\n",
    "Recall the defintion of tail recursive reverse\n",
    "\n",
    "```ocaml\n",
    "let rec rev l acc =\n",
    "  match l with\n",
    "  | Nil -> acc\n",
    "  | Cons(x,xs) -> rev xs (Cons (x,acc))\n",
    "  \n",
    "let rev l = rev l []\n",
    "```\n",
    "\n",
    "We are going to implement the same reverse that also carries the proof that it is length preserving."
   ]
  },
  {
   "cell_type": "markdown",
   "metadata": {
    "slideshow": {
     "slide_type": "slide"
    }
   },
   "source": [
    "## Tail recursive reverse\n",
    "```ocaml\n",
    "type (_,_,_) plus = \n",
    "| PlusZero  : (z,'n,'n) plus\n",
    "| PlusShift : ('a, 'b s, 'c s) plus -> ('a s, 'b, 'c s) plus\n",
    "```"
   ]
  },
  {
   "cell_type": "code",
   "execution_count": 63,
   "metadata": {},
   "outputs": [
    {
     "data": {
      "text/plain": [
       "val rev :\n",
       "  ('m, 'n, 'o) plus -> ('a, 'm) list -> ('a, 'n) list -> ('a, 'o) list =\n",
       "  <fun>\n"
      ]
     },
     "execution_count": 63,
     "metadata": {},
     "output_type": "execute_result"
    }
   ],
   "source": [
    "let rec rev : type m n o. (m,n,o) plus -> ('a, m) list -> ('a, n) list -> ('a, o) list =\n",
    "  fun p l acc ->\n",
    "    match p, l with\n",
    "    | PlusZero, Nil -> acc\n",
    "      (* case 1:\n",
    "           PlusZero : 0+n=n\n",
    "           l : length 0 ==> l = Nil\n",
    "           acc : length n\n",
    "           rev PlusZero Nil acc : length n *)\n",
    "    | PlusShift p', Cons(x,xs) -> rev p' xs (Cons(x,acc))\n",
    "      (* case 2:\n",
    "           PlusShift p' : 5+3=8 ==> p' : 4+4=8\n",
    "           l : length 5 /\\ l = Cons(x,xs) => xs : length 4\n",
    "           acc : length 3 ==> Cons(x,acc)) : length 4\n",
    "           rev (p' : 4+4=8) (xs : length 4) (Cons(x,acc) : length 4) : length 8  *)"
   ]
  },
  {
   "cell_type": "markdown",
   "metadata": {
    "slideshow": {
     "slide_type": "slide"
    }
   },
   "source": [
    "## Tail recursive reverse\n",
    "\n",
    "Let's reverse `[0,1,2]`.\n",
    "\n",
    "```ocaml\n",
    "rev (3+0=3) [0,1,2](*3*) [](*0*) = [2,1,0](* 3 *)\n",
    "```"
   ]
  },
  {
   "cell_type": "code",
   "execution_count": 61,
   "metadata": {},
   "outputs": [
    {
     "data": {
      "text/plain": [
       "val proof : (z s s s, z, z s s s) plus =\n",
       "  PlusShift (PlusShift (PlusShift PlusZero))\n"
      ]
     },
     "execution_count": 61,
     "metadata": {},
     "output_type": "execute_result"
    }
   ],
   "source": [
    "let proof : (z s s s, z, z s s s) plus = PlusShift (PlusShift (PlusShift (PlusZero)))"
   ]
  },
  {
   "cell_type": "code",
   "execution_count": 64,
   "metadata": {},
   "outputs": [
    {
     "data": {
      "text/plain": [
       "- : (int, z s s s) list = Cons (2, Cons (1, Cons (0, Nil)))\n"
      ]
     },
     "execution_count": 64,
     "metadata": {},
     "output_type": "execute_result"
    }
   ],
   "source": [
    "rev proof (Cons (0, Cons (1, Cons (2, Nil)))) Nil"
   ]
  },
  {
   "cell_type": "markdown",
   "metadata": {
    "slideshow": {
     "slide_type": "fragment"
    }
   },
   "source": [
    "* Hand-written proof :-(\n",
    "  + Other FP languages (Haskell, Agda, Idris, F*, etc) construct automatic proofs.\n",
    "  + Register for **Programs and Proofs** course next sem to learn more!"
   ]
  },
  {
   "cell_type": "markdown",
   "metadata": {
    "slideshow": {
     "slide_type": "slide"
    }
   },
   "source": [
    "## Trees\n",
    "\n",
    "Here is an unconstrained tree data type:"
   ]
  },
  {
   "cell_type": "code",
   "execution_count": 66,
   "metadata": {},
   "outputs": [
    {
     "data": {
      "text/plain": [
       "type 'a tree = Empty | Tree of 'a tree * 'a * 'a tree\n"
      ]
     },
     "execution_count": 66,
     "metadata": {},
     "output_type": "execute_result"
    }
   ],
   "source": [
    "type 'a tree = \n",
    "  | Empty\n",
    "  | Tree of 'a tree * 'a * 'a tree"
   ]
  },
  {
   "cell_type": "code",
   "execution_count": 67,
   "metadata": {},
   "outputs": [
    {
     "data": {
      "text/plain": [
       "- : int tree = Tree (Empty, 1, Tree (Empty, 2, Tree (Empty, 3, Empty)))\n"
      ]
     },
     "execution_count": 67,
     "metadata": {},
     "output_type": "execute_result"
    },
    {
     "data": {
      "text/plain": [
       "- : int tree = Tree (Tree (Tree (Empty, 3, Empty), 2, Empty), 1, Empty)\n"
      ]
     },
     "execution_count": 67,
     "metadata": {},
     "output_type": "execute_result"
    },
    {
     "data": {
      "text/plain": [
       "- : int tree =\n",
       "Tree (Tree (Tree (Empty, 3, Empty), 10, Tree (Empty, 3, Empty)), 1,\n",
       " Tree (Tree (Empty, 3, Empty), 2, Tree (Empty, 3, Empty)))\n"
      ]
     },
     "execution_count": 67,
     "metadata": {},
     "output_type": "execute_result"
    }
   ],
   "source": [
    "Tree (Empty, 1, Tree (Empty, 2, Tree (Empty, 3, Empty)));; (* Right skewed *)\n",
    "Tree (Tree (Tree (Empty, 3, Empty), 2, Empty), 1, Empty);; (* Left skewed *)\n",
    "Tree (Tree (Tree (Empty, 3, Empty), 10, Tree (Empty, 3, Empty)), \n",
    "      1, \n",
    "      Tree (Tree (Empty, 3, Empty), 2, Tree (Empty, 3, Empty))) (* Perfectly balanced tree *)"
   ]
  },
  {
   "cell_type": "markdown",
   "metadata": {
    "slideshow": {
     "slide_type": "slide"
    }
   },
   "source": [
    "## Tree operations"
   ]
  },
  {
   "cell_type": "code",
   "execution_count": 68,
   "metadata": {},
   "outputs": [
    {
     "data": {
      "text/plain": [
       "val depth : 'a tree -> int = <fun>\n"
      ]
     },
     "execution_count": 68,
     "metadata": {},
     "output_type": "execute_result"
    }
   ],
   "source": [
    "let rec depth t = match t with\n",
    "  | Empty -> 0\n",
    "  | Tree (l,_,r) -> 1 + max (depth l) (depth r)"
   ]
  },
  {
   "cell_type": "code",
   "execution_count": 69,
   "metadata": {},
   "outputs": [
    {
     "data": {
      "text/plain": [
       "val top : 'a tree -> 'a option = <fun>\n"
      ]
     },
     "execution_count": 69,
     "metadata": {},
     "output_type": "execute_result"
    }
   ],
   "source": [
    "let top t = match t with\n",
    "  | Empty -> None \n",
    "  | Tree (_,v,_) -> Some v"
   ]
  },
  {
   "cell_type": "markdown",
   "metadata": {
    "slideshow": {
     "slide_type": "slide"
    }
   },
   "source": [
    "## Tree operations"
   ]
  },
  {
   "cell_type": "markdown",
   "metadata": {},
   "source": [
    "`swivel` is mirror image of the tree"
   ]
  },
  {
   "cell_type": "code",
   "execution_count": 70,
   "metadata": {},
   "outputs": [
    {
     "data": {
      "text/plain": [
       "val swivel : 'a tree -> 'a tree = <fun>\n"
      ]
     },
     "execution_count": 70,
     "metadata": {},
     "output_type": "execute_result"
    }
   ],
   "source": [
    "let rec swivel t = match t with\n",
    "  | Empty -> Empty\n",
    "  | Tree (l,v,r) -> Tree (swivel r, v, swivel l)"
   ]
  },
  {
   "cell_type": "markdown",
   "metadata": {
    "slideshow": {
     "slide_type": "slide"
    }
   },
   "source": [
    "## Perfectly balanced tree using GADTs"
   ]
  },
  {
   "cell_type": "code",
   "execution_count": 72,
   "metadata": {},
   "outputs": [
    {
     "data": {
      "text/plain": [
       "type ('a, _) gtree =\n",
       "    EmptyG : ('a, z) gtree\n",
       "  | TreeG : ('a, 'n) gtree * 'a * ('a, 'n) gtree -> ('a, 'n s) gtree\n"
      ]
     },
     "execution_count": 72,
     "metadata": {},
     "output_type": "execute_result"
    }
   ],
   "source": [
    "type ('a, _(* depth *)) gtree = \n",
    "  | EmptyG : ('a,z) gtree\n",
    "  | TreeG  : ('a,'n) gtree * 'a * ('a,'n) gtree -> ('a,'n s) gtree"
   ]
  },
  {
   "cell_type": "code",
   "execution_count": 75,
   "metadata": {},
   "outputs": [
    {
     "data": {
      "text/plain": [
       "- : (int, z s s s) gtree =\n",
       "TreeG (TreeG (TreeG (EmptyG, 3, EmptyG), 2, TreeG (EmptyG, 3, EmptyG)), 1,\n",
       " TreeG (TreeG (EmptyG, 3, EmptyG), 2, TreeG (EmptyG, 3, EmptyG)))\n"
      ]
     },
     "execution_count": 75,
     "metadata": {},
     "output_type": "execute_result"
    }
   ],
   "source": [
    "TreeG (TreeG (TreeG (EmptyG, 3, EmptyG), 2, TreeG (EmptyG, 3, EmptyG)), \n",
    "       1, \n",
    "       TreeG (TreeG (EmptyG, 3, EmptyG), 2, TreeG (EmptyG, 3, EmptyG)))"
   ]
  },
  {
   "cell_type": "markdown",
   "metadata": {
    "slideshow": {
     "slide_type": "slide"
    }
   },
   "source": [
    "## Operations on `gtree`"
   ]
  },
  {
   "cell_type": "code",
   "execution_count": null,
   "metadata": {},
   "outputs": [],
   "source": [
    "let rec depthG : type n. ('a,n) gtree -> int =\n",
    "  fun t -> match t with\n",
    "  | EmptyG -> 0\n",
    "  | TreeG (l,_,_r) -> 1 + depthG l"
   ]
  },
  {
   "cell_type": "markdown",
   "metadata": {},
   "source": [
    "We have proof that `depthG l = depthG r`!"
   ]
  },
  {
   "cell_type": "code",
   "execution_count": null,
   "metadata": {},
   "outputs": [],
   "source": [
    "let topG : ('a, 'n s) gtree -> 'a = \n",
    "  fun t -> let TreeG(_,v,_) = t in v"
   ]
  },
  {
   "cell_type": "markdown",
   "metadata": {},
   "source": [
    "`topG` can only be applied to a non-empty tree!"
   ]
  },
  {
   "cell_type": "markdown",
   "metadata": {
    "slideshow": {
     "slide_type": "slide"
    }
   },
   "source": [
    "## Operations on a tree"
   ]
  },
  {
   "cell_type": "code",
   "execution_count": 77,
   "metadata": {},
   "outputs": [
    {
     "data": {
      "text/plain": [
       "val swivelG : ('a, 'n) gtree -> ('a, 'n) gtree = <fun>\n"
      ]
     },
     "execution_count": 77,
     "metadata": {},
     "output_type": "execute_result"
    }
   ],
   "source": [
    "let rec swivelG : type n.('a,n) gtree -> ('a,n) gtree = \n",
    "fun t -> match t with\n",
    "    EmptyG -> EmptyG\n",
    "  | TreeG (l,v,r) -> TreeG (swivelG r, v, swivelG l)"
   ]
  },
  {
   "cell_type": "markdown",
   "metadata": {},
   "source": [
    "The type guarantees that `swivelG` does not alter the depth of the tree. "
   ]
  },
  {
   "cell_type": "markdown",
   "metadata": {
    "slideshow": {
     "slide_type": "slide"
    }
   },
   "source": [
    "## Zipping perfect trees\n",
    "\n",
    "Two perfect trees of the same depth differ only by values"
   ]
  },
  {
   "cell_type": "code",
   "execution_count": 80,
   "metadata": {},
   "outputs": [
    {
     "data": {
      "text/plain": [
       "val zipTree : ('a, 'n) gtree -> ('b, 'n) gtree -> ('a * 'b, 'n) gtree = <fun>\n"
      ]
     },
     "execution_count": 80,
     "metadata": {},
     "output_type": "execute_result"
    }
   ],
   "source": [
    "let rec zipTree :\n",
    "  type n.('a,n) gtree -> ('b,n) gtree -> ('a * 'b,n) gtree =\n",
    "  fun x y -> match x, y with\n",
    "      EmptyG, EmptyG -> EmptyG\n",
    "    | TreeG (l,v,r), TreeG (m,w,s) ->\n",
    "      TreeG (zipTree l m, (v,w), zipTree r s)"
   ]
  },
  {
   "cell_type": "markdown",
   "metadata": {},
   "source": [
    "The cases `EmptyG, TreeG _` and `TreeG _, EmptyG` are guaranteed not to occur statically!"
   ]
  },
  {
   "cell_type": "markdown",
   "metadata": {
    "slideshow": {
     "slide_type": "slide"
    }
   },
   "source": [
    "<center>\n",
    "\n",
    "<h1 style=\"text-align:center\"> Fin. </h1>\n",
    "</center>"
   ]
  },
  {
   "cell_type": "markdown",
   "metadata": {
    "slideshow": {
     "slide_type": "slide"
    }
   },
   "source": [
    "<center>\n",
    "\n",
    "<h1 style=\"text-align:center\"> Extra Materials. </h1>\n",
    "</center>"
   ]
  },
  {
   "cell_type": "markdown",
   "metadata": {
    "slideshow": {
     "slide_type": "slide"
    }
   },
   "source": [
    "## Depth indexed tree (unbalanced)\n",
    "\n",
    "```ocaml\n",
    "type ('a,_) dtree =\n",
    "  | EmptyD : ('a,z) dtree\n",
    "  | TreeD : ('a,'m) dtree * 'a * ('a,'n) dtree \n",
    "            * ('m,'n,'o) max -> ('a,'o s) dtree\n",
    "```\n",
    "\n",
    "* The type `('m,'n,'o) max` $~\\equiv~$ `max('m,'n) = 'o` on type level church numerals.\n",
    "  + `('m,'n,'o) max` is **proof** that `'o` is the max of `'m` and `'n`.\n",
    "* `TreeD` carries a value of type `('m,'n,'o) max`\n",
    "  + This is **proof carrying code**\n",
    "  + Given `t = TreeD (l,v,r,p : ('m,'n,'o) max)`, we can prove that `t` has depth `'o s`."
   ]
  },
  {
   "cell_type": "markdown",
   "metadata": {
    "slideshow": {
     "slide_type": "slide"
    }
   },
   "source": [
    "## Equality GADT\n",
    "\n",
    "For defining `max` start with the **Equality GADT**.\n",
    "\n",
    "The equality GADT is the type:"
   ]
  },
  {
   "cell_type": "code",
   "execution_count": null,
   "metadata": {},
   "outputs": [],
   "source": [
    "type (_,_) eql = Refl : ('a,'a) eql"
   ]
  },
  {
   "cell_type": "markdown",
   "metadata": {
    "slideshow": {
     "slide_type": "fragment"
    }
   },
   "source": [
    "We can only instantiate `Refl` with types that are known to be equal."
   ]
  },
  {
   "cell_type": "code",
   "execution_count": null,
   "metadata": {},
   "outputs": [],
   "source": [
    "type t = int\n",
    "let _ = (Refl : (t,int) eql)"
   ]
  },
  {
   "cell_type": "markdown",
   "metadata": {
    "slideshow": {
     "slide_type": "slide"
    }
   },
   "source": [
    "## Equality GADT\n",
    "\n",
    "`Refl` cannot be instantiated at types known to be different or not known to be equal."
   ]
  },
  {
   "cell_type": "code",
   "execution_count": null,
   "metadata": {
    "slideshow": {
     "slide_type": "-"
    }
   },
   "outputs": [],
   "source": [
    "let _ = (Refl : (int,string) eql)"
   ]
  },
  {
   "cell_type": "code",
   "execution_count": null,
   "metadata": {},
   "outputs": [],
   "source": [
    "module M : sig type t end = struct type t = int end\n",
    "let _ = (Refl : (M.t,int) eql)"
   ]
  },
  {
   "cell_type": "markdown",
   "metadata": {
    "slideshow": {
     "slide_type": "slide"
    }
   },
   "source": [
    "## `max` type\n",
    "\n",
    "The following type definitions contain theorems about the `max` function."
   ]
  },
  {
   "cell_type": "code",
   "execution_count": null,
   "metadata": {},
   "outputs": [],
   "source": [
    "type (_,_,_) max =\n",
    "    MaxEq : ('a,'b) eql -> ('a,'b,'a) max\n",
    "  | MaxFlip : ('a,'b,'c) max -> ('b,'a,'c) max\n",
    "  | MaxSuc : ('a,'b,'a) max -> ('a s,'b,'a s) max"
   ]
  },
  {
   "cell_type": "markdown",
   "metadata": {
    "slideshow": {
     "slide_type": "slide"
    }
   },
   "source": [
    "## `max` type examples"
   ]
  },
  {
   "cell_type": "code",
   "execution_count": null,
   "metadata": {
    "slideshow": {
     "slide_type": "-"
    }
   },
   "outputs": [],
   "source": [
    "let m1 = MaxEq (Refl : (z, z) eql)"
   ]
  },
  {
   "cell_type": "code",
   "execution_count": null,
   "metadata": {
    "slideshow": {
     "slide_type": "fragment"
    }
   },
   "outputs": [],
   "source": [
    "let m2 = MaxSuc m1"
   ]
  },
  {
   "cell_type": "markdown",
   "metadata": {},
   "source": [
    "Given a proof that the max of `z` and `z` is `z`, I can prove that the max of `z s` and `z` is `z s`."
   ]
  },
  {
   "cell_type": "markdown",
   "metadata": {
    "slideshow": {
     "slide_type": "slide"
    }
   },
   "source": [
    "## `max` function on church numerals"
   ]
  },
  {
   "cell_type": "code",
   "execution_count": null,
   "metadata": {},
   "outputs": [],
   "source": [
    "let rec max : type a b c.(a,b,c) max -> a -> b -> c\n",
    "  = fun mx m n -> match mx,m with\n",
    "      MaxEq Refl , _    -> m\n",
    "    | MaxFlip mx', _    -> max mx' n m\n",
    "    | MaxSuc mx' , S m' -> S (max mx' m' n)"
   ]
  },
  {
   "cell_type": "code",
   "execution_count": null,
   "metadata": {},
   "outputs": [],
   "source": [
    "max (MaxSuc (MaxEq (Refl : (z,z) eql))) (S Z) Z"
   ]
  },
  {
   "cell_type": "markdown",
   "metadata": {
    "slideshow": {
     "slide_type": "slide"
    }
   },
   "source": [
    "## `max` function on church numerals"
   ]
  },
  {
   "cell_type": "code",
   "execution_count": null,
   "metadata": {},
   "outputs": [],
   "source": [
    "max (MaxSuc (MaxEq (Refl : (z,z) eql))) (S Z) Z"
   ]
  },
  {
   "cell_type": "markdown",
   "metadata": {},
   "source": [
    "* The `max` function seems a bit silly given that we need to provide the proof.\n",
    "  + We learn no new information. Proof already tells us that `z s > z`.\n",
    "* `max` function gets **term** level evidence from the **type** level proof. "
   ]
  },
  {
   "cell_type": "markdown",
   "metadata": {
    "slideshow": {
     "slide_type": "slide"
    }
   },
   "source": [
    "## Depth Indexed Tree"
   ]
  },
  {
   "cell_type": "code",
   "execution_count": null,
   "metadata": {},
   "outputs": [],
   "source": [
    "type ('a,_) dtree =\n",
    "    EmptyD : ('a,z) dtree\n",
    "  | TreeD : ('a,'m) dtree * 'a * ('a,'n) dtree * ('m,'n,'o) max \n",
    "    -> ('a,'o s) dtree"
   ]
  },
  {
   "cell_type": "markdown",
   "metadata": {
    "slideshow": {
     "slide_type": "slide"
    }
   },
   "source": [
    "## Operations on `dtree`"
   ]
  },
  {
   "cell_type": "code",
   "execution_count": null,
   "metadata": {},
   "outputs": [],
   "source": [
    "let rec depthD : type a n.(a,n) dtree -> n = function\n",
    "    EmptyD -> Z\n",
    "  | TreeD (l,_,r,mx) -> S (max mx (depthD l) (depthD r))"
   ]
  },
  {
   "cell_type": "code",
   "execution_count": null,
   "metadata": {},
   "outputs": [],
   "source": [
    "let topD : type a n.(a,n s) dtree -> a =\n",
    "  function TreeD (_,v,_,_) -> v"
   ]
  },
  {
   "cell_type": "code",
   "execution_count": null,
   "metadata": {},
   "outputs": [],
   "source": [
    "let rec swivelD :\n",
    "  type a n.(a,n) dtree -> (a,n) dtree = function\n",
    "    EmptyD -> EmptyD\n",
    "  | TreeD (l,v,r,m) ->\n",
    "    TreeD (swivelD r, v, swivelD l, MaxFlip m)"
   ]
  },
  {
   "cell_type": "markdown",
   "metadata": {
    "slideshow": {
     "slide_type": "slide"
    }
   },
   "source": [
    "## Adding lambdas to interpreter\n",
    "\n",
    "Let's add simply typed lambda calculus to our original int & bool expression evaluator."
   ]
  },
  {
   "cell_type": "code",
   "execution_count": null,
   "metadata": {},
   "outputs": [],
   "source": [
    "type _ typ = \n",
    "  | TInt : int typ\n",
    "  | TBool : bool typ\n",
    "  | TLam : 'a typ * 'b typ -> ('a -> 'b) typ\n",
    "\n",
    "type 'a value =\n",
    "  | VInt : int -> int value\n",
    "  | VBool : bool -> bool value\n",
    "  | VLam : ('a value -> 'b value) -> ('a -> 'b) value\n",
    "  \n",
    "and 'a expr =\n",
    "  | Var : string * 'a typ ->  'a expr\n",
    "  | App : ('a -> 'b) expr * 'a expr -> 'b expr\n",
    "  | Lam : string * 'a typ * 'b expr -> ('a -> 'b) expr\n",
    "  | Val : 'a value -> 'a expr\n",
    "  | Plus : int expr * int expr -> int expr\n",
    "  | Mult : int expr * int expr -> int expr\n",
    "  | Ite : bool expr * 'a expr * 'a expr -> 'a expr"
   ]
  },
  {
   "cell_type": "code",
   "execution_count": null,
   "metadata": {
    "slideshow": {
     "slide_type": "slide"
    }
   },
   "outputs": [],
   "source": [
    "let rec typ_eq : type a b. a typ -> b typ -> (a, b) eql option =\n",
    "  fun t1 t2 -> match t1, t2 with\n",
    "  | TInt, TInt -> Some Refl\n",
    "  | TBool, TBool -> Some Refl\n",
    "  | TLam (t1,t2), TLam (u1,u2) -> \n",
    "      begin match typ_eq t1 u1, typ_eq t2 u2 with\n",
    "      | Some Refl, Some Refl -> Some Refl\n",
    "      | _ -> None\n",
    "      end\n",
    "  | _ -> None"
   ]
  },
  {
   "cell_type": "code",
   "execution_count": null,
   "metadata": {
    "slideshow": {
     "slide_type": "slide"
    }
   },
   "outputs": [],
   "source": [
    "type env =\n",
    "  | Empty : env\n",
    "  | Extend : string * 'a typ * 'a value * env -> env"
   ]
  },
  {
   "cell_type": "markdown",
   "metadata": {
    "slideshow": {
     "slide_type": "slide"
    }
   },
   "source": [
    "## Evaluation\n",
    "\n",
    "```ocaml\n",
    "eval : a expr -> a value\n",
    "```\n",
    "\n",
    "* Limitations:\n",
    "  + Evaluation is defined only on closed terms.\n",
    "  + Type checking for variables use done at runtime."
   ]
  },
  {
   "cell_type": "code",
   "execution_count": null,
   "metadata": {
    "slideshow": {
     "slide_type": "slide"
    }
   },
   "outputs": [],
   "source": [
    "let rec eval : type a. env -> a expr -> a value = \n",
    "  fun env e -> match e with\n",
    "  | Var (s,t) -> \n",
    "     begin match env with\n",
    "      | Empty -> failwith \"not a closed term\"\n",
    "      | Extend (s',t',v,env') ->\n",
    "          if s = s' then \n",
    "            match typ_eq t t' with\n",
    "            | Some Refl -> v\n",
    "            | None -> failwith \"types don't match\"\n",
    "          else eval env' e\n",
    "     end\n",
    "  | App (e1,e2) -> \n",
    "    let VLam f = eval env e1 in\n",
    "    f (eval env e2)\n",
    "  | Lam (s,t,e) -> \n",
    "      VLam (fun v -> eval (Extend (s, t, v, env)) e)\n",
    "  | Val v -> v\n",
    "  | Plus (e1, e2) ->\n",
    "    let VInt i1, VInt i2 = eval env e1, eval env e2 in\n",
    "    VInt (i1 + i2)\n",
    "  | Mult (e1, e2) ->\n",
    "    let VInt i1, VInt i2 = eval env e1, eval env e2 in\n",
    "    VInt (i1 * i2)\n",
    "  | Ite (p,e1,e2) ->\n",
    "    let VBool b = eval env p in\n",
    "    if b then eval env e1 else eval env e2\n",
    "    \n",
    "let eval e = eval Empty e"
   ]
  },
  {
   "cell_type": "markdown",
   "metadata": {},
   "source": [
    "## Typing catches errors"
   ]
  },
  {
   "cell_type": "code",
   "execution_count": null,
   "metadata": {
    "slideshow": {
     "slide_type": "slide"
    }
   },
   "outputs": [],
   "source": [
    "eval @@ App (Lam (\"x\",TInt,Val(VInt 0)), (Val (VInt 10)))"
   ]
  },
  {
   "cell_type": "code",
   "execution_count": null,
   "metadata": {},
   "outputs": [],
   "source": [
    "eval @@ App (Lam (\"x\",TInt,Val(VInt 0)), (Val (VBool 10)))"
   ]
  },
  {
   "cell_type": "markdown",
   "metadata": {},
   "source": [
    "## Runtime errors"
   ]
  },
  {
   "cell_type": "code",
   "execution_count": null,
   "metadata": {
    "slideshow": {
     "slide_type": "slide"
    }
   },
   "outputs": [],
   "source": [
    "eval @@ App (Lam (\"x\",TBool, Plus (Val (VInt 10), Var (\"x\", TInt))), Val (VBool true))"
   ]
  },
  {
   "cell_type": "code",
   "execution_count": null,
   "metadata": {
    "scrolled": true
   },
   "outputs": [],
   "source": [
    "eval @@ Var (\"x\", TInt)"
   ]
  },
  {
   "cell_type": "markdown",
   "metadata": {},
   "source": [
    "## Fixing the runtime errors\n",
    "\n",
    "* Use the host language (OCaml) features for encoding the features in the object language (lambda calculus).\n",
    "  + The feature we use here is abstraction.\n",
    "  + Use `fun (x : TInt) -> e` to encode `Lam \"x\" TInt e`"
   ]
  },
  {
   "cell_type": "code",
   "execution_count": null,
   "metadata": {},
   "outputs": [],
   "source": [
    "type 'a value =\n",
    "  | VInt : int -> int value\n",
    "  | VBool : bool -> bool value\n",
    "  | VLam : ('a expr -> 'b expr) -> ('a -> 'b) value\n",
    "  \n",
    "and 'a expr =\n",
    "  | App : ('a -> 'b) expr * 'a expr -> 'b expr\n",
    "  | Val : 'a value -> 'a expr\n",
    "  | Plus : int expr * int expr -> int expr\n",
    "  | Mult : int expr * int expr -> int expr\n",
    "  | Ite : bool expr * 'a expr * 'a expr -> 'a expr"
   ]
  },
  {
   "cell_type": "markdown",
   "metadata": {
    "slideshow": {
     "slide_type": "slide"
    }
   },
   "source": [
    "## Higher Order Abstract Syntax\n",
    "\n",
    "* This technique is known as Higher-Order Abstract Syntax (HOAS).\n",
    "* Downside is that we can no longer **look inside** the abstraction.\n",
    "  + In the term `Lam f`, we cannot do anything on `f` except apply it. \n",
    "  + Cannot implement full-beta reduction for example \n",
    "  + or do code transformation inside the body of lambda. "
   ]
  },
  {
   "cell_type": "markdown",
   "metadata": {
    "slideshow": {
     "slide_type": "slide"
    }
   },
   "source": [
    "## Evaluator"
   ]
  },
  {
   "cell_type": "code",
   "execution_count": null,
   "metadata": {},
   "outputs": [],
   "source": [
    "let rec eval : type a. a expr -> a value = \n",
    "  fun e -> match e with\n",
    "  | App (e1,e2) -> \n",
    "    let VLam f = eval e1 in\n",
    "    eval (f (Val (eval e2)))\n",
    "  | Val v -> v\n",
    "  | Plus (e1, e2) ->\n",
    "    let VInt i1, VInt i2 = eval e1, eval e2 in\n",
    "    VInt (i1 + i2)\n",
    "  | Mult (e1, e2) ->\n",
    "    let VInt i1, VInt i2 = eval e1, eval e2 in\n",
    "    VInt (i1 * i2)\n",
    "  | Ite (p,e1,e2) ->\n",
    "    let VBool b = eval p in\n",
    "    if b then eval e1 else eval e2"
   ]
  },
  {
   "cell_type": "markdown",
   "metadata": {
    "slideshow": {
     "slide_type": "slide"
    }
   },
   "source": [
    "## Static errors remain static"
   ]
  },
  {
   "cell_type": "code",
   "execution_count": null,
   "metadata": {},
   "outputs": [],
   "source": [
    "eval @@ App (Val (VLam (fun x -> Val(VInt 0))), (Val (VInt 10)))"
   ]
  },
  {
   "cell_type": "code",
   "execution_count": null,
   "metadata": {
    "scrolled": true
   },
   "outputs": [],
   "source": [
    "eval @@ App (Val (VLam (fun x -> Val(VInt 0))), (Val (VBool 10)))"
   ]
  },
  {
   "cell_type": "markdown",
   "metadata": {
    "slideshow": {
     "slide_type": "slide"
    }
   },
   "source": [
    "## Dynamic errors also become static"
   ]
  },
  {
   "cell_type": "code",
   "execution_count": null,
   "metadata": {},
   "outputs": [],
   "source": [
    "eval @@ App (Val (VLam (fun (x : bool expr) -> Plus (Val (VInt 10), x))), Val (VBool true))"
   ]
  }
 ],
 "metadata": {
  "celltoolbar": "Slideshow",
  "kernelspec": {
   "display_name": "OCaml 4.10",
   "language": "OCaml",
   "name": "ocaml-jupyter"
  },
  "language_info": {
   "codemirror_mode": "text/x-ocaml",
   "file_extension": ".ml",
   "mimetype": "text/x-ocaml",
   "name": "OCaml",
   "nbconverter_exporter": null,
   "pygments_lexer": "OCaml",
   "version": "4.10.0"
  }
 },
 "nbformat": 4,
 "nbformat_minor": 2
}
