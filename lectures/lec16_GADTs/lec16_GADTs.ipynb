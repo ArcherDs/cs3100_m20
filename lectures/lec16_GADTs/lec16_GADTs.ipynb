{
 "cells": [
  {
   "cell_type": "markdown",
   "metadata": {
    "slideshow": {
     "slide_type": "slide"
    }
   },
   "source": [
    "<center>\n",
    "\n",
    "<h1 style=\"text-align:center\"> Generalized Algebraic Data Types </h1>\n",
    "<h2 style=\"text-align:center\"> CS3100 Monsoon 2020 </h2>\n",
    "</center>"
   ]
  },
  {
   "cell_type": "markdown",
   "metadata": {
    "slideshow": {
     "slide_type": "slide"
    }
   },
   "source": [
    "## Simple language\n",
    "\n",
    "Consider this simple language of integers and booleans"
   ]
  },
  {
   "cell_type": "code",
   "execution_count": 1,
   "metadata": {},
   "outputs": [
    {
     "data": {
      "text/plain": [
       "type value = Int of int | Bool of bool\n"
      ]
     },
     "execution_count": 1,
     "metadata": {},
     "output_type": "execute_result"
    },
    {
     "data": {
      "text/plain": [
       "type expr =\n",
       "    Val of value\n",
       "  | Plus of expr * expr\n",
       "  | Mult of expr * expr\n",
       "  | Ite of expr * expr * expr\n"
      ]
     },
     "execution_count": 1,
     "metadata": {},
     "output_type": "execute_result"
    }
   ],
   "source": [
    "type value =\n",
    "  | Int of int\n",
    "  | Bool of bool\n",
    "\n",
    "type expr =\n",
    "  | Val of value\n",
    "  | Plus of expr * expr\n",
    "  | Mult of expr * expr\n",
    "  | Ite of expr * expr * expr"
   ]
  },
  {
   "cell_type": "markdown",
   "metadata": {
    "slideshow": {
     "slide_type": "slide"
    }
   },
   "source": [
    "## Evaluator for the simple language\n",
    "\n",
    "We can write a simple evaluator for this language"
   ]
  },
  {
   "cell_type": "code",
   "execution_count": 2,
   "metadata": {},
   "outputs": [
    {
     "name": "stderr",
     "output_type": "stream",
     "text": [
      "File \"[2]\", lines 6-7, characters 4-17:\n",
      "6 | ....let Int i1, Int i2 = eval e1, eval e2 in\n",
      "7 |     Int (i1 + i2)\n",
      "Warning 8: this pattern-matching is not exhaustive.\n",
      "Here is an example of a case that is not matched:\n",
      "((Int _, Bool _)|(Bool _, _))\n",
      "File \"[2]\", lines 9-10, characters 4-17:\n",
      " 9 | ....let Int i1, Int i2 = eval e1, eval e2 in\n",
      "10 |     Int (i1 * i2)\n",
      "Warning 8: this pattern-matching is not exhaustive.\n",
      "Here is an example of a case that is not matched:\n",
      "((Int _, Bool _)|(Bool _, _))\n",
      "File \"[2]\", lines 12-13, characters 4-34:\n",
      "12 | ....let Bool b = eval p in\n",
      "13 |     if b then eval e1 else eval e2..\n",
      "Warning 8: this pattern-matching is not exhaustive.\n",
      "Here is an example of a case that is not matched:\n",
      "Int _\n"
     ]
    },
    {
     "data": {
      "text/plain": [
       "val eval : expr -> value = <fun>\n"
      ]
     },
     "execution_count": 2,
     "metadata": {},
     "output_type": "execute_result"
    }
   ],
   "source": [
    "let rec eval : expr -> value =\n",
    "  fun e -> match e with\n",
    "  | Val (Int i) -> Int i\n",
    "  | Val (Bool i) -> Bool i\n",
    "  | Plus (e1, e2) ->\n",
    "    let Int i1, Int i2 = eval e1, eval e2 in\n",
    "    Int (i1 + i2)\n",
    "  | Mult (e1, e2) ->\n",
    "    let Int i1, Int i2 = eval e1, eval e2 in\n",
    "    Int (i1 * i2)\n",
    "  | Ite (p,e1,e2) ->\n",
    "    let Bool b = eval p in\n",
    "    if b then eval e1 else eval e2  "
   ]
  },
  {
   "cell_type": "markdown",
   "metadata": {
    "slideshow": {
     "slide_type": "slide"
    }
   },
   "source": [
    "## Evaluator for the simple language\n",
    "\n",
    "* The compiler warns that programs such as `true + 10` is not handled.\n",
    "  + Our evaluator gets **stuck** when it encouters such an expression."
   ]
  },
  {
   "cell_type": "code",
   "execution_count": 3,
   "metadata": {},
   "outputs": [
    {
     "ename": "error",
     "evalue": "runtime_error",
     "output_type": "error",
     "traceback": [
      "\u001b[31mException: Match_failure (\"[2]\", 6, 4).\nCalled from file \"toplevel/toploop.ml\", line 212, characters 17-27\n\u001b[0m"
     ]
    }
   ],
   "source": [
    "eval @@ Plus (Val (Bool true), Val (Int 10))"
   ]
  },
  {
   "cell_type": "markdown",
   "metadata": {
    "slideshow": {
     "slide_type": "-"
    }
   },
   "source": [
    "* We need **Types**\n",
    "  + Well-typed programs do not get stuck!"
   ]
  },
  {
   "cell_type": "markdown",
   "metadata": {
    "slideshow": {
     "slide_type": "slide"
    }
   },
   "source": [
    "## Phantom types\n",
    "\n",
    "* We can add types to our values using a technique called **phantom types**"
   ]
  },
  {
   "cell_type": "code",
   "execution_count": 5,
   "metadata": {},
   "outputs": [
    {
     "data": {
      "text/plain": [
       "type 'a value = Int of int | Bool of bool\n"
      ]
     },
     "execution_count": 5,
     "metadata": {},
     "output_type": "execute_result"
    }
   ],
   "source": [
    "type 'a value =\n",
    "  | Int of int\n",
    "  | Bool of bool"
   ]
  },
  {
   "cell_type": "markdown",
   "metadata": {},
   "source": [
    "* Observe that `'a` only appears on the LHS.\n",
    "  + This `'a` is called a phantom type variable.\n",
    "* What is this useful for?"
   ]
  },
  {
   "cell_type": "markdown",
   "metadata": {
    "slideshow": {
     "slide_type": "slide"
    }
   },
   "source": [
    "## Typed expression language\n",
    "\n",
    "We can add types to our expression language now using phantom type"
   ]
  },
  {
   "cell_type": "code",
   "execution_count": 6,
   "metadata": {},
   "outputs": [
    {
     "data": {
      "text/plain": [
       "type 'a expr =\n",
       "    Val of 'a value\n",
       "  | Plus of int expr * int expr\n",
       "  | Mult of int expr * int expr\n",
       "  | Ite of bool expr * 'a expr * 'a expr\n"
      ]
     },
     "execution_count": 6,
     "metadata": {},
     "output_type": "execute_result"
    }
   ],
   "source": [
    "type 'a expr =\n",
    "  | Val of 'a value\n",
    "  | Plus of int expr * int expr\n",
    "  | Mult of int expr * int expr\n",
    "  | Ite of bool expr * 'a expr * 'a expr"
   ]
  },
  {
   "cell_type": "markdown",
   "metadata": {
    "slideshow": {
     "slide_type": "slide"
    }
   },
   "source": [
    "## Typed expression language\n",
    "\n",
    "Assign concerte type to the phantom type variable `'a`."
   ]
  },
  {
   "cell_type": "code",
   "execution_count": 11,
   "metadata": {},
   "outputs": [
    {
     "data": {
      "text/plain": [
       "val mk_int : int -> int expr = <fun>\n"
      ]
     },
     "execution_count": 11,
     "metadata": {},
     "output_type": "execute_result"
    },
    {
     "data": {
      "text/plain": [
       "val mk_bool : bool -> bool expr = <fun>\n"
      ]
     },
     "execution_count": 11,
     "metadata": {},
     "output_type": "execute_result"
    },
    {
     "data": {
      "text/plain": [
       "val plus : int expr -> int expr -> int expr = <fun>\n"
      ]
     },
     "execution_count": 11,
     "metadata": {},
     "output_type": "execute_result"
    },
    {
     "data": {
      "text/plain": [
       "val mult : int expr -> int expr -> int expr = <fun>\n"
      ]
     },
     "execution_count": 11,
     "metadata": {},
     "output_type": "execute_result"
    }
   ],
   "source": [
    "let mk_int i : int expr = Val (Int i)\n",
    "let mk_bool b : bool expr = Val (Bool b)\n",
    "let plus e1 e2 : int expr = Plus (e1, e2)\n",
    "let mult e1 e2 : int expr = Mult (e1, e2)"
   ]
  },
  {
   "cell_type": "markdown",
   "metadata": {
    "slideshow": {
     "slide_type": "slide"
    }
   },
   "source": [
    "## Quiz: What types are inferred without type annotations?"
   ]
  },
  {
   "cell_type": "code",
   "execution_count": 12,
   "metadata": {},
   "outputs": [
    {
     "data": {
      "text/plain": [
       "val mk_int' : int -> 'a expr = <fun>\n"
      ]
     },
     "execution_count": 12,
     "metadata": {},
     "output_type": "execute_result"
    },
    {
     "data": {
      "text/plain": [
       "val mk_bool' : bool -> 'a expr = <fun>\n"
      ]
     },
     "execution_count": 12,
     "metadata": {},
     "output_type": "execute_result"
    },
    {
     "data": {
      "text/plain": [
       "val plus' : int expr -> int expr -> 'a expr = <fun>\n"
      ]
     },
     "execution_count": 12,
     "metadata": {},
     "output_type": "execute_result"
    },
    {
     "data": {
      "text/plain": [
       "val mult' : int expr -> int expr -> 'a expr = <fun>\n"
      ]
     },
     "execution_count": 12,
     "metadata": {},
     "output_type": "execute_result"
    }
   ],
   "source": [
    "let mk_int' i = Val (Int i)\n",
    "let mk_bool' b  = Val (Bool b)\n",
    "let plus' e1 e2 = Plus (e1, e2)\n",
    "let mult' e1 e2 = Mult (e1, e2)"
   ]
  },
  {
   "cell_type": "markdown",
   "metadata": {
    "slideshow": {
     "slide_type": "slide"
    }
   },
   "source": [
    "## Benefit of phantom types"
   ]
  },
  {
   "cell_type": "code",
   "execution_count": 13,
   "metadata": {},
   "outputs": [
    {
     "data": {
      "text/plain": [
       "val i : 'a expr = Val (Int 0)\n"
      ]
     },
     "execution_count": 13,
     "metadata": {},
     "output_type": "execute_result"
    },
    {
     "data": {
      "text/plain": [
       "val i' : int expr = Val (Int 0)\n"
      ]
     },
     "execution_count": 13,
     "metadata": {},
     "output_type": "execute_result"
    },
    {
     "data": {
      "text/plain": [
       "val b : 'a expr = Val (Bool true)\n"
      ]
     },
     "execution_count": 13,
     "metadata": {},
     "output_type": "execute_result"
    },
    {
     "data": {
      "text/plain": [
       "val b' : bool expr = Val (Bool true)\n"
      ]
     },
     "execution_count": 13,
     "metadata": {},
     "output_type": "execute_result"
    },
    {
     "data": {
      "text/plain": [
       "val p : 'a expr = Plus (Val (Int 0), Val (Int 0))\n"
      ]
     },
     "execution_count": 13,
     "metadata": {},
     "output_type": "execute_result"
    },
    {
     "data": {
      "text/plain": [
       "val p' : int expr = Plus (Val (Int 0), Val (Int 0))\n"
      ]
     },
     "execution_count": 13,
     "metadata": {},
     "output_type": "execute_result"
    }
   ],
   "source": [
    "let i = Val (Int 0);;\n",
    "let i' = mk_int 0;;\n",
    "\n",
    "let b = Val (Bool true);;\n",
    "let b' = mk_bool true;;\n",
    "\n",
    "let p = Plus (i,i);;\n",
    "let p' = plus i i;;"
   ]
  },
  {
   "cell_type": "markdown",
   "metadata": {
    "slideshow": {
     "slide_type": "slide"
    }
   },
   "source": [
    "## Benefit of phantom types\n",
    "\n",
    "We no longer allow ill-typed expression if we use the helper functions."
   ]
  },
  {
   "cell_type": "code",
   "execution_count": 14,
   "metadata": {},
   "outputs": [
    {
     "ename": "error",
     "evalue": "compile_error",
     "output_type": "error",
     "traceback": [
      "File \"[14]\", line 1, characters 5-19:\n1 | plus (mk_bool true) (mk_int 10) \n         ^^^^^^^^^^^^^^\nError: This expression has type bool expr\n       but an expression was expected of type int expr\n       Type bool is not compatible with type int \n"
     ]
    }
   ],
   "source": [
    "plus (mk_bool true) (mk_int 10) "
   ]
  },
  {
   "cell_type": "markdown",
   "metadata": {
    "slideshow": {
     "slide_type": "slide"
    }
   },
   "source": [
    "## Typed evaluator\n",
    "\n",
    "We can write an evaluator for this language now.\n",
    "\n",
    "Let's use the same evaluator as the earlier one."
   ]
  },
  {
   "cell_type": "code",
   "execution_count": 15,
   "metadata": {
    "scrolled": true
   },
   "outputs": [
    {
     "name": "stderr",
     "output_type": "stream",
     "text": [
      "File \"[15]\", lines 6-7, characters 4-17:\n",
      "6 | ....let Int i1, Int i2 = eval e1, eval e2 in\n",
      "7 |     Int (i1 + i2)\n",
      "Warning 8: this pattern-matching is not exhaustive.\n",
      "Here is an example of a case that is not matched:\n",
      "((Int _, Bool _)|(Bool _, _))\n"
     ]
    },
    {
     "ename": "error",
     "evalue": "compile_error",
     "output_type": "error",
     "traceback": [
      "File \"[15]\", line 12, characters 22-23:\n12 |     let Bool b = eval p in\n                           ^\nError: This expression has type bool expr\n       but an expression was expected of type int expr\n       Type bool is not compatible with type int \n"
     ]
    },
    {
     "name": "stderr",
     "output_type": "stream",
     "text": [
      "File \"[15]\", lines 9-10, characters 4-17:\n",
      " 9 | ....let Int i1, Int i2 = eval e1, eval e2 in\n",
      "10 |     Int (i1 * i2)\n",
      "Warning 8: this pattern-matching is not exhaustive.\n",
      "Here is an example of a case that is not matched:\n",
      "((Int _, Bool _)|(Bool _, _))\n"
     ]
    }
   ],
   "source": [
    "let rec eval : 'a expr -> 'a value = \n",
    "  fun e -> match e with\n",
    "  | Val (Int i) -> Int i\n",
    "  | Val (Bool i) -> Bool i\n",
    "  | Plus (e1, e2) ->\n",
    "    let Int i1, Int i2 = eval e1, eval e2 in\n",
    "    Int (i1 + i2)\n",
    "  | Mult (e1, e2) ->\n",
    "    let Int i1, Int i2 = eval e1, eval e2 in\n",
    "    Int (i1 * i2)\n",
    "  | Ite (p,e1,e2) ->\n",
    "    let Bool b = eval p in\n",
    "    if b then eval e1 else eval e2"
   ]
  },
  {
   "cell_type": "markdown",
   "metadata": {
    "slideshow": {
     "slide_type": "slide"
    }
   },
   "source": [
    "## Typed evaluator\n",
    "\n",
    "* We see a $\\color{red}{\\text{type error}}$.\n",
    "* OCaml by default expects the function expression at the recursive call position to have the same type as the outer function.\n",
    "* This need not be the case if the recursive function call is at different types.\n",
    "  + `eval (p : int expr)` and `eval (p : bool expr)`."
   ]
  },
  {
   "cell_type": "markdown",
   "metadata": {
    "slideshow": {
     "slide_type": "slide"
    }
   },
   "source": [
    "## Polymorphic recursion.\n",
    "\n",
    "* In order to allow this, OCaml supports polymorphic recursion (aka Milner-Mycroft typeability)\n",
    "  + Robin Milner co-invented type infererence + polymorphism that we use in OCaml.\n",
    "  + Alan Mycroft was my mentor at Cambridge :-) "
   ]
  },
  {
   "cell_type": "markdown",
   "metadata": {
    "slideshow": {
     "slide_type": "slide"
    }
   },
   "source": [
    "## Fixing the interpreter with polymorphic recursion\n",
    "\n",
    "`type a` is known as **locally abstract type**."
   ]
  },
  {
   "cell_type": "code",
   "execution_count": null,
   "metadata": {},
   "outputs": [],
   "source": [
    "let rec eval : type a. a expr -> a value = \n",
    "  fun e -> match e with\n",
    "  | Val (Int i) -> Int i\n",
    "  | Val (Bool i) -> Bool i\n",
    "  | Plus (e1, e2) ->\n",
    "    let Int i1, Int i2 = eval e1, eval e2 in\n",
    "    Int (i1 + i2)\n",
    "  | Mult (e1, e2) ->\n",
    "    let Int i1, Int i2 = eval e1, eval e2 in\n",
    "    Int (i1 * i2)\n",
    "  | Ite (p,e1,e2) ->\n",
    "    let Bool b = eval p in\n",
    "    if b then eval e1 else eval e2"
   ]
  },
  {
   "cell_type": "markdown",
   "metadata": {
    "slideshow": {
     "slide_type": "slide"
    }
   },
   "source": [
    "## Why not use polymorphic recursion everywhere?\n",
    "\n",
    "* Type inference is undecidable with polymorphic recursion\n",
    "  + Need explicit type annotation for polymorphically recursive functions"
   ]
  },
  {
   "cell_type": "markdown",
   "metadata": {
    "slideshow": {
     "slide_type": "slide"
    }
   },
   "source": [
    "## Errors gone, but warning remains\n",
    "\n",
    "* Compiler still warns us that there are unhandled cases in pattern matches\n",
    "* But haven't we added types to the expression language?\n",
    "* Observe that `mk_int i = Val (Int i)` is just convention.\n",
    "  + You can still write ill-typed expression by directly using the constructors."
   ]
  },
  {
   "cell_type": "markdown",
   "metadata": {
    "slideshow": {
     "slide_type": "slide"
    }
   },
   "source": [
    "## Errors gone, but warning remains"
   ]
  },
  {
   "cell_type": "code",
   "execution_count": null,
   "metadata": {
    "slideshow": {
     "slide_type": "-"
    }
   },
   "outputs": [],
   "source": [
    "eval @@ Plus (Val (Bool true), Val (Int 10))"
   ]
  },
  {
   "cell_type": "markdown",
   "metadata": {},
   "source": [
    "* Here, `Bool true` is inferred to have the type `int value`.\n",
    "  + Need a way to inform the compiler that `Bool true` has type `bool value`."
   ]
  },
  {
   "cell_type": "markdown",
   "metadata": {
    "slideshow": {
     "slide_type": "slide"
    }
   },
   "source": [
    "## Generalized Algebraic Data Types\n",
    "\n",
    "GADTs allow us to **refine** the return type of the data constructor. "
   ]
  },
  {
   "cell_type": "code",
   "execution_count": null,
   "metadata": {},
   "outputs": [],
   "source": [
    "type 'a value =\n",
    "  | Int : int -> int value\n",
    "  | Bool : bool -> bool value\n",
    "  \n",
    "type 'a expr =\n",
    "  | Val : 'a value -> 'a expr\n",
    "  | Plus : int expr * int expr -> int expr\n",
    "  | Mult : int expr * int expr -> int expr\n",
    "  | Ite : bool expr * 'a expr * 'a expr -> 'a expr"
   ]
  },
  {
   "cell_type": "markdown",
   "metadata": {
    "slideshow": {
     "slide_type": "slide"
    }
   },
   "source": [
    "## Evaluator remains the same\n",
    "\n",
    "Observe that the warnings are also gone!"
   ]
  },
  {
   "cell_type": "code",
   "execution_count": null,
   "metadata": {},
   "outputs": [],
   "source": [
    "let rec eval : type a. a expr -> a value = \n",
    "  fun e -> match e with\n",
    "  | Val (Int i) -> Int i\n",
    "  | Val (Bool i) -> Bool i\n",
    "  | Plus (e1, e2) ->\n",
    "    let Int i1, Int i2 = eval e1, eval e2 in\n",
    "    Int (i1 + i2)\n",
    "  | Mult (e1, e2) ->\n",
    "    let Int i1, Int i2 = eval e1, eval e2 in\n",
    "    Int (i1 * i2)\n",
    "  | Ite (p,e1,e2) ->\n",
    "    let Bool b = eval p in\n",
    "    if b then eval e1 else eval e2"
   ]
  },
  {
   "cell_type": "markdown",
   "metadata": {
    "slideshow": {
     "slide_type": "slide"
    }
   },
   "source": [
    "## Absurd expressions are ill-typed"
   ]
  },
  {
   "cell_type": "code",
   "execution_count": null,
   "metadata": {
    "scrolled": true,
    "slideshow": {
     "slide_type": "-"
    }
   },
   "outputs": [],
   "source": [
    "eval @@ Plus (Val (Bool true), Val (Int 10))"
   ]
  },
  {
   "cell_type": "markdown",
   "metadata": {
    "slideshow": {
     "slide_type": "slide"
    }
   },
   "source": [
    "## Absurd types\n",
    "\n",
    "GADTs don't prevent you from instantiating **absurd** types. Consider\n",
    "\n",
    "```ocaml\n",
    "type 'a value =\n",
    "  | Int : int -> int value\n",
    "  | Bool : bool -> bool value\n",
    "```"
   ]
  },
  {
   "cell_type": "code",
   "execution_count": null,
   "metadata": {},
   "outputs": [],
   "source": [
    "type t = string value"
   ]
  },
  {
   "cell_type": "markdown",
   "metadata": {},
   "source": [
    "* There is no term with type `string value`\n",
    "  + Recall from simply typed lambda calculus that such types are known as **uninhabited types**.\n",
    "* We will ignore such types."
   ]
  },
  {
   "cell_type": "markdown",
   "metadata": {
    "slideshow": {
     "slide_type": "slide"
    }
   },
   "source": [
    "## GADTs are very powerful!\n",
    "\n",
    "* Allows **refining return types** and introduce **existential types** (to be discussed).\n",
    "* Some uses\n",
    "  + Typed domain specific languages\n",
    "    * The example that we just saw...\n",
    "  + (Lightweight) dependently typed programming\n",
    "    * Enforcing **shape properties** of data structures\n",
    "  + Generic programming\n",
    "    * Implementing functions like `map` and `fold` operate on the shape of the data **once and for all**!"
   ]
  },
  {
   "cell_type": "markdown",
   "metadata": {
    "slideshow": {
     "slide_type": "slide"
    }
   },
   "source": [
    "## GADT examples\n",
    "\n",
    "* Units of measure\n",
    "* Abstract (existential) types - encoding first-class modules\n",
    "* Generic programming - encoding tuples\n",
    "* Shape properties - length-indexed lists"
   ]
  },
  {
   "cell_type": "markdown",
   "metadata": {
    "slideshow": {
     "slide_type": "slide"
    }
   },
   "source": [
    "## Units of measure\n",
    "\n",
    "* In 1999, $125 million [mars climate orbiter](https://en.wikipedia.org/wiki/Mars_Climate_Orbiter) was lost due to units of measurement error\n",
    "  + Lockheed Martin used Imperial and NASA used Metric\n",
    "  + Use GADTs to avoid such errors, but still host both units of measure in the same program"
   ]
  },
  {
   "cell_type": "markdown",
   "metadata": {
    "slideshow": {
     "slide_type": "slide"
    }
   },
   "source": [
    "## Units of measure"
   ]
  },
  {
   "cell_type": "code",
   "execution_count": null,
   "metadata": {},
   "outputs": [],
   "source": [
    "type kelvin\n",
    "type celcius\n",
    "type farenheit\n",
    "\n",
    "type _ temp = \n",
    "  | Kelvin : float -> kelvin temp\n",
    "  | Celcius : float -> celcius temp\n",
    "  | Farenheit : float -> farenheit temp "
   ]
  },
  {
   "cell_type": "markdown",
   "metadata": {
    "slideshow": {
     "slide_type": "slide"
    }
   },
   "source": [
    "## Units of measure"
   ]
  },
  {
   "cell_type": "code",
   "execution_count": null,
   "metadata": {},
   "outputs": [],
   "source": [
    "let add_temp : type a. a temp -> a temp -> a temp =\n",
    "  fun a b -> match a,b with\n",
    "  | Kelvin a, Kelvin b -> Kelvin (a+.b)\n",
    "  | Celcius a, Celcius b -> Celcius (a+.b)\n",
    "  | Farenheit a, Farenheit b -> Farenheit (a+.b)"
   ]
  },
  {
   "cell_type": "code",
   "execution_count": null,
   "metadata": {},
   "outputs": [],
   "source": [
    "add_temp (Kelvin 20.23) (Kelvin 30.5)"
   ]
  },
  {
   "cell_type": "code",
   "execution_count": null,
   "metadata": {},
   "outputs": [],
   "source": [
    "add_temp (Kelvin 20.23) (Celcius 12.3)"
   ]
  },
  {
   "cell_type": "markdown",
   "metadata": {
    "slideshow": {
     "slide_type": "slide"
    }
   },
   "source": [
    "## Abstract types \n",
    "\n",
    "* GADTs also introduce abstract types (aka **existential type**)."
   ]
  },
  {
   "cell_type": "code",
   "execution_count": null,
   "metadata": {},
   "outputs": [],
   "source": [
    "type t = Pack : 'a -> t"
   ]
  },
  {
   "cell_type": "markdown",
   "metadata": {},
   "source": [
    "* Observe that the `'a` does not appear on the RHS.\n",
    "  + `'a` is the **existential type**.\n",
    "  + Given a value `Pack x` of type `t`, we know nothing about the type of `x` except that such a type exists. \n",
    "* Compare with `Some x` which has type `'a t`, where `x` is of type `'a`."
   ]
  },
  {
   "cell_type": "markdown",
   "metadata": {
    "slideshow": {
     "slide_type": "slide"
    }
   },
   "source": [
    "## Abstract List\n",
    "\n",
    "With GADTs you can create list that contains values of different types."
   ]
  },
  {
   "cell_type": "code",
   "execution_count": null,
   "metadata": {},
   "outputs": [],
   "source": [
    "[Pack 10; Pack \"Hello\"; Pack true]"
   ]
  },
  {
   "cell_type": "markdown",
   "metadata": {},
   "source": [
    "* This particular list isn't useful\n",
    "  + Given `Pack v`, we only know that `v` has some type `'a`.\n",
    "  + We do not have any useful operations on values of type `'a`; it is too polymorphic. "
   ]
  },
  {
   "cell_type": "markdown",
   "metadata": {
    "slideshow": {
     "slide_type": "slide"
    }
   },
   "source": [
    "## Existential list : showable\n",
    "\n",
    "Here is a more useful heterogeneous list: List of printable values."
   ]
  },
  {
   "cell_type": "code",
   "execution_count": null,
   "metadata": {},
   "outputs": [],
   "source": [
    "type showable = Showable : 'a * ('a -> string) -> showable"
   ]
  },
  {
   "cell_type": "code",
   "execution_count": null,
   "metadata": {},
   "outputs": [],
   "source": [
    "let l = [Showable (10, string_of_int); Showable (\"Hello\", fun x -> x); \n",
    "         Showable (3.14, string_of_float)]"
   ]
  },
  {
   "cell_type": "code",
   "execution_count": null,
   "metadata": {
    "scrolled": true
   },
   "outputs": [],
   "source": [
    "List.map (fun (Showable (v,show)) -> show v) l"
   ]
  },
  {
   "cell_type": "markdown",
   "metadata": {
    "slideshow": {
     "slide_type": "slide"
    }
   },
   "source": [
    "## GADTs and Modules\n",
    "\n",
    "The type `type showable = Showable : 'a * ('a -> string) -> showable` is equivalent to\n",
    "\n",
    "```ocaml\n",
    "module type Showable : sig\n",
    "  type t\n",
    "  val value : t\n",
    "  val show : t -> string\n",
    "end\n",
    "```"
   ]
  },
  {
   "cell_type": "markdown",
   "metadata": {
    "slideshow": {
     "slide_type": "slide"
    }
   },
   "source": [
    "## GADTs and Modules\n",
    "\n",
    "And the value `Showable (10, string_of_int)` is equivalent to\n",
    "\n",
    "\n",
    "```ocaml\n",
    "module IntShowable : Showable = struct \n",
    "  type t = int\n",
    "  let value = 10\n",
    "  let show = string_of_int\n",
    "end\n",
    "```\n",
    "\n",
    "Both GADTs and Modules introduce existentials."
   ]
  },
  {
   "cell_type": "markdown",
   "metadata": {
    "slideshow": {
     "slide_type": "slide"
    }
   },
   "source": [
    "## First-class modules\n",
    "\n",
    "* Unlike modules, the GADTs are values.\n",
    "* `[Showable (10, string_of_int)]` is a list of showable values.\n",
    "  + Can't do this with the module language we've studied.\n",
    "  + we will ignore the fact that OCaml has first-class modules for now."
   ]
  },
  {
   "cell_type": "markdown",
   "metadata": {
    "slideshow": {
     "slide_type": "slide"
    }
   },
   "source": [
    "## Encoding Tuples\n",
    "\n",
    "We can encode OCaml-like tuples using GADTs."
   ]
  },
  {
   "cell_type": "code",
   "execution_count": null,
   "metadata": {},
   "outputs": [],
   "source": [
    "type u = | (* uninhabited type *)\n",
    "\n",
    "type _ hlist =\n",
    "  | Nil : u hlist\n",
    "  | Cons : 'a * 'b hlist -> ('a * 'b) hlist"
   ]
  },
  {
   "cell_type": "code",
   "execution_count": null,
   "metadata": {},
   "outputs": [],
   "source": [
    "let l = Cons (10, Cons (false, Cons (10.4, Nil)))"
   ]
  },
  {
   "cell_type": "markdown",
   "metadata": {
    "slideshow": {
     "slide_type": "slide"
    }
   },
   "source": [
    "## Encoding Pairs : Accessor Functions"
   ]
  },
  {
   "cell_type": "code",
   "execution_count": null,
   "metadata": {},
   "outputs": [],
   "source": [
    "let fst : ('a * _) hlist -> 'a = fun (Cons (x,_)) -> x\n",
    "let snd : (_ * ('a * _)) hlist -> 'a = fun (Cons (_,Cons(x,_))) -> x\n",
    "let trd : (_ * (_ * ('a * _))) hlist -> 'a = fun (Cons(_,Cons (_,Cons(x,_)))) -> x"
   ]
  },
  {
   "cell_type": "markdown",
   "metadata": {
    "slideshow": {
     "slide_type": "slide"
    }
   },
   "source": [
    "## Encoding Pairs : Accessor Functions"
   ]
  },
  {
   "cell_type": "code",
   "execution_count": null,
   "metadata": {},
   "outputs": [],
   "source": [
    "trd (Cons (10, Cons (true, Cons(10.5, Nil))))"
   ]
  },
  {
   "cell_type": "code",
   "execution_count": null,
   "metadata": {},
   "outputs": [],
   "source": [
    "trd (Cons (true, Cons(10.5, Nil)))"
   ]
  },
  {
   "cell_type": "markdown",
   "metadata": {
    "slideshow": {
     "slide_type": "slide"
    }
   },
   "source": [
    "## Length-indexed lists\n",
    "\n",
    "Some of the list function in the OCaml list library as quite unsatisfying."
   ]
  },
  {
   "cell_type": "code",
   "execution_count": null,
   "metadata": {
    "scrolled": true
   },
   "outputs": [],
   "source": [
    "List.hd []"
   ]
  },
  {
   "cell_type": "code",
   "execution_count": null,
   "metadata": {
    "scrolled": false
   },
   "outputs": [],
   "source": [
    "List.tl []"
   ]
  },
  {
   "cell_type": "markdown",
   "metadata": {
    "slideshow": {
     "slide_type": "slide"
    }
   },
   "source": [
    "## Length indexed lists\n",
    "\n",
    "* Let's implement our own list type which will statically catch these errors.\n",
    "* The idea is to encode the **length** of the list in the **type** of the list.\n",
    "  + Use our encoding of church numerals from lambda calculus."
   ]
  },
  {
   "cell_type": "markdown",
   "metadata": {
    "slideshow": {
     "slide_type": "slide"
    }
   },
   "source": [
    "## Church numerals in OCaml types"
   ]
  },
  {
   "cell_type": "code",
   "execution_count": null,
   "metadata": {},
   "outputs": [],
   "source": [
    "type z = Z\n",
    "type 'n s = S : 'n -> 'n s"
   ]
  },
  {
   "cell_type": "code",
   "execution_count": null,
   "metadata": {},
   "outputs": [],
   "source": [
    "S (S Z)"
   ]
  },
  {
   "cell_type": "markdown",
   "metadata": {
    "slideshow": {
     "slide_type": "slide"
    }
   },
   "source": [
    "## Length indexed list"
   ]
  },
  {
   "cell_type": "code",
   "execution_count": null,
   "metadata": {},
   "outputs": [],
   "source": [
    "type (_,_) list =\n",
    "  | Nil  : ('a, z ) list\n",
    "  | Cons : 'a * ('a,'n) list -> ('a, 'n s) list"
   ]
  },
  {
   "cell_type": "code",
   "execution_count": null,
   "metadata": {
    "slideshow": {
     "slide_type": "fragment"
    }
   },
   "outputs": [],
   "source": [
    "Nil;;\n",
    "Cons(0,Nil);;\n",
    "Cons(0,Cons(1,Nil));;"
   ]
  },
  {
   "cell_type": "markdown",
   "metadata": {
    "slideshow": {
     "slide_type": "slide"
    }
   },
   "source": [
    "## Safe `hd` and `tl`\n",
    "\n",
    "Define the function `hd` and `tl` such that they can only be applied to non-empty lists."
   ]
  },
  {
   "cell_type": "code",
   "execution_count": null,
   "metadata": {
    "slideshow": {
     "slide_type": "fragment"
    }
   },
   "outputs": [],
   "source": [
    "let hd (l : ('a,'n s) list) : 'a = \n",
    "  let Cons (v,_) = l in\n",
    "  v"
   ]
  },
  {
   "cell_type": "code",
   "execution_count": null,
   "metadata": {},
   "outputs": [],
   "source": [
    "hd (Cons (1, Nil))"
   ]
  },
  {
   "cell_type": "code",
   "execution_count": null,
   "metadata": {},
   "outputs": [],
   "source": [
    "hd Nil"
   ]
  },
  {
   "cell_type": "markdown",
   "metadata": {
    "slideshow": {
     "slide_type": "slide"
    }
   },
   "source": [
    "## Safe `hd` and `tl`\n",
    "\n",
    "Define the function `hd` and `tl` such that they can only be applied to non-empty lists."
   ]
  },
  {
   "cell_type": "code",
   "execution_count": null,
   "metadata": {},
   "outputs": [],
   "source": [
    "let hd (l : ('a,'n s) list) : 'a = \n",
    "  let Cons (x,_) = l in\n",
    "  x"
   ]
  },
  {
   "cell_type": "markdown",
   "metadata": {
    "slideshow": {
     "slide_type": "-"
    }
   },
   "source": [
    "* Observe that OCaml does not complain about `Nil` case not handled.\n",
    "  + Does not apply since `l` is non-empty!\n",
    "  + GADTs allow the compiler to refute cases statically\n",
    "    * Generate more efficient code!"
   ]
  },
  {
   "cell_type": "markdown",
   "metadata": {
    "slideshow": {
     "slide_type": "slide"
    }
   },
   "source": [
    "## Safe `hd` and `tl`"
   ]
  },
  {
   "cell_type": "code",
   "execution_count": null,
   "metadata": {},
   "outputs": [],
   "source": [
    "let tl (l : ('a,'n s) list) : ('a, 'n) list = \n",
    "  let Cons (_,xs) = l in\n",
    "  xs"
   ]
  },
  {
   "cell_type": "code",
   "execution_count": null,
   "metadata": {},
   "outputs": [],
   "source": [
    "tl (Cons (0, Cons(1,Nil)));;\n",
    "tl (Cons (0, Nil));;"
   ]
  },
  {
   "cell_type": "markdown",
   "metadata": {
    "slideshow": {
     "slide_type": "slide"
    }
   },
   "source": [
    "## List map\n",
    "\n",
    "`map` is length preserving"
   ]
  },
  {
   "cell_type": "code",
   "execution_count": null,
   "metadata": {},
   "outputs": [],
   "source": [
    "let rec map : type n. ('a -> 'b) -> ('a, n) list -> ('b, n) list =\n",
    "  fun f l ->\n",
    "    match l with\n",
    "    | Nil -> Nil\n",
    "    | Cons (x,xs) -> Cons(f x, map f xs)"
   ]
  },
  {
   "cell_type": "markdown",
   "metadata": {
    "slideshow": {
     "slide_type": "slide"
    }
   },
   "source": [
    "## List.rev\n",
    "\n",
    "Tricky to implement tail recurive list like:\n",
    "\n",
    "```ocaml\n",
    "let rec rev l acc =\n",
    "  match l with\n",
    "  | Nil -> acc\n",
    "  | Cons(x,xs) -> rev xs (Cons (x,acc))\n",
    "```\n",
    "\n",
    "why?"
   ]
  },
  {
   "cell_type": "markdown",
   "metadata": {
    "slideshow": {
     "slide_type": "fragment"
    }
   },
   "source": [
    "The type of this function is \n",
    "\n",
    "```ocaml\n",
    "('a,'n) list -> ('a,'m) list -> ('a, 'm + 'n) list\n",
    "```\n",
    "\n",
    "We don't have type-level arithmetic"
   ]
  },
  {
   "cell_type": "markdown",
   "metadata": {
    "slideshow": {
     "slide_type": "slide"
    }
   },
   "source": [
    "## List.rev \n",
    "\n",
    "Here is another attempt:"
   ]
  },
  {
   "cell_type": "code",
   "execution_count": null,
   "metadata": {},
   "outputs": [],
   "source": [
    "let rec app1 : type n. ('a, n) list -> 'a -> ('a, n s) list =\n",
    "  fun l v ->\n",
    "    match l with\n",
    "    | Nil -> Cons (v, Nil)\n",
    "    | Cons(x,xs) -> Cons (x, app1 xs v)\n",
    "    \n",
    "let rec rev : type n. ('a, n) list -> ('a, n) list =\n",
    "  fun l ->\n",
    "    match l with\n",
    "    | Nil -> Nil\n",
    "    | Cons(x,xs) -> app1 (rev xs) x"
   ]
  },
  {
   "cell_type": "code",
   "execution_count": null,
   "metadata": {},
   "outputs": [],
   "source": [
    "rev (Cons (0, Cons (1, Cons (2, Nil))))"
   ]
  },
  {
   "cell_type": "markdown",
   "metadata": {
    "slideshow": {
     "slide_type": "slide"
    }
   },
   "source": [
    "## Type level addition\n",
    "\n",
    "* We observed that tail recursive list function requires type level addition on church numerals\n",
    "* OCaml doesn't support type level functions natively\n",
    "  + But we can construct **proofs** for type level functions."
   ]
  },
  {
   "cell_type": "markdown",
   "metadata": {
    "slideshow": {
     "slide_type": "slide"
    }
   },
   "source": [
    "## Type level addition"
   ]
  },
  {
   "cell_type": "code",
   "execution_count": null,
   "metadata": {},
   "outputs": [],
   "source": [
    "type (_,_,_) plus = \n",
    "  | PlusZero : (z,'n,'n) plus\n",
    "  | PlusShift  : ('a, 'b s, 'c s) plus -> ('a s, 'b, 'c s) plus"
   ]
  },
  {
   "cell_type": "markdown",
   "metadata": {},
   "source": [
    "* `('a, 'b, 'c) plus` $\\equiv$ `'c = 'a + 'b` where `'a, 'b, 'c` are type level church numerals.\n",
    "* `PlusZero` and `PlusOne` are theorems on numbers.\n",
    "  + $0 + n = n$\n",
    "  + $a + (b + 1) = c+1 \\implies (a + 1) + b = c + 1$"
   ]
  },
  {
   "cell_type": "markdown",
   "metadata": {
    "slideshow": {
     "slide_type": "slide"
    }
   },
   "source": [
    "## Type level addition"
   ]
  },
  {
   "cell_type": "code",
   "execution_count": null,
   "metadata": {},
   "outputs": [],
   "source": [
    "type (_,_,_) plus = \n",
    "  | PlusZero : (z,'n,'n) plus\n",
    "  | PlusShift  : ('a, 'b s, 'c s) plus -> ('a s, 'b, 'c s) plus"
   ]
  },
  {
   "cell_type": "markdown",
   "metadata": {},
   "source": [
    "* From a Curry-Howard perspective, we can view a value of type `(a,b,c) plus` as a proof of the proposition that `a + b = c`\n",
    "* Looked at this way, `plus` and other GADTs are a convenient way of programming with proofs as first-class objects."
   ]
  },
  {
   "cell_type": "markdown",
   "metadata": {
    "slideshow": {
     "slide_type": "slide"
    }
   },
   "source": [
    "## Tail recursive reverse"
   ]
  },
  {
   "cell_type": "code",
   "execution_count": null,
   "metadata": {},
   "outputs": [],
   "source": [
    "let rec rev : type m n o. (m,n,o) plus -> ('a, m) list -> ('a, n) list -> ('a, o) list =\n",
    "  fun p l acc ->\n",
    "    match p, l with\n",
    "    | PlusZero, Nil -> acc\n",
    "    | PlusShift p', Cons(x,xs) ->  rev p' xs (Cons(x,acc))"
   ]
  },
  {
   "cell_type": "markdown",
   "metadata": {
    "slideshow": {
     "slide_type": "slide"
    }
   },
   "source": [
    "## Tail recursive reverse"
   ]
  },
  {
   "cell_type": "code",
   "execution_count": null,
   "metadata": {},
   "outputs": [],
   "source": [
    "let proof = PlusShift (PlusShift (PlusShift (PlusZero : (z,z s s s,z s s s) plus)))"
   ]
  },
  {
   "cell_type": "code",
   "execution_count": null,
   "metadata": {},
   "outputs": [],
   "source": [
    "rev proof (Cons (0, Cons (1, Cons (2, Nil)))) Nil"
   ]
  },
  {
   "cell_type": "markdown",
   "metadata": {
    "slideshow": {
     "slide_type": "fragment"
    }
   },
   "source": [
    "* We have to construct proof by hand :-(\n",
    "  + Other FP languages (Haskell, Agda, Idris, F*, etc) construct automatic proofs.\n",
    "  + Register for **Proofs and Programs** course next sem to learn more!"
   ]
  },
  {
   "cell_type": "markdown",
   "metadata": {
    "slideshow": {
     "slide_type": "slide"
    }
   },
   "source": [
    "## Trees\n",
    "\n",
    "Here is an unconstrained tree data type:"
   ]
  },
  {
   "cell_type": "code",
   "execution_count": null,
   "metadata": {},
   "outputs": [],
   "source": [
    "type 'a tree = \n",
    "  | Empty\n",
    "  | Tree of 'a tree * 'a * 'a tree"
   ]
  },
  {
   "cell_type": "code",
   "execution_count": null,
   "metadata": {},
   "outputs": [],
   "source": [
    "Tree (Empty, 1, Tree (Empty, 2, Tree (Empty, 3, Empty)));; (* Right skewed *)\n",
    "Tree (Tree (Tree (Empty, 3, Empty), 2, Empty), 1, Empty);; (* Left skewed *)\n",
    "Tree (Tree (Tree (Empty, 3, Empty), 2, Tree (Empty, 3, Empty)), \n",
    "      1, \n",
    "      Tree (Tree (Empty, 3, Empty), 2, Tree (Empty, 3, Empty))) (* Perfectly balanced tree *)"
   ]
  },
  {
   "cell_type": "markdown",
   "metadata": {
    "slideshow": {
     "slide_type": "slide"
    }
   },
   "source": [
    "## Tree operations"
   ]
  },
  {
   "cell_type": "code",
   "execution_count": null,
   "metadata": {},
   "outputs": [],
   "source": [
    "let rec depth t = match t with\n",
    "  | Empty -> 0\n",
    "  | Tree (l,_,r) -> 1 + max (depth l) (depth r)"
   ]
  },
  {
   "cell_type": "code",
   "execution_count": null,
   "metadata": {},
   "outputs": [],
   "source": [
    "let top t = match t with\n",
    "  | Empty -> None \n",
    "  | Tree (_,v,_) -> Some v"
   ]
  },
  {
   "cell_type": "markdown",
   "metadata": {},
   "source": [
    "`swivel` is mirror image of the tree"
   ]
  },
  {
   "cell_type": "code",
   "execution_count": null,
   "metadata": {},
   "outputs": [],
   "source": [
    "let rec swivel t = match t with\n",
    "  | Empty -> Empty\n",
    "  | Tree (l,v,r) -> Tree (swivel r, v, swivel l)"
   ]
  },
  {
   "cell_type": "markdown",
   "metadata": {
    "slideshow": {
     "slide_type": "slide"
    }
   },
   "source": [
    "## Perfectly balanced tree using GADTs"
   ]
  },
  {
   "cell_type": "code",
   "execution_count": null,
   "metadata": {},
   "outputs": [],
   "source": [
    "type ('a,_) gtree = \n",
    "  | EmptyG : ('a,z) gtree\n",
    "  | TreeG  : ('a,'n) gtree * 'a * ('a,'n) gtree -> ('a,'n s) gtree"
   ]
  },
  {
   "cell_type": "code",
   "execution_count": null,
   "metadata": {},
   "outputs": [],
   "source": [
    "TreeG (TreeG (TreeG (EmptyG, 3, EmptyG), 2, TreeG (EmptyG, 3, EmptyG)), \n",
    "       1, \n",
    "       TreeG (TreeG (EmptyG, 3, EmptyG), 2, TreeG (EmptyG, 3, EmptyG)))"
   ]
  },
  {
   "cell_type": "markdown",
   "metadata": {
    "slideshow": {
     "slide_type": "slide"
    }
   },
   "source": [
    "## Operations on `gtree`"
   ]
  },
  {
   "cell_type": "code",
   "execution_count": null,
   "metadata": {},
   "outputs": [],
   "source": [
    "let rec depthG : type n. ('a,n) gtree -> int =\n",
    "  fun t -> match t with\n",
    "  | EmptyG -> 0\n",
    "  | TreeG (l,_,_) -> 1 + depthG l"
   ]
  },
  {
   "cell_type": "code",
   "execution_count": null,
   "metadata": {},
   "outputs": [],
   "source": [
    "let topG : ('a, 'n s) gtree -> 'a = \n",
    "  fun t -> let TreeG(_,v,_) = t in v"
   ]
  },
  {
   "cell_type": "code",
   "execution_count": null,
   "metadata": {},
   "outputs": [],
   "source": [
    "let rec swivelG : type n.('a,n) gtree -> ('a,n) gtree = \n",
    "fun t -> match t with\n",
    "    EmptyG -> EmptyG\n",
    "  | TreeG (l,v,r) -> TreeG (swivelG r, v, swivelG l)"
   ]
  },
  {
   "cell_type": "markdown",
   "metadata": {
    "slideshow": {
     "slide_type": "slide"
    }
   },
   "source": [
    "## Zipping perfect trees"
   ]
  },
  {
   "cell_type": "code",
   "execution_count": null,
   "metadata": {},
   "outputs": [],
   "source": [
    "let rec zipTree :\n",
    "  type n.('a,n) gtree -> ('b,n) gtree -> ('a * 'b,n) gtree =\n",
    "  fun x y -> match x, y with\n",
    "      EmptyG, EmptyG -> EmptyG\n",
    "    | TreeG (l,v,r), TreeG (m,w,s) ->\n",
    "      TreeG (zipTree l m, (v,w), zipTree r s)"
   ]
  },
  {
   "cell_type": "markdown",
   "metadata": {
    "slideshow": {
     "slide_type": "slide"
    }
   },
   "source": [
    "<center>\n",
    "\n",
    "<h1 style=\"text-align:center\"> Fin. </h1>\n",
    "</center>"
   ]
  },
  {
   "cell_type": "markdown",
   "metadata": {
    "slideshow": {
     "slide_type": "slide"
    }
   },
   "source": [
    "<center>\n",
    "\n",
    "<h1 style=\"text-align:center\"> Extra Materials. </h1>\n",
    "</center>"
   ]
  },
  {
   "cell_type": "markdown",
   "metadata": {
    "slideshow": {
     "slide_type": "slide"
    }
   },
   "source": [
    "## Depth indexed tree (unbalanced)\n",
    "\n",
    "```ocaml\n",
    "type ('a,_) dtree =\n",
    "  | EmptyD : ('a,z) dtree\n",
    "  | TreeD : ('a,'m) dtree * 'a * ('a,'n) dtree \n",
    "            * ('m,'n,'o) max -> ('a,'o s) dtree\n",
    "```\n",
    "\n",
    "* The type `('m,'n,'o) max` $~\\equiv~$ `max('m,'n) = 'o` on type level church numerals.\n",
    "  + `('m,'n,'o) max` is **proof** that `'o` is the max of `'m` and `'n`.\n",
    "* `TreeD` carries a value of type `('m,'n,'o) max`\n",
    "  + This is **proof carrying code**\n",
    "  + Given `t = TreeD (l,v,r,p : ('m,'n,'o) max)`, we can prove that `t` has depth `'o s`."
   ]
  },
  {
   "cell_type": "markdown",
   "metadata": {
    "slideshow": {
     "slide_type": "slide"
    }
   },
   "source": [
    "## Equality GADT\n",
    "\n",
    "For defining `max` start with the **Equality GADT**.\n",
    "\n",
    "The equality GADT is the type:"
   ]
  },
  {
   "cell_type": "code",
   "execution_count": null,
   "metadata": {},
   "outputs": [],
   "source": [
    "type (_,_) eql = Refl : ('a,'a) eql"
   ]
  },
  {
   "cell_type": "markdown",
   "metadata": {
    "slideshow": {
     "slide_type": "fragment"
    }
   },
   "source": [
    "We can only instantiate `Refl` with types that are known to be equal."
   ]
  },
  {
   "cell_type": "code",
   "execution_count": null,
   "metadata": {},
   "outputs": [],
   "source": [
    "type t = int\n",
    "let _ = (Refl : (t,int) eql)"
   ]
  },
  {
   "cell_type": "markdown",
   "metadata": {
    "slideshow": {
     "slide_type": "slide"
    }
   },
   "source": [
    "## Equality GADT\n",
    "\n",
    "`Refl` cannot be instantiated at types known to be different or not known to be equal."
   ]
  },
  {
   "cell_type": "code",
   "execution_count": null,
   "metadata": {
    "slideshow": {
     "slide_type": "-"
    }
   },
   "outputs": [],
   "source": [
    "let _ = (Refl : (int,string) eql)"
   ]
  },
  {
   "cell_type": "code",
   "execution_count": null,
   "metadata": {},
   "outputs": [],
   "source": [
    "module M : sig type t end = struct type t = int end\n",
    "let _ = (Refl : (M.t,int) eql)"
   ]
  },
  {
   "cell_type": "markdown",
   "metadata": {
    "slideshow": {
     "slide_type": "slide"
    }
   },
   "source": [
    "## `max` type\n",
    "\n",
    "The following type definitions contain theorems about the `max` function."
   ]
  },
  {
   "cell_type": "code",
   "execution_count": null,
   "metadata": {},
   "outputs": [],
   "source": [
    "type (_,_,_) max =\n",
    "    MaxEq : ('a,'b) eql -> ('a,'b,'a) max\n",
    "  | MaxFlip : ('a,'b,'c) max -> ('b,'a,'c) max\n",
    "  | MaxSuc : ('a,'b,'a) max -> ('a s,'b,'a s) max"
   ]
  },
  {
   "cell_type": "markdown",
   "metadata": {
    "slideshow": {
     "slide_type": "slide"
    }
   },
   "source": [
    "## `max` type examples"
   ]
  },
  {
   "cell_type": "code",
   "execution_count": null,
   "metadata": {
    "slideshow": {
     "slide_type": "-"
    }
   },
   "outputs": [],
   "source": [
    "let m1 = MaxEq (Refl : (z, z) eql)"
   ]
  },
  {
   "cell_type": "code",
   "execution_count": null,
   "metadata": {
    "slideshow": {
     "slide_type": "fragment"
    }
   },
   "outputs": [],
   "source": [
    "let m2 = MaxSuc m1"
   ]
  },
  {
   "cell_type": "markdown",
   "metadata": {},
   "source": [
    "Given a proof that the max of `z` and `z` is `z`, I can prove that the max of `z s` and `z` is `z s`."
   ]
  },
  {
   "cell_type": "markdown",
   "metadata": {
    "slideshow": {
     "slide_type": "slide"
    }
   },
   "source": [
    "## `max` function on church numerals"
   ]
  },
  {
   "cell_type": "code",
   "execution_count": null,
   "metadata": {},
   "outputs": [],
   "source": [
    "let rec max : type a b c.(a,b,c) max -> a -> b -> c\n",
    "  = fun mx m n -> match mx,m with\n",
    "      MaxEq Refl , _    -> m\n",
    "    | MaxFlip mx', _    -> max mx' n m\n",
    "    | MaxSuc mx' , S m' -> S (max mx' m' n)"
   ]
  },
  {
   "cell_type": "code",
   "execution_count": null,
   "metadata": {},
   "outputs": [],
   "source": [
    "max (MaxSuc (MaxEq (Refl : (z,z) eql))) (S Z) Z"
   ]
  },
  {
   "cell_type": "markdown",
   "metadata": {
    "slideshow": {
     "slide_type": "slide"
    }
   },
   "source": [
    "## `max` function on church numerals"
   ]
  },
  {
   "cell_type": "code",
   "execution_count": null,
   "metadata": {},
   "outputs": [],
   "source": [
    "max (MaxSuc (MaxEq (Refl : (z,z) eql))) (S Z) Z"
   ]
  },
  {
   "cell_type": "markdown",
   "metadata": {},
   "source": [
    "* The `max` function seems a bit silly given that we need to provide the proof.\n",
    "  + We learn no new information. Proof already tells us that `z s > z`.\n",
    "* `max` function gets **term** level evidence from the **type** level proof. "
   ]
  },
  {
   "cell_type": "markdown",
   "metadata": {
    "slideshow": {
     "slide_type": "slide"
    }
   },
   "source": [
    "## Depth Indexed Tree"
   ]
  },
  {
   "cell_type": "code",
   "execution_count": null,
   "metadata": {},
   "outputs": [],
   "source": [
    "type ('a,_) dtree =\n",
    "    EmptyD : ('a,z) dtree\n",
    "  | TreeD : ('a,'m) dtree * 'a * ('a,'n) dtree * ('m,'n,'o) max \n",
    "    -> ('a,'o s) dtree"
   ]
  },
  {
   "cell_type": "markdown",
   "metadata": {
    "slideshow": {
     "slide_type": "slide"
    }
   },
   "source": [
    "## Operations on `dtree`"
   ]
  },
  {
   "cell_type": "code",
   "execution_count": null,
   "metadata": {},
   "outputs": [],
   "source": [
    "let rec depthD : type a n.(a,n) dtree -> n = function\n",
    "    EmptyD -> Z\n",
    "  | TreeD (l,_,r,mx) -> S (max mx (depthD l) (depthD r))"
   ]
  },
  {
   "cell_type": "code",
   "execution_count": null,
   "metadata": {},
   "outputs": [],
   "source": [
    "let topD : type a n.(a,n s) dtree -> a =\n",
    "  function TreeD (_,v,_,_) -> v"
   ]
  },
  {
   "cell_type": "code",
   "execution_count": null,
   "metadata": {},
   "outputs": [],
   "source": [
    "let rec swivelD :\n",
    "  type a n.(a,n) dtree -> (a,n) dtree = function\n",
    "    EmptyD -> EmptyD\n",
    "  | TreeD (l,v,r,m) ->\n",
    "    TreeD (swivelD r, v, swivelD l, MaxFlip m)"
   ]
  },
  {
   "cell_type": "markdown",
   "metadata": {
    "slideshow": {
     "slide_type": "slide"
    }
   },
   "source": [
    "## Adding lambdas to interpreter\n",
    "\n",
    "Let's add simply typed lambda calculus to our original int & bool expression evaluator."
   ]
  },
  {
   "cell_type": "code",
   "execution_count": null,
   "metadata": {},
   "outputs": [],
   "source": [
    "type _ typ = \n",
    "  | TInt : int typ\n",
    "  | TBool : bool typ\n",
    "  | TLam : 'a typ * 'b typ -> ('a -> 'b) typ\n",
    "\n",
    "type 'a value =\n",
    "  | VInt : int -> int value\n",
    "  | VBool : bool -> bool value\n",
    "  | VLam : ('a value -> 'b value) -> ('a -> 'b) value\n",
    "  \n",
    "and 'a expr =\n",
    "  | Var : string * 'a typ ->  'a expr\n",
    "  | App : ('a -> 'b) expr * 'a expr -> 'b expr\n",
    "  | Lam : string * 'a typ * 'b expr -> ('a -> 'b) expr\n",
    "  | Val : 'a value -> 'a expr\n",
    "  | Plus : int expr * int expr -> int expr\n",
    "  | Mult : int expr * int expr -> int expr\n",
    "  | Ite : bool expr * 'a expr * 'a expr -> 'a expr"
   ]
  },
  {
   "cell_type": "code",
   "execution_count": null,
   "metadata": {
    "slideshow": {
     "slide_type": "slide"
    }
   },
   "outputs": [],
   "source": [
    "let rec typ_eq : type a b. a typ -> b typ -> (a, b) eql option =\n",
    "  fun t1 t2 -> match t1, t2 with\n",
    "  | TInt, TInt -> Some Refl\n",
    "  | TBool, TBool -> Some Refl\n",
    "  | TLam (t1,t2), TLam (u1,u2) -> \n",
    "      begin match typ_eq t1 u1, typ_eq t2 u2 with\n",
    "      | Some Refl, Some Refl -> Some Refl\n",
    "      | _ -> None\n",
    "      end\n",
    "  | _ -> None"
   ]
  },
  {
   "cell_type": "code",
   "execution_count": null,
   "metadata": {
    "slideshow": {
     "slide_type": "slide"
    }
   },
   "outputs": [],
   "source": [
    "type env =\n",
    "  | Empty : env\n",
    "  | Extend : string * 'a typ * 'a value * env -> env"
   ]
  },
  {
   "cell_type": "markdown",
   "metadata": {
    "slideshow": {
     "slide_type": "slide"
    }
   },
   "source": [
    "## Evaluation\n",
    "\n",
    "```ocaml\n",
    "eval : a expr -> a value\n",
    "```\n",
    "\n",
    "* Limitations:\n",
    "  + Evaluation is defined only on closed terms.\n",
    "  + Type checking for variables use done at runtime."
   ]
  },
  {
   "cell_type": "code",
   "execution_count": null,
   "metadata": {
    "slideshow": {
     "slide_type": "slide"
    }
   },
   "outputs": [],
   "source": [
    "let rec eval : type a. env -> a expr -> a value = \n",
    "  fun env e -> match e with\n",
    "  | Var (s,t) -> \n",
    "     begin match env with\n",
    "      | Empty -> failwith \"not a closed term\"\n",
    "      | Extend (s',t',v,env') ->\n",
    "          if s = s' then \n",
    "            match typ_eq t t' with\n",
    "            | Some Refl -> v\n",
    "            | None -> failwith \"types don't match\"\n",
    "          else eval env' e\n",
    "     end\n",
    "  | App (e1,e2) -> \n",
    "    let VLam f = eval env e1 in\n",
    "    f (eval env e2)\n",
    "  | Lam (s,t,e) -> \n",
    "      VLam (fun v -> eval (Extend (s, t, v, env)) e)\n",
    "  | Val v -> v\n",
    "  | Plus (e1, e2) ->\n",
    "    let VInt i1, VInt i2 = eval env e1, eval env e2 in\n",
    "    VInt (i1 + i2)\n",
    "  | Mult (e1, e2) ->\n",
    "    let VInt i1, VInt i2 = eval env e1, eval env e2 in\n",
    "    VInt (i1 * i2)\n",
    "  | Ite (p,e1,e2) ->\n",
    "    let VBool b = eval env p in\n",
    "    if b then eval env e1 else eval env e2\n",
    "    \n",
    "let eval e = eval Empty e"
   ]
  },
  {
   "cell_type": "markdown",
   "metadata": {},
   "source": [
    "## Typing catches errors"
   ]
  },
  {
   "cell_type": "code",
   "execution_count": null,
   "metadata": {
    "slideshow": {
     "slide_type": "slide"
    }
   },
   "outputs": [],
   "source": [
    "eval @@ App (Lam (\"x\",TInt,Val(VInt 0)), (Val (VInt 10)))"
   ]
  },
  {
   "cell_type": "code",
   "execution_count": null,
   "metadata": {},
   "outputs": [],
   "source": [
    "eval @@ App (Lam (\"x\",TInt,Val(VInt 0)), (Val (VBool 10)))"
   ]
  },
  {
   "cell_type": "markdown",
   "metadata": {},
   "source": [
    "## Runtime errors"
   ]
  },
  {
   "cell_type": "code",
   "execution_count": null,
   "metadata": {
    "slideshow": {
     "slide_type": "slide"
    }
   },
   "outputs": [],
   "source": [
    "eval @@ App (Lam (\"x\",TBool, Plus (Val (VInt 10), Var (\"x\", TInt))), Val (VBool true))"
   ]
  },
  {
   "cell_type": "code",
   "execution_count": null,
   "metadata": {
    "scrolled": true
   },
   "outputs": [],
   "source": [
    "eval @@ Var (\"x\", TInt)"
   ]
  },
  {
   "cell_type": "markdown",
   "metadata": {},
   "source": [
    "## Fixing the runtime errors\n",
    "\n",
    "* Use the host language (OCaml) features for encoding the features in the object language (lambda calculus).\n",
    "  + The feature we use here is abstraction.\n",
    "  + Use `fun (x : TInt) -> e` to encode `Lam \"x\" TInt e`"
   ]
  },
  {
   "cell_type": "code",
   "execution_count": null,
   "metadata": {},
   "outputs": [],
   "source": [
    "type 'a value =\n",
    "  | VInt : int -> int value\n",
    "  | VBool : bool -> bool value\n",
    "  | VLam : ('a expr -> 'b expr) -> ('a -> 'b) value\n",
    "  \n",
    "and 'a expr =\n",
    "  | App : ('a -> 'b) expr * 'a expr -> 'b expr\n",
    "  | Val : 'a value -> 'a expr\n",
    "  | Plus : int expr * int expr -> int expr\n",
    "  | Mult : int expr * int expr -> int expr\n",
    "  | Ite : bool expr * 'a expr * 'a expr -> 'a expr"
   ]
  },
  {
   "cell_type": "markdown",
   "metadata": {
    "slideshow": {
     "slide_type": "slide"
    }
   },
   "source": [
    "## Higher Order Abstract Syntax\n",
    "\n",
    "* This technique is known as Higher-Order Abstract Syntax (HOAS).\n",
    "* Downside is that we can no longer **look inside** the abstraction.\n",
    "  + In the term `Lam f`, we cannot do anything on `f` except apply it. \n",
    "  + Cannot implement full-beta reduction for example \n",
    "  + or do code transformation inside the body of lambda. "
   ]
  },
  {
   "cell_type": "markdown",
   "metadata": {
    "slideshow": {
     "slide_type": "slide"
    }
   },
   "source": [
    "## Evaluator"
   ]
  },
  {
   "cell_type": "code",
   "execution_count": null,
   "metadata": {},
   "outputs": [],
   "source": [
    "let rec eval : type a. a expr -> a value = \n",
    "  fun e -> match e with\n",
    "  | App (e1,e2) -> \n",
    "    let VLam f = eval e1 in\n",
    "    eval (f (Val (eval e2)))\n",
    "  | Val v -> v\n",
    "  | Plus (e1, e2) ->\n",
    "    let VInt i1, VInt i2 = eval e1, eval e2 in\n",
    "    VInt (i1 + i2)\n",
    "  | Mult (e1, e2) ->\n",
    "    let VInt i1, VInt i2 = eval e1, eval e2 in\n",
    "    VInt (i1 * i2)\n",
    "  | Ite (p,e1,e2) ->\n",
    "    let VBool b = eval p in\n",
    "    if b then eval e1 else eval e2"
   ]
  },
  {
   "cell_type": "markdown",
   "metadata": {
    "slideshow": {
     "slide_type": "slide"
    }
   },
   "source": [
    "## Static errors remain static"
   ]
  },
  {
   "cell_type": "code",
   "execution_count": null,
   "metadata": {},
   "outputs": [],
   "source": [
    "eval @@ App (Val (VLam (fun x -> Val(VInt 0))), (Val (VInt 10)))"
   ]
  },
  {
   "cell_type": "code",
   "execution_count": null,
   "metadata": {
    "scrolled": true
   },
   "outputs": [],
   "source": [
    "eval @@ App (Val (VLam (fun x -> Val(VInt 0))), (Val (VBool 10)))"
   ]
  },
  {
   "cell_type": "markdown",
   "metadata": {
    "slideshow": {
     "slide_type": "slide"
    }
   },
   "source": [
    "## Dynamic errors also become static"
   ]
  },
  {
   "cell_type": "code",
   "execution_count": null,
   "metadata": {},
   "outputs": [],
   "source": [
    "eval @@ App (Val (VLam (fun (x : bool expr) -> Plus (Val (VInt 10), x))), Val (VBool true))"
   ]
  }
 ],
 "metadata": {
  "celltoolbar": "Slideshow",
  "kernelspec": {
   "display_name": "OCaml 4.10",
   "language": "OCaml",
   "name": "ocaml-jupyter"
  },
  "language_info": {
   "codemirror_mode": "text/x-ocaml",
   "file_extension": ".ml",
   "mimetype": "text/x-ocaml",
   "name": "OCaml",
   "nbconverter_exporter": null,
   "pygments_lexer": "OCaml",
   "version": "4.10.0"
  }
 },
 "nbformat": 4,
 "nbformat_minor": 2
}
